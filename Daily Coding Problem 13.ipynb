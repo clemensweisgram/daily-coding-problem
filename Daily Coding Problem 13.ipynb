{
 "cells": [
  {
   "cell_type": "markdown",
   "metadata": {},
   "source": [
    "## Daily Coding Problem: Problem #76 [Medium]"
   ]
  },
  {
   "cell_type": "markdown",
   "metadata": {},
   "source": [
    "This problem was asked by Google.\n",
    "\n",
    "You are given an N by M 2D matrix of lowercase letters. Determine the minimum number of columns that can be removed to ensure that each row is ordered from top to bottom lexicographically. That is, the letter at each column is lexicographically later as you go down each row. It does not matter whether each row itself is ordered lexicographically.\n",
    "\n",
    "For example, given the following table:\n",
    "\n",
    "cba <br>\n",
    "daf <br>\n",
    "ghi <br> <br>\n",
    "This is not ordered because of the a in the center. We can remove the second column to make it ordered:\n",
    "\n",
    "ca <br>\n",
    "df <br>\n",
    "gi <br> <br>\n",
    "So your function should return 1, since we only needed to remove 1 column.\n",
    "\n",
    "As another example, given the following table:\n",
    "\n",
    "abcdef <br>\n",
    "Your function should return 0, since the rows are already ordered (there's only one row).\n",
    "\n",
    "As another example, given the following table:\n",
    "\n",
    "zyx <br>\n",
    "wvu <br>\n",
    "tsr <br> <br>\n",
    "Your function should return 3, since we would need to remove all the columns to order it.\n",
    "\n"
   ]
  },
  {
   "cell_type": "code",
   "execution_count": 1,
   "metadata": {},
   "outputs": [
    {
     "name": "stdout",
     "output_type": "stream",
     "text": [
      "1\n",
      "3\n",
      "0\n"
     ]
    }
   ],
   "source": [
    "import pandas as pd\n",
    "import numpy as np\n",
    "\n",
    "lst1 = [[\"c\",\"b\",\"a\"],[\"d\",\"a\",\"f\"],[\"g\",\"h\",\"i\"]]\n",
    "lst2 = [[\"z\",\"y\",\"x\"],[\"w\",\"v\",\"u\"],[\"t\",\"s\",\"r\"]]\n",
    "lst3 = [[\"a\",\"b\",\"c\",\"d\",\"e\"]]\n",
    "\n",
    "# helper function to get unique elements\n",
    "def unique(list1): \n",
    "    list_set = set(list1) \n",
    "    unique_list = (list(list_set)) \n",
    "    return unique_list\n",
    "\n",
    "# user-defined function\n",
    "def my_function(lst):\n",
    "    \n",
    "    # intializing dataframe and empty list \n",
    "    df = pd.DataFrame(lst)\n",
    "    drop_index = []\n",
    "    \n",
    "    # iterating over each col and row\n",
    "    for j in range(len(df.columns)):\n",
    "        for i in range(1,len(df.index)):\n",
    "            \n",
    "            # checking order of letters\n",
    "            if df.iloc[i,j] < df.iloc[i-1,j]:\n",
    "                drop_index.append(df.columns[j])\n",
    "                drop_index = unique(drop_index)\n",
    "    \n",
    "    # returning number of dropped cols\n",
    "    return len(drop_index)\n",
    "\n",
    "print(my_function(lst1))\n",
    "print(my_function(lst2))\n",
    "print(my_function(lst3))"
   ]
  }
 ],
 "metadata": {
  "kernelspec": {
   "display_name": "Python 3",
   "language": "python",
   "name": "python3"
  },
  "language_info": {
   "codemirror_mode": {
    "name": "ipython",
    "version": 3
   },
   "file_extension": ".py",
   "mimetype": "text/x-python",
   "name": "python",
   "nbconvert_exporter": "python",
   "pygments_lexer": "ipython3",
   "version": "3.8.3"
  },
  "varInspector": {
   "cols": {
    "lenName": 16,
    "lenType": 16,
    "lenVar": 40
   },
   "kernels_config": {
    "python": {
     "delete_cmd_postfix": "",
     "delete_cmd_prefix": "del ",
     "library": "var_list.py",
     "varRefreshCmd": "print(var_dic_list())"
    },
    "r": {
     "delete_cmd_postfix": ") ",
     "delete_cmd_prefix": "rm(",
     "library": "var_list.r",
     "varRefreshCmd": "cat(var_dic_list()) "
    }
   },
   "types_to_exclude": [
    "module",
    "function",
    "builtin_function_or_method",
    "instance",
    "_Feature"
   ],
   "window_display": false
  }
 },
 "nbformat": 4,
 "nbformat_minor": 4
}
