{
 "cells": [
  {
   "cell_type": "markdown",
   "metadata": {},
   "source": [
    "## Daily Coding Problem: Problem #152 [Medium]"
   ]
  },
  {
   "cell_type": "markdown",
   "metadata": {},
   "source": [
    "This problem was asked by Triplebyte.\n",
    "\n",
    "You are given n numbers as well as n probabilities that sum up to 1. Write a function to generate one of the numbers with its corresponding probability.\n",
    "\n",
    "For example, given the numbers [1, 2, 3, 4] and probabilities [0.1, 0.5, 0.2, 0.2], your function should return 1 10% of the time, 2 50% of the time, and 3 and 4 20% of the time.\n",
    "\n",
    "You can generate random numbers between 0 and 1 uniformly."
   ]
  },
  {
   "cell_type": "code",
   "execution_count": 1,
   "metadata": {},
   "outputs": [
    {
     "data": {
      "text/plain": [
       "4"
      ]
     },
     "execution_count": 1,
     "metadata": {},
     "output_type": "execute_result"
    }
   ],
   "source": [
    "from random import seed\n",
    "from random import random\n",
    "#seed(1)\n",
    "\n",
    "my_numbers = [1, 2, 3, 4]\n",
    "my_probabilities = [0.1, 0.5, 0.2, 0.2]\n",
    "\n",
    "def probability(numbers, probabilities):\n",
    "    \n",
    "    # getting random number between 0 and 1 (uniform distribution)\n",
    "    random_number = random()\n",
    "    \n",
    "    # initializing variable for cumulative probability\n",
    "    acc_probability = 0\n",
    "\n",
    "    # iterating over each probability\n",
    "    for i in range(len(probabilities)):\n",
    "        \n",
    "        # increasing cumultative probability \n",
    "        acc_probability += probabilities[i]\n",
    "        \n",
    "        # if the random number is lower than the cumulative probability then return the corresponding number and end the loop\n",
    "        if random_number < acc_probability:\n",
    "            return numbers[i]\n",
    "            break\n",
    "\n",
    "probability(my_numbers, my_probabilities)         "
   ]
  }
 ],
 "metadata": {
  "kernelspec": {
   "display_name": "Python 3",
   "language": "python",
   "name": "python3"
  },
  "language_info": {
   "codemirror_mode": {
    "name": "ipython",
    "version": 3
   },
   "file_extension": ".py",
   "mimetype": "text/x-python",
   "name": "python",
   "nbconvert_exporter": "python",
   "pygments_lexer": "ipython3",
   "version": "3.8.3"
  },
  "varInspector": {
   "cols": {
    "lenName": 16,
    "lenType": 16,
    "lenVar": 40
   },
   "kernels_config": {
    "python": {
     "delete_cmd_postfix": "",
     "delete_cmd_prefix": "del ",
     "library": "var_list.py",
     "varRefreshCmd": "print(var_dic_list())"
    },
    "r": {
     "delete_cmd_postfix": ") ",
     "delete_cmd_prefix": "rm(",
     "library": "var_list.r",
     "varRefreshCmd": "cat(var_dic_list()) "
    }
   },
   "types_to_exclude": [
    "module",
    "function",
    "builtin_function_or_method",
    "instance",
    "_Feature"
   ],
   "window_display": false
  }
 },
 "nbformat": 4,
 "nbformat_minor": 4
}
