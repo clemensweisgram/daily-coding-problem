{
 "cells": [
  {
   "cell_type": "markdown",
   "metadata": {},
   "source": [
    "## Daily Coding Problem: Problem #144 [Medium]"
   ]
  },
  {
   "cell_type": "markdown",
   "metadata": {},
   "source": [
    "This problem was asked by Google.\n",
    "\n",
    "Given an array of numbers and an index i, return the index of the nearest larger number of the number at index i, where distance is measured in array indices.\n",
    "\n",
    "For example, given [4, 1, 3, 5, 6] and index 0, you should return 3.\n",
    "\n",
    "If two distances to larger numbers are the equal, then return any one of them. If the array at i doesn't have a nearest larger integer, then return null."
   ]
  },
  {
   "cell_type": "code",
   "execution_count": 1,
   "metadata": {},
   "outputs": [
    {
     "data": {
      "text/plain": [
       "3"
      ]
     },
     "execution_count": 1,
     "metadata": {},
     "output_type": "execute_result"
    }
   ],
   "source": [
    "my_array = [4, 1, 3, 5, 6]\n",
    "my_index = 0\n",
    "\n",
    "def index_of_nearest_larger_number(array, index):\n",
    "    \n",
    "    # initialize empty variables for counting fowards and backwards in array to larger number\n",
    "    result_forward = None\n",
    "    result_backward = None\n",
    "\n",
    "    # iterating over all indices after selected index\n",
    "    for i in range(index+1,len(array)):\n",
    "        \n",
    "        # if the value at the index is greater than at the selected index, the forward larger number is found \n",
    "        if array[i] > array[index]:\n",
    "            result_forward = i\n",
    "            break\n",
    "            \n",
    "    # iterating over all indices before selected index\n",
    "    for j in range(index-1,-1,-1):\n",
    "        \n",
    "        # if the value at the index is greater than at the selected index, the backwardward larger number is found\n",
    "        if array[j] > array[index]:\n",
    "            result_backward = j\n",
    "            break\n",
    "\n",
    "    # if both results are None, there is no larger value in array\n",
    "    if result_forward == None and result_backward == None:\n",
    "        return None\n",
    "    \n",
    "    # if only forward value is None, backward value must be the nearest result\n",
    "    elif result_forward == None:\n",
    "        return result_backward\n",
    "    \n",
    "    # if only backward value is None, forward value must be the nearest result\n",
    "    elif result_backward == None:\n",
    "        return result_forward\n",
    "    \n",
    "    # if distance of forward value to selected index is less than absolute distance of backward value to selected index, forward value is the final result\n",
    "    # if distances are equal, just return forward result\n",
    "    elif result_forward - index <= abs(result_backward - index):\n",
    "        return result_forward\n",
    "    \n",
    "    # if distance of forward value to selected index is greater than absolute distance of backward value to selected index, backward value is the final result\n",
    "    elif result_forward - index > abs(result_backward - index):\n",
    "        return result_backward\n",
    "    \n",
    "    # if none of the conditions fits, return an error message\n",
    "    else:\n",
    "        print(\"Error\")\n",
    "        \n",
    "index_of_nearest_larger_number(my_array, my_index)"
   ]
  }
 ],
 "metadata": {
  "kernelspec": {
   "display_name": "Python 3",
   "language": "python",
   "name": "python3"
  },
  "language_info": {
   "codemirror_mode": {
    "name": "ipython",
    "version": 3
   },
   "file_extension": ".py",
   "mimetype": "text/x-python",
   "name": "python",
   "nbconvert_exporter": "python",
   "pygments_lexer": "ipython3",
   "version": "3.8.3"
  },
  "varInspector": {
   "cols": {
    "lenName": 16,
    "lenType": 16,
    "lenVar": 40
   },
   "kernels_config": {
    "python": {
     "delete_cmd_postfix": "",
     "delete_cmd_prefix": "del ",
     "library": "var_list.py",
     "varRefreshCmd": "print(var_dic_list())"
    },
    "r": {
     "delete_cmd_postfix": ") ",
     "delete_cmd_prefix": "rm(",
     "library": "var_list.r",
     "varRefreshCmd": "cat(var_dic_list()) "
    }
   },
   "types_to_exclude": [
    "module",
    "function",
    "builtin_function_or_method",
    "instance",
    "_Feature"
   ],
   "window_display": false
  }
 },
 "nbformat": 4,
 "nbformat_minor": 4
}
