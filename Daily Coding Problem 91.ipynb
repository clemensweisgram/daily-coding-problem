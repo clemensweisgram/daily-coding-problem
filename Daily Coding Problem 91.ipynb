{
 "cells": [
  {
   "cell_type": "markdown",
   "metadata": {},
   "source": [
    "## Daily Coding Problem: Problem #228 [Medium]"
   ]
  },
  {
   "cell_type": "markdown",
   "metadata": {},
   "source": [
    "This problem was asked by Twitter.\n",
    "\n",
    "Given a list of numbers, create an algorithm that arranges them in order to form the largest possible integer. For example, given [10, 7, 76, 415], you should return 77641510."
   ]
  },
  {
   "cell_type": "code",
   "execution_count": 1,
   "metadata": {},
   "outputs": [
    {
     "data": {
      "text/plain": [
       "77641510"
      ]
     },
     "execution_count": 1,
     "metadata": {},
     "output_type": "execute_result"
    }
   ],
   "source": [
    "my_lst = [10, 7, 76, 415]\n",
    "\n",
    "import itertools\n",
    "\n",
    "def largest_possible_integer(lst):\n",
    "\n",
    "    # converting integers in list to strings\n",
    "    lst_str = [str(i) for i in lst]\n",
    "\n",
    "    # initializing variable for largest integer\n",
    "    largest_int = 0\n",
    "\n",
    "    # getting all permutations of the list elements\n",
    "    permutations = [int(''.join(i)) for i in itertools.permutations(lst_str, len(lst))]\n",
    "\n",
    "    # iterating over all permutations\n",
    "    for j in permutations:\n",
    "        \n",
    "        # checking if the current permutation is larger than the so far largest\n",
    "        if j > largest_int:\n",
    "            \n",
    "            # replacing the largest integer variable\n",
    "            largest_int = j\n",
    "\n",
    "    return largest_int\n",
    "\n",
    "largest_possible_integer(my_lst)"
   ]
  }
 ],
 "metadata": {
  "kernelspec": {
   "display_name": "Python 3",
   "language": "python",
   "name": "python3"
  },
  "language_info": {
   "codemirror_mode": {
    "name": "ipython",
    "version": 3
   },
   "file_extension": ".py",
   "mimetype": "text/x-python",
   "name": "python",
   "nbconvert_exporter": "python",
   "pygments_lexer": "ipython3",
   "version": "3.8.3"
  },
  "varInspector": {
   "cols": {
    "lenName": 16,
    "lenType": 16,
    "lenVar": 40
   },
   "kernels_config": {
    "python": {
     "delete_cmd_postfix": "",
     "delete_cmd_prefix": "del ",
     "library": "var_list.py",
     "varRefreshCmd": "print(var_dic_list())"
    },
    "r": {
     "delete_cmd_postfix": ") ",
     "delete_cmd_prefix": "rm(",
     "library": "var_list.r",
     "varRefreshCmd": "cat(var_dic_list()) "
    }
   },
   "types_to_exclude": [
    "module",
    "function",
    "builtin_function_or_method",
    "instance",
    "_Feature"
   ],
   "window_display": false
  }
 },
 "nbformat": 4,
 "nbformat_minor": 4
}
