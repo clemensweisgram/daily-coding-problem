{
 "cells": [
  {
   "cell_type": "markdown",
   "metadata": {},
   "source": [
    "## Daily Coding Problem: Problem #214 [Easy]"
   ]
  },
  {
   "cell_type": "markdown",
   "metadata": {},
   "source": [
    "This problem was asked by Stripe.\n",
    "\n",
    "Given an integer n, return the length of the longest consecutive run of 1s in its binary representation.\n",
    "\n",
    "For example, given 156, you should return 3."
   ]
  },
  {
   "cell_type": "code",
   "execution_count": 1,
   "metadata": {},
   "outputs": [
    {
     "data": {
      "text/plain": [
       "3"
      ]
     },
     "execution_count": 1,
     "metadata": {},
     "output_type": "execute_result"
    }
   ],
   "source": [
    "my_n = 156\n",
    "\n",
    "def longest_1s_in_bin(n):\n",
    "\n",
    "    # initializing counters\n",
    "    counter = 0\n",
    "    max_counter = 0\n",
    "\n",
    "    # iterating over each position in binary string of integer (starting at 1)\n",
    "    for i in range(1,len(bin(n))):\n",
    "\n",
    "        # checking whether a new counter needs to start beacuse a new run of 1s starts. Increasing counter if so\n",
    "        if bin(n)[i] == \"1\" and bin(n)[i-1] !=  \"1\":\n",
    "            counter = 1\n",
    "\n",
    "        # checking if the current position is a 1. Increasing counter if so\n",
    "        elif bin(n)[i] == \"1\":\n",
    "            counter += 1\n",
    "\n",
    "        # checking whether the counter is greater than the max_counter and adjusting accordingly\n",
    "        if counter > max_counter:\n",
    "            max_counter = counter\n",
    "                \n",
    "    return max_counter\n",
    "\n",
    "longest_1s_in_bin(my_n)"
   ]
  }
 ],
 "metadata": {
  "kernelspec": {
   "display_name": "Python 3",
   "language": "python",
   "name": "python3"
  },
  "language_info": {
   "codemirror_mode": {
    "name": "ipython",
    "version": 3
   },
   "file_extension": ".py",
   "mimetype": "text/x-python",
   "name": "python",
   "nbconvert_exporter": "python",
   "pygments_lexer": "ipython3",
   "version": "3.8.3"
  },
  "varInspector": {
   "cols": {
    "lenName": 16,
    "lenType": 16,
    "lenVar": 40
   },
   "kernels_config": {
    "python": {
     "delete_cmd_postfix": "",
     "delete_cmd_prefix": "del ",
     "library": "var_list.py",
     "varRefreshCmd": "print(var_dic_list())"
    },
    "r": {
     "delete_cmd_postfix": ") ",
     "delete_cmd_prefix": "rm(",
     "library": "var_list.r",
     "varRefreshCmd": "cat(var_dic_list()) "
    }
   },
   "types_to_exclude": [
    "module",
    "function",
    "builtin_function_or_method",
    "instance",
    "_Feature"
   ],
   "window_display": false
  }
 },
 "nbformat": 4,
 "nbformat_minor": 4
}
