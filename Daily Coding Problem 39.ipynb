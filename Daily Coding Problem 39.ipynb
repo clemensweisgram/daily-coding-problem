{
 "cells": [
  {
   "cell_type": "markdown",
   "metadata": {},
   "source": [
    "## Daily Coding Problem: Problem #143 [Medium]"
   ]
  },
  {
   "cell_type": "markdown",
   "metadata": {},
   "source": [
    "This problem was asked by Amazon.\n",
    "\n",
    "Given a pivot x, and a list lst, partition the list into three parts.\n",
    "\n",
    "The first part contains all elements in lst that are less than x<br>\n",
    "The second part contains all elements in lst that are equal to x<br>\n",
    "The third part contains all elements in lst that are larger than x<br>\n",
    "\n",
    "Ordering within a part can be arbitrary.\n",
    "\n",
    "For example, given x = 10 and lst = [9, 12, 3, 5, 14, 10, 10], one partition may be [9, 3, 5, 10, 10, 12, 14]."
   ]
  },
  {
   "cell_type": "code",
   "execution_count": 1,
   "metadata": {},
   "outputs": [
    {
     "name": "stdout",
     "output_type": "stream",
     "text": [
      "[3, 5, 9, 10, 10, 12, 14]\n",
      "[9, 3, 5, 10, 10, 12, 14]\n"
     ]
    }
   ],
   "source": [
    "lst = [9, 12, 3, 5, 14, 10, 10]\n",
    "x = 10\n",
    "\n",
    "# quick & dirty\n",
    "result1 = lst.copy()\n",
    "result1.sort()\n",
    "print(result1)\n",
    "\n",
    "# maintaining order of list within each partition (using list comprehension)\n",
    "first = [i for i in lst if i < x]\n",
    "second = [i for i in lst if i == x]\n",
    "third = [i for i in lst if i > x]\n",
    "\n",
    "first += second + third\n",
    "\n",
    "print(first)"
   ]
  }
 ],
 "metadata": {
  "kernelspec": {
   "display_name": "Python 3",
   "language": "python",
   "name": "python3"
  },
  "language_info": {
   "codemirror_mode": {
    "name": "ipython",
    "version": 3
   },
   "file_extension": ".py",
   "mimetype": "text/x-python",
   "name": "python",
   "nbconvert_exporter": "python",
   "pygments_lexer": "ipython3",
   "version": "3.8.3"
  },
  "varInspector": {
   "cols": {
    "lenName": 16,
    "lenType": 16,
    "lenVar": 40
   },
   "kernels_config": {
    "python": {
     "delete_cmd_postfix": "",
     "delete_cmd_prefix": "del ",
     "library": "var_list.py",
     "varRefreshCmd": "print(var_dic_list())"
    },
    "r": {
     "delete_cmd_postfix": ") ",
     "delete_cmd_prefix": "rm(",
     "library": "var_list.r",
     "varRefreshCmd": "cat(var_dic_list()) "
    }
   },
   "types_to_exclude": [
    "module",
    "function",
    "builtin_function_or_method",
    "instance",
    "_Feature"
   ],
   "window_display": false
  }
 },
 "nbformat": 4,
 "nbformat_minor": 4
}
