{
 "cells": [
  {
   "cell_type": "markdown",
   "metadata": {},
   "source": [
    "## Daily Coding Problem: Problem #187 [Easy]"
   ]
  },
  {
   "cell_type": "markdown",
   "metadata": {},
   "source": [
    "This problem was asked by Google.\n",
    "\n",
    "You are given given a list of rectangles represented by min and max x- and y-coordinates. Compute whether or not a pair of rectangles overlap each other. If one rectangle completely covers another, it is considered overlapping.\n",
    "\n",
    "For example, given the following rectangles:\n",
    "\n",
    "{\n",
    "    \"top_left\": (1, 4),\n",
    "    \"dimensions\": (3, 3) # width, height\n",
    "},\n",
    "\n",
    "{\n",
    "    \"top_left\": (-1, 3),\n",
    "    \"dimensions\": (2, 1)\n",
    "},\n",
    "\n",
    "{\n",
    "    \"top_left\": (0, 5),\n",
    "    \"dimensions\": (4, 3)\n",
    "}\n",
    "\n",
    "return true as the first and third rectangle overlap each other."
   ]
  },
  {
   "cell_type": "code",
   "execution_count": 1,
   "metadata": {},
   "outputs": [
    {
     "name": "stdout",
     "output_type": "stream",
     "text": [
      "False\n",
      "True\n",
      "False\n",
      "False\n",
      "True\n",
      "False\n"
     ]
    }
   ],
   "source": [
    "rectangle1 = {\n",
    "    \"top_left\": (1, 4),\n",
    "    \"dimensions\": (3, 3) # width, height\n",
    "}\n",
    "\n",
    "rectangle2 = {\n",
    "    \"top_left\": (-1, 3),\n",
    "    \"dimensions\": (2, 1) # width, height\n",
    "}\n",
    "\n",
    "rectangle3 = {\n",
    "    \"top_left\": (2, 5),\n",
    "    \"dimensions\": (1, 1) # width, height\n",
    "} # adjusted from original question\n",
    "\n",
    "\n",
    "import numpy as np\n",
    "import pandas as pd\n",
    "\n",
    "# helper function to \"draw\" rectangles on a dataframe\n",
    "def draw_rectangle(rectangle, dataframe):\n",
    "    \n",
    "    # iterating over each element of dataframe to increase the value at the position by one\n",
    "    for i in range(rectangle[\"top_left\"][0], rectangle[\"top_left\"][0] + rectangle[\"dimensions\"][1]):\n",
    "        for j in range(rectangle[\"top_left\"][1], rectangle[\"top_left\"][1] + rectangle[\"dimensions\"][0]):\n",
    "            dataframe.iloc[i,j] += 0.5\n",
    "            \n",
    "    return dataframe\n",
    "\n",
    "def overlap(rectangle1, rectangle2):\n",
    "    \n",
    "    # creating dataframe with all zero values (with necessary size as the maximum of width and height)\n",
    "    df = pd.DataFrame(0, index=np.arange(max(rectangle1[\"top_left\"][0] + rectangle1[\"dimensions\"][1], rectangle2[\"top_left\"][0] + rectangle2[\"dimensions\"][1])), columns=np.arange(max(rectangle1[\"top_left\"][1] + rectangle1[\"dimensions\"][0], rectangle2[\"top_left\"][1] + rectangle2[\"dimensions\"][0])))\n",
    "\n",
    "    # \"drawing\" both rectangles on dataframe\n",
    "    draw_rectangle(rectangle1, df)\n",
    "    draw_rectangle(rectangle2, df)\n",
    "    \n",
    "    # defining the area of smaller rectangle that needs to be full covered\n",
    "    min_area = min(rectangle1[\"dimensions\"][0] * rectangle1[\"dimensions\"][1], rectangle2[\"dimensions\"][0] * rectangle2[\"dimensions\"][1])\n",
    "    \n",
    "    # inititializing counter for overlap area\n",
    "    overlap_counter = 0\n",
    "    \n",
    "    # iterating over each element in dataframe to check whether it is an overlapping element\n",
    "    for i in range(len(df.index)):\n",
    "        for j in range(len(df.columns)):\n",
    "            if df.iloc[i,j] == 1:\n",
    "                overlap_counter += 1\n",
    "\n",
    "\n",
    "    # if the overlap counter is equal to the area of the smaller rectangle, it is fully covered\n",
    "    if overlap_counter == min_area:\n",
    "        return True\n",
    "    else:\n",
    "        return False\n",
    "\n",
    "for i in [rectangle1, rectangle2, rectangle3]:\n",
    "    for j in [rectangle1, rectangle2, rectangle3]:\n",
    "        if i != j:\n",
    "            print(overlap(i, j))\n",
    "\n",
    "# question authors apparently define coordinates differently because rectangle 1 and rectangle 3 are not overlapping in my understanding of coordinates "
   ]
  }
 ],
 "metadata": {
  "kernelspec": {
   "display_name": "Python 3",
   "language": "python",
   "name": "python3"
  },
  "language_info": {
   "codemirror_mode": {
    "name": "ipython",
    "version": 3
   },
   "file_extension": ".py",
   "mimetype": "text/x-python",
   "name": "python",
   "nbconvert_exporter": "python",
   "pygments_lexer": "ipython3",
   "version": "3.8.3"
  },
  "varInspector": {
   "cols": {
    "lenName": 16,
    "lenType": 16,
    "lenVar": 40
   },
   "kernels_config": {
    "python": {
     "delete_cmd_postfix": "",
     "delete_cmd_prefix": "del ",
     "library": "var_list.py",
     "varRefreshCmd": "print(var_dic_list())"
    },
    "r": {
     "delete_cmd_postfix": ") ",
     "delete_cmd_prefix": "rm(",
     "library": "var_list.r",
     "varRefreshCmd": "cat(var_dic_list()) "
    }
   },
   "types_to_exclude": [
    "module",
    "function",
    "builtin_function_or_method",
    "instance",
    "_Feature"
   ],
   "window_display": false
  }
 },
 "nbformat": 4,
 "nbformat_minor": 4
}
