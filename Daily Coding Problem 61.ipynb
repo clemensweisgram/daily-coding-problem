{
 "cells": [
  {
   "cell_type": "markdown",
   "metadata": {},
   "source": [
    "## Daily Coding Problem: Problem #173 [Easy]"
   ]
  },
  {
   "cell_type": "markdown",
   "metadata": {},
   "source": [
    "This problem was asked by Stripe.\n",
    "\n",
    "Write a function to flatten a nested dictionary. Namespace the keys with a period.\n",
    "\n",
    "For example, given the following dictionary:\n",
    "\n",
    "{ <br>\n",
    "    \"key\": 3, <br>\n",
    "    \"foo\": { <br>\n",
    "        \"a\": 5, <br>\n",
    "        \"bar\": { <br>\n",
    "            \"baz\": 8 <br>\n",
    "        } <br>\n",
    "    } <br>\n",
    "} <br>\n",
    "it should become:\n",
    "\n",
    "{ <br>\n",
    "    \"key\": 3, <br>\n",
    "    \"foo.a\": 5, <br>\n",
    "    \"foo.bar.baz\": 8 <br>\n",
    "} <br>\n",
    "You can assume keys do not contain dots in them, i.e. no clobbering will occur."
   ]
  },
  {
   "cell_type": "code",
   "execution_count": 1,
   "metadata": {},
   "outputs": [
    {
     "data": {
      "text/plain": [
       "{'key': 3, 'foo.a': 5, 'foo.bar.baz': 8}"
      ]
     },
     "execution_count": 1,
     "metadata": {},
     "output_type": "execute_result"
    }
   ],
   "source": [
    "my_dict = {\n",
    "    \"key\": 3,\n",
    "    \"foo\": {\n",
    "        \"a\": 5,\n",
    "        \"bar\": {\n",
    "            \"baz\": 8\n",
    "        }\n",
    "    }\n",
    "}\n",
    "\n",
    "# helper function to reduce level of dictionaries by one\n",
    "def one_iteration(dict1):\n",
    "    \n",
    "    # initialize empty dictionary to store results\n",
    "    dict2 = {}\n",
    "\n",
    "    # iterating over each key-value pair in dictionary\n",
    "    for i in dict1:\n",
    "        \n",
    "        # if value is not a dictionary itself, just copy key-value pair to the new dictionary\n",
    "        if type(dict1[i]) != dict:\n",
    "            dict2[i] = dict1[i]\n",
    "            \n",
    "        # if value is a dictionariy itself, iterate over each key-value pair in it and separately add them to the new dictionary\n",
    "        elif type(dict1[i]) == dict:\n",
    "            for j in dict1[i].keys():\n",
    "                dict2[i + \".\" + j] = dict1[i][j] # adjusting name of new key-value pair with dot-notation\n",
    "    \n",
    "    return dict2\n",
    "\n",
    "\n",
    "# helper function to check whether more iterations of previous function are needed\n",
    "def need_iteration(dict1):\n",
    "    \n",
    "    # setting return value to False as default (no further iteration required)\n",
    "    dict_in_dict = False\n",
    "\n",
    "    # iterating over each key-value pair to see if value is a dictionary\n",
    "    for i in dict1:\n",
    "        if type(dict1[i]) == dict:\n",
    "            dict_in_dict = True # if dictionary, set return value to True\n",
    "            \n",
    "    return dict_in_dict\n",
    "\n",
    "\n",
    "# setting name right for subsequent while loop\n",
    "next_dict = my_dict\n",
    "\n",
    "# iterating as long as there are dictionaries stored as values\n",
    "while need_iteration(next_dict):\n",
    "    next_dict = one_iteration(next_dict)\n",
    "\n",
    "\n",
    "next_dict"
   ]
  }
 ],
 "metadata": {
  "kernelspec": {
   "display_name": "Python 3",
   "language": "python",
   "name": "python3"
  },
  "language_info": {
   "codemirror_mode": {
    "name": "ipython",
    "version": 3
   },
   "file_extension": ".py",
   "mimetype": "text/x-python",
   "name": "python",
   "nbconvert_exporter": "python",
   "pygments_lexer": "ipython3",
   "version": "3.8.3"
  },
  "varInspector": {
   "cols": {
    "lenName": 16,
    "lenType": 16,
    "lenVar": 40
   },
   "kernels_config": {
    "python": {
     "delete_cmd_postfix": "",
     "delete_cmd_prefix": "del ",
     "library": "var_list.py",
     "varRefreshCmd": "print(var_dic_list())"
    },
    "r": {
     "delete_cmd_postfix": ") ",
     "delete_cmd_prefix": "rm(",
     "library": "var_list.r",
     "varRefreshCmd": "cat(var_dic_list()) "
    }
   },
   "types_to_exclude": [
    "module",
    "function",
    "builtin_function_or_method",
    "instance",
    "_Feature"
   ],
   "window_display": false
  }
 },
 "nbformat": 4,
 "nbformat_minor": 4
}
