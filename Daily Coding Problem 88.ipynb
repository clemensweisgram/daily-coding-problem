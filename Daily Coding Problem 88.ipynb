{
 "cells": [
  {
   "cell_type": "markdown",
   "metadata": {},
   "source": [
    "## Daily Coding Problem: Problem #220 [Medium]"
   ]
  },
  {
   "cell_type": "markdown",
   "metadata": {},
   "source": [
    "This problem was asked by Square.\n",
    "\n",
    "In front of you is a row of N coins, with values v1, v1, ..., vn.\n",
    "\n",
    "You are asked to play the following game. You and an opponent take turns choosing either the first or last coin from the row, removing it from the row, and receiving the value of the coin.\n",
    "\n",
    "Write a program that returns the maximum amount of money you can win with certainty, if you move first, assuming your opponent plays optimally."
   ]
  },
  {
   "cell_type": "code",
   "execution_count": 1,
   "metadata": {},
   "outputs": [
    {
     "data": {
      "text/plain": [
       "19"
      ]
     },
     "execution_count": 1,
     "metadata": {},
     "output_type": "execute_result"
    }
   ],
   "source": [
    "coin_values = [8,10,2,6,9,1]\n",
    "\n",
    "# initializing counter for player's and opponent's coin values + counter for turns (odd for me, even for opponent)\n",
    "me = 0\n",
    "opponent = 0\n",
    "turn_counter = 1\n",
    "\n",
    "\n",
    "# helper function to determine the coin value to take and return the remaining coin values\n",
    "def turn(coin_values):\n",
    "\n",
    "    # checking if first or last position is higher\n",
    "    if coin_values[0] > coin_values[-1]:\n",
    "        \n",
    "        # defining top_value with the first value\n",
    "        top_value = coin_values[0]\n",
    "        \n",
    "        # removing the first element from the coin list\n",
    "        coin_values.pop(0)\n",
    "\n",
    "    # checking if first or last position is higher\n",
    "    elif coin_values[0] <= coin_values[-1]:\n",
    "        \n",
    "        # defining top_value with the last value\n",
    "        top_value = coin_values[-1]\n",
    "        \n",
    "        # removing the last element from the coin list\n",
    "        coin_values.pop(-1)\n",
    "       \n",
    "    # just being cautious\n",
    "    else:\n",
    "        print(\"Error\")\n",
    "\n",
    "    return coin_values, top_value\n",
    "\n",
    "\n",
    "# iterating as long as there are coins\n",
    "while coin_values != []:\n",
    "   \n",
    "    # checking if the counter is odd\n",
    "    if turn_counter % 2 != 0:\n",
    "        \n",
    "        # calling helper function and storing a variable\n",
    "        var = turn(coin_values)\n",
    "        \n",
    "        # assigning the shortened list to coin-values (for the next iteration)\n",
    "        coin_values = var[0]\n",
    "        \n",
    "        # adding the highest value to the player count\n",
    "        me += var[1]\n",
    "        \n",
    "        # increasing the turn count by one \n",
    "        turn_counter += 1\n",
    "    \n",
    "    # checking if the counter is even\n",
    "    elif turn_counter % 2 == 0:\n",
    "        \n",
    "        # calling helper function and storing a variable\n",
    "        var = turn(coin_values)\n",
    "        \n",
    "        # assigning the shortened list to coin-values (for the next iteration)\n",
    "        coin_values = var[0]\n",
    "        \n",
    "        # adding the highest value to the player count\n",
    "        opponent += var[1]\n",
    "        \n",
    "        # increasing the turn count by one \n",
    "        turn_counter += 1\n",
    "        \n",
    "me"
   ]
  }
 ],
 "metadata": {
  "kernelspec": {
   "display_name": "Python 3",
   "language": "python",
   "name": "python3"
  },
  "language_info": {
   "codemirror_mode": {
    "name": "ipython",
    "version": 3
   },
   "file_extension": ".py",
   "mimetype": "text/x-python",
   "name": "python",
   "nbconvert_exporter": "python",
   "pygments_lexer": "ipython3",
   "version": "3.8.3"
  },
  "varInspector": {
   "cols": {
    "lenName": 16,
    "lenType": 16,
    "lenVar": 40
   },
   "kernels_config": {
    "python": {
     "delete_cmd_postfix": "",
     "delete_cmd_prefix": "del ",
     "library": "var_list.py",
     "varRefreshCmd": "print(var_dic_list())"
    },
    "r": {
     "delete_cmd_postfix": ") ",
     "delete_cmd_prefix": "rm(",
     "library": "var_list.r",
     "varRefreshCmd": "cat(var_dic_list()) "
    }
   },
   "types_to_exclude": [
    "module",
    "function",
    "builtin_function_or_method",
    "instance",
    "_Feature"
   ],
   "window_display": false
  }
 },
 "nbformat": 4,
 "nbformat_minor": 4
}
