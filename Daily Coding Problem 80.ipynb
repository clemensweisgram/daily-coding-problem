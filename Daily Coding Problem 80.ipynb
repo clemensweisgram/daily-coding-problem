{
 "cells": [
  {
   "cell_type": "markdown",
   "metadata": {},
   "source": [
    "## Daily Coding Problem: Problem #203 [Medium]"
   ]
  },
  {
   "cell_type": "markdown",
   "metadata": {},
   "source": [
    "This problem was asked by Uber.\n",
    "\n",
    "Suppose an array sorted in ascending order is rotated at some pivot unknown to you beforehand. Find the minimum element in O(log N) time. You may assume the array does not contain duplicates.\n",
    "\n",
    "For example, given [5, 7, 10, 3, 4], return 3."
   ]
  },
  {
   "cell_type": "code",
   "execution_count": 1,
   "metadata": {},
   "outputs": [
    {
     "data": {
      "text/plain": [
       "3"
      ]
     },
     "execution_count": 1,
     "metadata": {},
     "output_type": "execute_result"
    }
   ],
   "source": [
    "array = [8, 9, 10, 3, 4]\n",
    "\n",
    "import math\n",
    "\n",
    "# strategy to keep O(log N) time is to split array in half in every step until there is only one element left\n",
    "def half_array(array):\n",
    "    \n",
    "    # differentiating according to length of remaining array\n",
    "    if len(array) > 2:\n",
    "        \n",
    "        # if the number in the middle of the array is greater than the last element of the array, the pivot must be in the latter half\n",
    "        if array[math.floor(len(array)/2)] > array[-1]:\n",
    "            \n",
    "            # setting the array to the half where the pivot happens\n",
    "            array = array[math.floor(len(array)/2):]\n",
    "            \n",
    "            # calling the function on that half again\n",
    "            array = half_array(array)\n",
    "        \n",
    "        # if the number in the middle of the array is smaller than the last element of the array, the pivot must be in the first half\n",
    "        elif array[math.floor(len(array)/2)] < array[-1]:\n",
    "\n",
    "            # setting the array to the half where the pivot happens\n",
    "            array = array[:math.floor(len(array)/2)+1]\n",
    "            \n",
    "            # calling the function on that half again\n",
    "            array = half_array(array)\n",
    "        else:\n",
    "            print(\"Error\")\n",
    "\n",
    "    # other steps requried when the array only has 2 elements left\n",
    "    elif len(array) == 2:\n",
    "        \n",
    "        # if the first element in the array is greater than the second element, the second must be the pivot point\n",
    "        if array[0] > array[1]:\n",
    "            array = array[1]\n",
    "\n",
    "        # if the first element in the array is smaller than the second element, the first must be the pivot point\n",
    "        elif array[0] < array[1]:\n",
    "            array = array[0]\n",
    "\n",
    "    else:\n",
    "        print(\"Error\")\n",
    "        \n",
    "    return array\n",
    "\n",
    "    \n",
    "half_array(array)"
   ]
  }
 ],
 "metadata": {
  "kernelspec": {
   "display_name": "Python 3",
   "language": "python",
   "name": "python3"
  },
  "language_info": {
   "codemirror_mode": {
    "name": "ipython",
    "version": 3
   },
   "file_extension": ".py",
   "mimetype": "text/x-python",
   "name": "python",
   "nbconvert_exporter": "python",
   "pygments_lexer": "ipython3",
   "version": "3.8.3"
  },
  "varInspector": {
   "cols": {
    "lenName": 16,
    "lenType": 16,
    "lenVar": 40
   },
   "kernels_config": {
    "python": {
     "delete_cmd_postfix": "",
     "delete_cmd_prefix": "del ",
     "library": "var_list.py",
     "varRefreshCmd": "print(var_dic_list())"
    },
    "r": {
     "delete_cmd_postfix": ") ",
     "delete_cmd_prefix": "rm(",
     "library": "var_list.r",
     "varRefreshCmd": "cat(var_dic_list()) "
    }
   },
   "types_to_exclude": [
    "module",
    "function",
    "builtin_function_or_method",
    "instance",
    "_Feature"
   ],
   "window_display": false
  }
 },
 "nbformat": 4,
 "nbformat_minor": 4
}
