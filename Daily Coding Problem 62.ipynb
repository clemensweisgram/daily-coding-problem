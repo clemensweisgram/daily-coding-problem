{
 "cells": [
  {
   "cell_type": "markdown",
   "metadata": {},
   "source": [
    "## Daily Coding Problem: Problem #175 [Easy]"
   ]
  },
  {
   "cell_type": "markdown",
   "metadata": {},
   "source": [
    "This problem was asked by Google.\n",
    "\n",
    "You are given a starting state start, a list of transition probabilities for a Markov chain, and a number of steps num_steps. Run the Markov chain starting from start for num_steps and compute the number of times we visited each state.\n",
    "\n",
    "For example, given the starting state a, number of steps 5000, and the following transition probabilities:\n",
    "\n",
    "[\n",
    "  ('a', 'a', 0.9), <br>\n",
    "  ('a', 'b', 0.075), <br>\n",
    "  ('a', 'c', 0.025), <br>\n",
    "  ('b', 'a', 0.15), <br>\n",
    "  ('b', 'b', 0.8), <br>\n",
    "  ('b', 'c', 0.05), <br>\n",
    "  ('c', 'a', 0.25), <br>\n",
    "  ('c', 'b', 0.25), <br>\n",
    "  ('c', 'c', 0.5) <br>\n",
    "] <br>\n",
    "One instance of running this Markov chain might produce { 'a': 3012, 'b': 1656, 'c': 332 }."
   ]
  },
  {
   "cell_type": "code",
   "execution_count": 1,
   "metadata": {},
   "outputs": [
    {
     "data": {
      "text/plain": [
       "{'a': 3008, 'b': 1637, 'c': 355}"
      ]
     },
     "execution_count": 1,
     "metadata": {},
     "output_type": "execute_result"
    }
   ],
   "source": [
    "from random import seed\n",
    "from random import random\n",
    "#seed(1)\n",
    "\n",
    "my_num_steps = 5000\n",
    "my_state = 'a'\n",
    "my_prob = [('a', 'a', 0.9), \n",
    "        ('a', 'b', 0.075), \n",
    "        ('a', 'c', 0.025), \n",
    "        ('b', 'a', 0.15), \n",
    "        ('b', 'b', 0.8), \n",
    "        ('b', 'c', 0.05), \n",
    "        ('c', 'a', 0.25), \n",
    "        ('c', 'b', 0.25), \n",
    "        ('c', 'c', 0.5)] \n",
    "\n",
    "\n",
    "# helper function to determine which state is next step based on given probabilities\n",
    "def next_step(state, prob):\n",
    "    \n",
    "    # setting a random number\n",
    "    rand = random()\n",
    "    \n",
    "    # setting cumulative probability to zero\n",
    "    cum_prob = 0\n",
    "\n",
    "    # iterating over each transition\n",
    "    for i in range(len(prob)):\n",
    "        \n",
    "        # only considering transitions where the starting point is equal to the current state\n",
    "        if prob[i][0] == state:\n",
    "            \n",
    "            # adding probability to cumulative probability\n",
    "            cum_prob += prob[i][2]\n",
    "            \n",
    "            # if random number is in cumulative probaility, return the new state\n",
    "            if rand < cum_prob:\n",
    "                return prob[i][1]\n",
    "\n",
    "def Markov_chain(num_steps, state, prob):\n",
    "    # initializing step counter\n",
    "    step_counter = 0   \n",
    "\n",
    "    # initializing empty dictionary for results\n",
    "    results = {}\n",
    "\n",
    "    # iterating over prob to find all possible states for results list\n",
    "    for i in range(len(prob)):\n",
    "        \n",
    "        # if the state is not yet in the results list, add it with a count of zero\n",
    "        if prob[i][0] not in results:\n",
    "            results[prob[i][0]] = 0\n",
    "\n",
    "    # while the step counter is lower than the requested number of steps\n",
    "    while step_counter < num_steps:\n",
    "        \n",
    "        # setting state to a new value accoring to the respective probabilities\n",
    "        state = next_step(state, prob)\n",
    "        \n",
    "        # increasing counter of resulting state by one\n",
    "        results[state] += 1\n",
    "        \n",
    "        # increasing step coutner by one\n",
    "        step_counter += 1\n",
    "\n",
    "    return results\n",
    "\n",
    "Markov_chain(my_num_steps, my_state, my_prob)"
   ]
  }
 ],
 "metadata": {
  "kernelspec": {
   "display_name": "Python 3",
   "language": "python",
   "name": "python3"
  },
  "language_info": {
   "codemirror_mode": {
    "name": "ipython",
    "version": 3
   },
   "file_extension": ".py",
   "mimetype": "text/x-python",
   "name": "python",
   "nbconvert_exporter": "python",
   "pygments_lexer": "ipython3",
   "version": "3.8.3"
  },
  "varInspector": {
   "cols": {
    "lenName": 16,
    "lenType": 16,
    "lenVar": 40
   },
   "kernels_config": {
    "python": {
     "delete_cmd_postfix": "",
     "delete_cmd_prefix": "del ",
     "library": "var_list.py",
     "varRefreshCmd": "print(var_dic_list())"
    },
    "r": {
     "delete_cmd_postfix": ") ",
     "delete_cmd_prefix": "rm(",
     "library": "var_list.r",
     "varRefreshCmd": "cat(var_dic_list()) "
    }
   },
   "types_to_exclude": [
    "module",
    "function",
    "builtin_function_or_method",
    "instance",
    "_Feature"
   ],
   "window_display": false
  }
 },
 "nbformat": 4,
 "nbformat_minor": 4
}
