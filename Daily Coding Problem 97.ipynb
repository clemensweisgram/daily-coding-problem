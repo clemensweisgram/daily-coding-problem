{
 "cells": [
  {
   "cell_type": "markdown",
   "metadata": {},
   "source": [
    "## Daily Coding Problem: Problem #252 [Easy]"
   ]
  },
  {
   "cell_type": "markdown",
   "metadata": {},
   "source": [
    "This problem was asked by Palantir.\n",
    "\n",
    "The ancient Egyptians used to express fractions as a sum of several terms where each numerator is one. For example, 4 / 13 can be represented as 1 / 4 + 1 / 18 + 1 / 468.\n",
    "\n",
    "Create an algorithm to turn an ordinary fraction a / b, where a < b, into an Egyptian fraction."
   ]
  },
  {
   "cell_type": "code",
   "execution_count": 1,
   "metadata": {},
   "outputs": [
    {
     "name": "stdout",
     "output_type": "stream",
     "text": [
      "1 / 4\n",
      "1 / 18\n",
      "1 / 468\n"
     ]
    }
   ],
   "source": [
    "my_fraction = 4 / 13\n",
    "\n",
    "# helper function\n",
    "def fraction_step(a):\n",
    "    \n",
    "    # initializing denominaator at 1\n",
    "    i = 1\n",
    "    \n",
    "    # iterating as long as 1 / denominator is greater than the fraction a\n",
    "    while 1 / i > a:    \n",
    "        \n",
    "        # increasing the denominator to reduce the value of the fraction 1 / i\n",
    "        i += 1\n",
    "\n",
    "    return i\n",
    "\n",
    "def find_smallest_egyptian(fraction):\n",
    "    \n",
    "    # iterating as long as the fraction is not equal to zero (approximated)\n",
    "    while fraction > 1e-15: # 1e-15 is approximation to zero because it will never reach exactly zero\n",
    "\n",
    "        # printing the fraction with 1 in the numerator\n",
    "        print(\"1 /\", fraction_step(fraction))\n",
    "        \n",
    "        # reducing the remaining fraction by the fraction with 1 in the numerator\n",
    "        fraction -= 1 / fraction_step(fraction)\n",
    "\n",
    "find_smallest_egyptian(my_fraction)   "
   ]
  }
 ],
 "metadata": {
  "kernelspec": {
   "display_name": "Python 3",
   "language": "python",
   "name": "python3"
  },
  "language_info": {
   "codemirror_mode": {
    "name": "ipython",
    "version": 3
   },
   "file_extension": ".py",
   "mimetype": "text/x-python",
   "name": "python",
   "nbconvert_exporter": "python",
   "pygments_lexer": "ipython3",
   "version": "3.8.3"
  },
  "varInspector": {
   "cols": {
    "lenName": 16,
    "lenType": 16,
    "lenVar": 40
   },
   "kernels_config": {
    "python": {
     "delete_cmd_postfix": "",
     "delete_cmd_prefix": "del ",
     "library": "var_list.py",
     "varRefreshCmd": "print(var_dic_list())"
    },
    "r": {
     "delete_cmd_postfix": ") ",
     "delete_cmd_prefix": "rm(",
     "library": "var_list.r",
     "varRefreshCmd": "cat(var_dic_list()) "
    }
   },
   "types_to_exclude": [
    "module",
    "function",
    "builtin_function_or_method",
    "instance",
    "_Feature"
   ],
   "window_display": false
  }
 },
 "nbformat": 4,
 "nbformat_minor": 4
}
