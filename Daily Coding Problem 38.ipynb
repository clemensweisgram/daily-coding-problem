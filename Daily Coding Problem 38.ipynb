{
 "cells": [
  {
   "cell_type": "markdown",
   "metadata": {},
   "source": [
    "## Daily Coding Problem: Problem #142 [Hard]"
   ]
  },
  {
   "cell_type": "markdown",
   "metadata": {},
   "source": [
    "This problem was asked by Google.\n",
    "\n",
    "You're given a string consisting solely of (, ), and *. * can represent either a (, ), or an empty string. Determine whether the parentheses are balanced.\n",
    "\n",
    "For example, (()* and (*) are balanced. )*( is not balanced."
   ]
  },
  {
   "cell_type": "code",
   "execution_count": 1,
   "metadata": {},
   "outputs": [
    {
     "data": {
      "text/plain": [
       "True"
      ]
     },
     "execution_count": 1,
     "metadata": {},
     "output_type": "execute_result"
    }
   ],
   "source": [
    "my_input_string = \"()*)()\"\n",
    "\n",
    "def balanced_parentheses(input_string):\n",
    "    \n",
    "    # initializing two counters\n",
    "    count = 0 # will represent number of opened but not closed parentheses\n",
    "    star_count = 0\n",
    "\n",
    "    # increasing count for every parentheses pair that is opened and decreasing for every that is closed\n",
    "    for i in input_string:\n",
    "        if i == \"(\":\n",
    "            count += 1\n",
    "        elif i == \")\":\n",
    "            count -= 1\n",
    "\n",
    "    # increasing star_count for every star\n",
    "    for i in input_string:\n",
    "        if i == \"*\":\n",
    "            star_count += 1\n",
    "\n",
    "    # subtracting star_count from count of opened but not closed parentheses\n",
    "    total_count = count - star_count\n",
    "\n",
    "    # return true if total count is zero or less and input_string starts and ends with allowed parenthesis or star\n",
    "    if total_count <= 0 and input_string[0] in [\"(\", \"*\"] and input_string[-1] in [\")\", \"*\"]:\n",
    "        return True\n",
    "    else:\n",
    "        return False\n",
    "\n",
    "balanced_parentheses(my_input_string)"
   ]
  }
 ],
 "metadata": {
  "kernelspec": {
   "display_name": "Python 3",
   "language": "python",
   "name": "python3"
  },
  "language_info": {
   "codemirror_mode": {
    "name": "ipython",
    "version": 3
   },
   "file_extension": ".py",
   "mimetype": "text/x-python",
   "name": "python",
   "nbconvert_exporter": "python",
   "pygments_lexer": "ipython3",
   "version": "3.8.3"
  },
  "varInspector": {
   "cols": {
    "lenName": 16,
    "lenType": 16,
    "lenVar": 40
   },
   "kernels_config": {
    "python": {
     "delete_cmd_postfix": "",
     "delete_cmd_prefix": "del ",
     "library": "var_list.py",
     "varRefreshCmd": "print(var_dic_list())"
    },
    "r": {
     "delete_cmd_postfix": ") ",
     "delete_cmd_prefix": "rm(",
     "library": "var_list.r",
     "varRefreshCmd": "cat(var_dic_list()) "
    }
   },
   "types_to_exclude": [
    "module",
    "function",
    "builtin_function_or_method",
    "instance",
    "_Feature"
   ],
   "window_display": false
  }
 },
 "nbformat": 4,
 "nbformat_minor": 4
}
