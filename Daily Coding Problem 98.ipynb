{
 "cells": [
  {
   "cell_type": "markdown",
   "metadata": {},
   "source": [
    "## Daily Coding Problem: Problem #250 [Medium]"
   ]
  },
  {
   "cell_type": "markdown",
   "metadata": {},
   "source": [
    "This problem was asked by Google.\n",
    "\n",
    "A cryptarithmetic puzzle is a mathematical game where the digits of some numbers are represented by letters. Each letter represents a unique digit.\n",
    "\n",
    "For example, a puzzle of the form:\n",
    "\n",
    "SEND + MORE = MONEY\n",
    "\n",
    "may have the solution:\n",
    "\n",
    "{'S': 9, 'E': 5, 'N': 6, 'D': 7, 'M': 1, 'O', 0, 'R': 8, 'Y': 2}\n",
    "Given a three-word puzzle like the one above, create an algorithm that finds a solution."
   ]
  },
  {
   "cell_type": "code",
   "execution_count": 2,
   "metadata": {},
   "outputs": [
    {
     "name": "stdout",
     "output_type": "stream",
     "text": [
      "6851 + 738 = 7589\n",
      "{'N': 5, 'S': 6, 'M': 0, 'R': 3, 'D': 1, 'E': 8, 'Y': 9, 'O': 7}\n"
     ]
    }
   ],
   "source": [
    "summand1 = \"SEND\"\n",
    "summand2 = \"MORE\"\n",
    "total = \"MONEY\"\n",
    "\n",
    "import random\n",
    "\n",
    "# initializing variables at arbitrary integers (that are not allow to add up)\n",
    "summand1_value = 1\n",
    "summand2_value = 1\n",
    "total_value = 1\n",
    "\n",
    "# iterating as long as the condition is not met\n",
    "while summand1_value + summand2_value != total_value:\n",
    "\n",
    "    # creating a dictionary with random integers between 0 and 9 (inclusive) for each unique letter in the words\n",
    "    value_dict = {k: random.randrange(10) for k in set(summand1 + summand2 + total)}\n",
    "\n",
    "    # checking whether the integers are unique (by comparing the lengths of the values to the length of the set of the values)\n",
    "    if len(value_dict.values()) == len(set(value_dict.values())):\n",
    "\n",
    "        # chaning the variables to strings\n",
    "        summand1_value = \"\"\n",
    "        summand2_value = \"\"\n",
    "        total_value = \"\"\n",
    "\n",
    "        # converting the word to a string of single-digit integers\n",
    "        for i in summand1:\n",
    "            summand1_value += str(value_dict[i])\n",
    "\n",
    "        # converting the string to an integer (to be used for mathematical computation)\n",
    "        summand1_value = int(summand1_value)\n",
    "\n",
    "        # converting the word to a string of single-digit integers\n",
    "        for i in summand2:\n",
    "            summand2_value += str(value_dict[i])\n",
    "\n",
    "        # converting the string to an integer (to be used for mathematical computation)\n",
    "        summand2_value = int(summand2_value)\n",
    "\n",
    "        # converting the word to a string of single-digit integers\n",
    "        for i in total:\n",
    "            total_value += str(value_dict[i])\n",
    "\n",
    "        # converting the string to an integer (to be used for mathematical computation)\n",
    "        total_value = int(total_value)\n",
    "\n",
    "        # checking whether the condition is met and printing the results\n",
    "        if summand1_value + summand2_value == total_value:\n",
    "            print(summand1_value, \"+\", summand2_value, \"=\", total_value)\n",
    "            print(value_dict)\n",
    "    \n",
    "    # if integers in value_dict are not unique, just continue\n",
    "    else:\n",
    "        continue"
   ]
  }
 ],
 "metadata": {
  "kernelspec": {
   "display_name": "Python 3",
   "language": "python",
   "name": "python3"
  },
  "language_info": {
   "codemirror_mode": {
    "name": "ipython",
    "version": 3
   },
   "file_extension": ".py",
   "mimetype": "text/x-python",
   "name": "python",
   "nbconvert_exporter": "python",
   "pygments_lexer": "ipython3",
   "version": "3.8.3"
  },
  "varInspector": {
   "cols": {
    "lenName": 16,
    "lenType": 16,
    "lenVar": 40
   },
   "kernels_config": {
    "python": {
     "delete_cmd_postfix": "",
     "delete_cmd_prefix": "del ",
     "library": "var_list.py",
     "varRefreshCmd": "print(var_dic_list())"
    },
    "r": {
     "delete_cmd_postfix": ") ",
     "delete_cmd_prefix": "rm(",
     "library": "var_list.r",
     "varRefreshCmd": "cat(var_dic_list()) "
    }
   },
   "types_to_exclude": [
    "module",
    "function",
    "builtin_function_or_method",
    "instance",
    "_Feature"
   ],
   "window_display": false
  }
 },
 "nbformat": 4,
 "nbformat_minor": 4
}
