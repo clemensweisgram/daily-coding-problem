{
 "cells": [
  {
   "cell_type": "markdown",
   "metadata": {},
   "source": [
    "## Daily Coding Problem: Problem #185 [Easy]"
   ]
  },
  {
   "cell_type": "markdown",
   "metadata": {},
   "source": [
    "This problem was asked by Google.\n",
    "\n",
    "Given two rectangles on a 2D graph, return the area of their intersection. If the rectangles don't intersect, return 0.\n",
    "\n",
    "For example, given the following rectangles:\n",
    "\n",
    "{\n",
    "    \"top_left\": (1, 4),\n",
    "    \"dimensions\": (3, 3) # width, height\n",
    "}\n",
    "and\n",
    "\n",
    "{\n",
    "    \"top_left\": (0, 5),\n",
    "    \"dimensions\": (4, 3) # width, height\n",
    "}\n",
    "return 6."
   ]
  },
  {
   "cell_type": "code",
   "execution_count": 2,
   "metadata": {},
   "outputs": [
    {
     "data": {
      "text/plain": [
       "4"
      ]
     },
     "execution_count": 2,
     "metadata": {},
     "output_type": "execute_result"
    }
   ],
   "source": [
    "my_rectangle1 = {\n",
    "    \"top_left\": (1, 4),\n",
    "    \"dimensions\": (3, 3) # width, height\n",
    "}\n",
    "\n",
    "my_rectangle2 = {\n",
    "    \"top_left\": (0, 5),\n",
    "    \"dimensions\": (4, 3) # width, height\n",
    "}\n",
    "\n",
    "\n",
    "import numpy as np\n",
    "import pandas as pd\n",
    "\n",
    "# helper function to \"draw\" rectangles on a dataframe\n",
    "def draw_rectangle(rectangle, dataframe):\n",
    "    \n",
    "    # iterating over each element of dataframe to increase the value at the position by one\n",
    "    for i in range(rectangle[\"top_left\"][0], rectangle[\"top_left\"][0] + rectangle[\"dimensions\"][1]):\n",
    "        for j in range(rectangle[\"top_left\"][1], rectangle[\"top_left\"][1] + rectangle[\"dimensions\"][0]):\n",
    "            dataframe.iloc[i,j] += 1\n",
    "            \n",
    "    return dataframe\n",
    "\n",
    "def intersection(rectangle1, rectangle2):\n",
    "    \n",
    "    # creating dataframe with all zero values (with necessary size as the maximum of width and height)\n",
    "    df = pd.DataFrame(0, index=np.arange(max(rectangle1[\"top_left\"][0] + rectangle1[\"dimensions\"][1], rectangle2[\"top_left\"][0] + rectangle2[\"dimensions\"][1])), columns=np.arange(max(rectangle1[\"top_left\"][1] + rectangle1[\"dimensions\"][0], rectangle2[\"top_left\"][1] + rectangle2[\"dimensions\"][0])))\n",
    "\n",
    "    # \"drawing\" both rectangles on dataframe\n",
    "    draw_rectangle(rectangle1, df)\n",
    "    draw_rectangle(rectangle2, df)\n",
    "\n",
    "    # initializing counter for intersection elements\n",
    "    intersection = 0\n",
    "\n",
    "    # iterating over each element in dataframe and increasing intersection counter by one if applicable\n",
    "    for i in range(len(df.index)):\n",
    "        for j in range(len(df.columns)):\n",
    "            if df.iloc[i,j] == 2:\n",
    "                intersection += 1\n",
    "\n",
    "    return intersection\n",
    "\n",
    "\n",
    "intersection(my_rectangle1, my_rectangle2)\n",
    "\n",
    "# not delivering the same result as requested but don't understand how the creators got 6 as result"
   ]
  }
 ],
 "metadata": {
  "kernelspec": {
   "display_name": "Python 3",
   "language": "python",
   "name": "python3"
  },
  "language_info": {
   "codemirror_mode": {
    "name": "ipython",
    "version": 3
   },
   "file_extension": ".py",
   "mimetype": "text/x-python",
   "name": "python",
   "nbconvert_exporter": "python",
   "pygments_lexer": "ipython3",
   "version": "3.8.3"
  },
  "varInspector": {
   "cols": {
    "lenName": 16,
    "lenType": 16,
    "lenVar": 40
   },
   "kernels_config": {
    "python": {
     "delete_cmd_postfix": "",
     "delete_cmd_prefix": "del ",
     "library": "var_list.py",
     "varRefreshCmd": "print(var_dic_list())"
    },
    "r": {
     "delete_cmd_postfix": ") ",
     "delete_cmd_prefix": "rm(",
     "library": "var_list.r",
     "varRefreshCmd": "cat(var_dic_list()) "
    }
   },
   "types_to_exclude": [
    "module",
    "function",
    "builtin_function_or_method",
    "instance",
    "_Feature"
   ],
   "window_display": false
  }
 },
 "nbformat": 4,
 "nbformat_minor": 4
}
