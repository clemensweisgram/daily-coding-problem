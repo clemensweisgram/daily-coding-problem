{
 "cells": [
  {
   "cell_type": "markdown",
   "metadata": {},
   "source": [
    "## Daily Coding Problem: Problem #195 [Hard]"
   ]
  },
  {
   "cell_type": "markdown",
   "metadata": {},
   "source": [
    "This problem was asked by Google.\n",
    "\n",
    "Let A be an N by M matrix in which every row and every column is sorted.\n",
    "\n",
    "Given i1, j1, i2, and j2, compute the number of elements of M smaller than M[i1, j1] and larger than M[i2, j2].\n",
    "\n",
    "For example, given the following matrix:\n",
    "\n",
    "[[1, 3, 7, 10, 15, 20], <br>\n",
    " [2, 6, 9, 14, 22, 25], <br>\n",
    " [3, 8, 10, 15, 25, 30], <br>\n",
    " [10, 11, 12, 23, 30, 35], <br>\n",
    " [20, 25, 30, 35, 40, 45]] <br> <br>\n",
    "And i1 = 1, j1 = 1, i2 = 3, j2 = 3, return 14 as there are 14 numbers in the matrix smaller than 6 or greater than 23."
   ]
  },
  {
   "cell_type": "code",
   "execution_count": 1,
   "metadata": {},
   "outputs": [
    {
     "data": {
      "text/plain": [
       "14"
      ]
     },
     "execution_count": 1,
     "metadata": {},
     "output_type": "execute_result"
    }
   ],
   "source": [
    "matrix = [[1, 3, 7, 10, 15, 20],\n",
    " [2, 6, 9, 14, 22, 25],\n",
    " [3, 8, 10, 15, 25, 30],\n",
    " [10, 11, 12, 23, 30, 35],\n",
    " [20, 25, 30, 35, 40, 45]]\n",
    "\n",
    "i1 = 1\n",
    "j1 = 1\n",
    "i2 = 3\n",
    "j2 = 3\n",
    "\n",
    "import pandas as pd\n",
    "\n",
    "matrix = pd.DataFrame(matrix)\n",
    "\n",
    "def my_function(matrix, i1, j1, i2, j2):\n",
    "    \n",
    "    # initializing counter\n",
    "    counter = 0\n",
    "\n",
    "    # iterating over each element in matrix\n",
    "    for a in range(len(matrix.index)):\n",
    "        for b in range(len(matrix.columns)):\n",
    "            \n",
    "            # checking whether value is smaller than smaller limit or greater than upper limit\n",
    "            if matrix.iloc[a,b] < matrix.iloc[i1,j1] or matrix.iloc[a,b] > matrix.iloc[i2,j2]:\n",
    "                \n",
    "                # if true, increasing coutner by one\n",
    "                counter += 1\n",
    "\n",
    "    return counter\n",
    "\n",
    "my_function(matrix, i1, j1, i2, j2)"
   ]
  }
 ],
 "metadata": {
  "kernelspec": {
   "display_name": "Python 3",
   "language": "python",
   "name": "python3"
  },
  "language_info": {
   "codemirror_mode": {
    "name": "ipython",
    "version": 3
   },
   "file_extension": ".py",
   "mimetype": "text/x-python",
   "name": "python",
   "nbconvert_exporter": "python",
   "pygments_lexer": "ipython3",
   "version": "3.8.3"
  },
  "varInspector": {
   "cols": {
    "lenName": 16,
    "lenType": 16,
    "lenVar": 40
   },
   "kernels_config": {
    "python": {
     "delete_cmd_postfix": "",
     "delete_cmd_prefix": "del ",
     "library": "var_list.py",
     "varRefreshCmd": "print(var_dic_list())"
    },
    "r": {
     "delete_cmd_postfix": ") ",
     "delete_cmd_prefix": "rm(",
     "library": "var_list.r",
     "varRefreshCmd": "cat(var_dic_list()) "
    }
   },
   "types_to_exclude": [
    "module",
    "function",
    "builtin_function_or_method",
    "instance",
    "_Feature"
   ],
   "window_display": false
  }
 },
 "nbformat": 4,
 "nbformat_minor": 4
}
