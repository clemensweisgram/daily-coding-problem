{
 "cells": [
  {
   "cell_type": "markdown",
   "metadata": {},
   "source": [
    "## Daily Coding Problem: Problem #198 [Medium]"
   ]
  },
  {
   "cell_type": "markdown",
   "metadata": {},
   "source": [
    "This problem was asked by Google.\n",
    "\n",
    "Given a set of distinct positive integers, find the largest subset such that every pair of elements in the subset (i, j) satisfies either i % j = 0 or j % i = 0.\n",
    "\n",
    "For example, given the set [3, 5, 10, 20, 21], you should return [5, 10, 20]. Given [1, 3, 6, 24], return [1, 3, 6, 24]."
   ]
  },
  {
   "cell_type": "code",
   "execution_count": 1,
   "metadata": {},
   "outputs": [
    {
     "data": {
      "text/plain": [
       "[5, 10, 20]"
      ]
     },
     "execution_count": 1,
     "metadata": {},
     "output_type": "execute_result"
    }
   ],
   "source": [
    "my_set = [3, 5, 10, 20, 21]\n",
    "\n",
    "# helper function to generate all possible sublists of a list\n",
    "def sub_lists(l):\n",
    "    \n",
    "    # initializing empty list to store sublists\n",
    "    lists = []\n",
    "    \n",
    "    # iterating over all possible sublists\n",
    "    for i in range(len(l) + 1):\n",
    "        for j in range(i):\n",
    "            if l[j: i] != [] and len(l[j: i]) > 1: # filtering empty sublists and sublists of one element\n",
    "                lists.append(l[j: i]) # appending sublist to result\n",
    "    return lists\n",
    "\n",
    "import itertools\n",
    "  \n",
    "# helper function to find pairs of all elements in a list\n",
    "def find_pairs(lst):\n",
    "    return list(itertools.combinations(lst, 2)) # using itertools to create pairs\n",
    "\n",
    "# helper function to check if the pairs fulfill the requirements\n",
    "def check_pairs(pairs_list):\n",
    "    \n",
    "    # initializing variable\n",
    "    var = True\n",
    "    \n",
    "    # iterating over all pairs\n",
    "    for i in pairs_list:\n",
    "        \n",
    "        # changing variable to False if conditions are not met\n",
    "        if i[0] % i[1] != 0 and i[1] % i[0] != 0: \n",
    "            var = False\n",
    "    \n",
    "    return var\n",
    "\n",
    "# initializing list to store lists that fulfill conditions\n",
    "results = []\n",
    "\n",
    "# combining all helper functions\n",
    "# iterating over all sublists of input list\n",
    "for a in sub_lists(my_set):\n",
    "    \n",
    "    # iterating over all pairs of each sublist and check if conditions are met\n",
    "    if check_pairs(find_pairs(a)) == True:\n",
    "        \n",
    "        # appending sublist to results list if conditions are met\n",
    "        results.append(a)\n",
    "\n",
    "        \n",
    "# returning longest sublist in results list\n",
    "max(results, key=len)"
   ]
  }
 ],
 "metadata": {
  "kernelspec": {
   "display_name": "Python 3",
   "language": "python",
   "name": "python3"
  },
  "language_info": {
   "codemirror_mode": {
    "name": "ipython",
    "version": 3
   },
   "file_extension": ".py",
   "mimetype": "text/x-python",
   "name": "python",
   "nbconvert_exporter": "python",
   "pygments_lexer": "ipython3",
   "version": "3.8.3"
  },
  "varInspector": {
   "cols": {
    "lenName": 16,
    "lenType": 16,
    "lenVar": 40
   },
   "kernels_config": {
    "python": {
     "delete_cmd_postfix": "",
     "delete_cmd_prefix": "del ",
     "library": "var_list.py",
     "varRefreshCmd": "print(var_dic_list())"
    },
    "r": {
     "delete_cmd_postfix": ") ",
     "delete_cmd_prefix": "rm(",
     "library": "var_list.r",
     "varRefreshCmd": "cat(var_dic_list()) "
    }
   },
   "types_to_exclude": [
    "module",
    "function",
    "builtin_function_or_method",
    "instance",
    "_Feature"
   ],
   "window_display": false
  }
 },
 "nbformat": 4,
 "nbformat_minor": 4
}
