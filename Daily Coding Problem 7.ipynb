{
 "cells": [
  {
   "cell_type": "markdown",
   "metadata": {},
   "source": [
    "## Daily Coding Problem: Problem #99 [Medium]"
   ]
  },
  {
   "cell_type": "markdown",
   "metadata": {},
   "source": [
    "This problem was asked by Microsoft.\n",
    "\n",
    "Given an unsorted array of integers, find the length of the longest consecutive elements sequence.\n",
    "\n",
    "For example, given [100, 4, 200, 1, 3, 2], the longest consecutive element sequence is [1, 2, 3, 4]. Return its length: 4."
   ]
  },
  {
   "cell_type": "code",
   "execution_count": 1,
   "metadata": {},
   "outputs": [
    {
     "data": {
      "text/plain": [
       "4"
      ]
     },
     "execution_count": 1,
     "metadata": {},
     "output_type": "execute_result"
    }
   ],
   "source": [
    "def long_cons_seq(lst):\n",
    "    # sort list\n",
    "    lst.sort()\n",
    "    \n",
    "    # initiate empty lists for consequtive sequences and length of consecutive sequences\n",
    "    long_seq = []\n",
    "    len_long_seq = []\n",
    "\n",
    "    # loop over all elements except the last one\n",
    "    for i in range(len(lst)-1):\n",
    "        \n",
    "        # checking if this element + 1 is equal to next element -> if true, then they are consecutive\n",
    "        # by not iterating over last element in list but including i-th and i+1-th element the problem can be avoided that either the first or last element in list are difficult to check\n",
    "        if lst[i] + 1 == lst[i+1]:\n",
    "            long_seq.append(lst[i])\n",
    "            long_seq.append(lst[i+1])\n",
    "        \n",
    "        # if consecutive sequence is broken, append length of just finished sequence to len_long_seq and initiate empty new long_seq to start fresh with next iteration of for loop\n",
    "        else:\n",
    "            long_seq = list(set(long_seq))\n",
    "            len_long_seq.append(len(long_seq))\n",
    "            long_seq = []\n",
    "\n",
    "    # return maximum of len_long_seq \n",
    "    return max(len_long_seq) \n",
    "\n",
    "\n",
    "long_cons_seq(lst = [100, 4, 200, 1, 3, 2])"
   ]
  }
 ],
 "metadata": {
  "kernelspec": {
   "display_name": "Python 3",
   "language": "python",
   "name": "python3"
  },
  "language_info": {
   "codemirror_mode": {
    "name": "ipython",
    "version": 3
   },
   "file_extension": ".py",
   "mimetype": "text/x-python",
   "name": "python",
   "nbconvert_exporter": "python",
   "pygments_lexer": "ipython3",
   "version": "3.8.3"
  },
  "varInspector": {
   "cols": {
    "lenName": 16,
    "lenType": 16,
    "lenVar": 40
   },
   "kernels_config": {
    "python": {
     "delete_cmd_postfix": "",
     "delete_cmd_prefix": "del ",
     "library": "var_list.py",
     "varRefreshCmd": "print(var_dic_list())"
    },
    "r": {
     "delete_cmd_postfix": ") ",
     "delete_cmd_prefix": "rm(",
     "library": "var_list.r",
     "varRefreshCmd": "cat(var_dic_list()) "
    }
   },
   "types_to_exclude": [
    "module",
    "function",
    "builtin_function_or_method",
    "instance",
    "_Feature"
   ],
   "window_display": false
  }
 },
 "nbformat": 4,
 "nbformat_minor": 4
}
