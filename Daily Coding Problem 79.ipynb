{
 "cells": [
  {
   "cell_type": "markdown",
   "metadata": {},
   "source": [
    "## Daily Coding Problem: Problem #202 [Easy]"
   ]
  },
  {
   "cell_type": "markdown",
   "metadata": {},
   "source": [
    "This problem was asked by Palantir.\n",
    "\n",
    "Write a program that checks whether an integer is a palindrome. For example, 121 is a palindrome, as well as 888. 678 is not a palindrome. Do not convert the integer into a string."
   ]
  },
  {
   "cell_type": "code",
   "execution_count": 1,
   "metadata": {},
   "outputs": [
    {
     "data": {
      "text/plain": [
       "True"
      ]
     },
     "execution_count": 1,
     "metadata": {},
     "output_type": "execute_result"
    }
   ],
   "source": [
    "my_integer = 121\n",
    "\n",
    "def is_palindrome(integer):\n",
    "    \n",
    "    # storing input integer as another variable to compare to\n",
    "    storing_int = integer\n",
    "\n",
    "    # initializing variable for reverted integer\n",
    "    reverted_int = 0\n",
    "\n",
    "    # iterating as long as the input integer is not zero\n",
    "    while integer > 0:\n",
    "        \n",
    "        # obtaining last digit of input integer with modulo\n",
    "        last_digit = integer % 10\n",
    "\n",
    "        # multiplying existing reverted integer by 10 (to move digits by one step to the left) and adding the new last digit\n",
    "        reverted_int = reverted_int * 10 + last_digit\n",
    "\n",
    "        # removing last digit of input integer with floor division\n",
    "        integer = integer // 10\n",
    "\n",
    "    # returning appropirate result\n",
    "    if(storing_int == reverted_int):\n",
    "        return True\n",
    "    else:\n",
    "        return False\n",
    "        \n",
    "is_palindrome(my_integer)"
   ]
  }
 ],
 "metadata": {
  "kernelspec": {
   "display_name": "Python 3",
   "language": "python",
   "name": "python3"
  },
  "language_info": {
   "codemirror_mode": {
    "name": "ipython",
    "version": 3
   },
   "file_extension": ".py",
   "mimetype": "text/x-python",
   "name": "python",
   "nbconvert_exporter": "python",
   "pygments_lexer": "ipython3",
   "version": "3.8.3"
  },
  "varInspector": {
   "cols": {
    "lenName": 16,
    "lenType": 16,
    "lenVar": 40
   },
   "kernels_config": {
    "python": {
     "delete_cmd_postfix": "",
     "delete_cmd_prefix": "del ",
     "library": "var_list.py",
     "varRefreshCmd": "print(var_dic_list())"
    },
    "r": {
     "delete_cmd_postfix": ") ",
     "delete_cmd_prefix": "rm(",
     "library": "var_list.r",
     "varRefreshCmd": "cat(var_dic_list()) "
    }
   },
   "types_to_exclude": [
    "module",
    "function",
    "builtin_function_or_method",
    "instance",
    "_Feature"
   ],
   "window_display": false
  }
 },
 "nbformat": 4,
 "nbformat_minor": 4
}
