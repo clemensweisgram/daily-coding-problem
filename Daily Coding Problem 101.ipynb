{
 "cells": [
  {
   "cell_type": "markdown",
   "metadata": {},
   "source": [
    "## Daily Coding Problem: Problem #259 [Hard]"
   ]
  },
  {
   "cell_type": "markdown",
   "metadata": {},
   "source": [
    "This problem was asked by Two Sigma.\n",
    "\n",
    "Ghost is a two-person word game where players alternate appending letters to a word. The first person who spells out a word, or creates a prefix for which there is no possible continuation, loses. Here is a sample game:\n",
    "\n",
    "Player 1: g <br>\n",
    "Player 2: h <br>\n",
    "Player 1: o <br>\n",
    "Player 2: s <br>\n",
    "Player 1: t [loses] <br>\n",
    "\n",
    "Given a dictionary of words, determine the letters the first player should start with, such that with optimal play they cannot lose.\n",
    "\n",
    "For example, if the dictionary is [\"cat\", \"calf\", \"dog\", \"bear\"], the only winning start letter would be b."
   ]
  },
  {
   "cell_type": "code",
   "execution_count": 1,
   "metadata": {},
   "outputs": [
    {
     "data": {
      "text/plain": [
       "['b']"
      ]
     },
     "execution_count": 1,
     "metadata": {},
     "output_type": "execute_result"
    }
   ],
   "source": [
    "my_word_dict = [\"cat\", \"calf\", \"dog\", \"bear\"]\n",
    "\n",
    "\n",
    "# helper function to check who wins at a certain word assumming that no player enters letters that do not lead to a word\n",
    "def check_word(word):\n",
    "    \n",
    "    # if the word's length is even, player 2 loses\n",
    "    if len(word) % 2 == 0:\n",
    "        return \"Player 2 loses\"\n",
    "    \n",
    "    # if the word's length is even, player 2 loses\n",
    "    elif len(word) % 2 != 0:\n",
    "        return \"Player 1 loses\"\n",
    "    \n",
    "    \n",
    "def play_ghost(word_dict):\n",
    "\n",
    "    # initialize list for storing which player loses at each word\n",
    "    winner_list = []\n",
    "\n",
    "    # iterating through all words\n",
    "    for i in word_dict:\n",
    "        \n",
    "        # adding the loser of each word to the list\n",
    "        winner_list.append(check_word(i))\n",
    "\n",
    "    # initialize list for storing all unique first letters of the word dictionary\n",
    "    first_letters = []\n",
    "\n",
    "    # iterating through all words\n",
    "    for j in word_dict:\n",
    "        \n",
    "        #checking whether the first letter is already in the list\n",
    "        if j[0] not in first_letters:\n",
    "            \n",
    "            # appending the first letter to the list if not yet in there\n",
    "            first_letters.append(j[0])\n",
    "\n",
    "    # initializing list to store solutions (first letters)\n",
    "    solutions = []\n",
    "\n",
    "    # iterating over all possible first letters\n",
    "    for k in first_letters:\n",
    "        \n",
    "        # initializing a temporary list\n",
    "        temp_list = []\n",
    "        \n",
    "        # iterating through all words\n",
    "        for l in word_dict:\n",
    "            \n",
    "            # checking whether the first letter matches\n",
    "            if l[0] == k:\n",
    "                \n",
    "                # appending the name of the losing player to the temporary list\n",
    "                temp_list.append(check_word(l))\n",
    "\n",
    "        # checking whether player 1 wins at all words with that first letter \n",
    "        if set(temp_list) == {'Player 2 loses'}:\n",
    "            \n",
    "            # appending the letter to the solutions list\n",
    "            solutions.append(k)\n",
    "\n",
    "    return solutions\n",
    "\n",
    "play_ghost(my_word_dict)"
   ]
  }
 ],
 "metadata": {
  "kernelspec": {
   "display_name": "Python 3",
   "language": "python",
   "name": "python3"
  },
  "language_info": {
   "codemirror_mode": {
    "name": "ipython",
    "version": 3
   },
   "file_extension": ".py",
   "mimetype": "text/x-python",
   "name": "python",
   "nbconvert_exporter": "python",
   "pygments_lexer": "ipython3",
   "version": "3.8.3"
  },
  "varInspector": {
   "cols": {
    "lenName": 16,
    "lenType": 16,
    "lenVar": 40
   },
   "kernels_config": {
    "python": {
     "delete_cmd_postfix": "",
     "delete_cmd_prefix": "del ",
     "library": "var_list.py",
     "varRefreshCmd": "print(var_dic_list())"
    },
    "r": {
     "delete_cmd_postfix": ") ",
     "delete_cmd_prefix": "rm(",
     "library": "var_list.r",
     "varRefreshCmd": "cat(var_dic_list()) "
    }
   },
   "types_to_exclude": [
    "module",
    "function",
    "builtin_function_or_method",
    "instance",
    "_Feature"
   ],
   "window_display": false
  }
 },
 "nbformat": 4,
 "nbformat_minor": 4
}
