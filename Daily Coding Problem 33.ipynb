{
 "cells": [
  {
   "cell_type": "markdown",
   "metadata": {},
   "source": [
    "## Daily Coding Problem: Problem #132 [Easy]"
   ]
  },
  {
   "cell_type": "markdown",
   "metadata": {},
   "source": [
    "This question was asked by Riot Games.\n",
    "\n",
    "Design and implement a HitCounter class that keeps track of requests (or hits). It should support the following operations:\n",
    "\n",
    "record(timestamp): records a hit that happened at timestamp <br>\n",
    "total(): returns the total number of hits recorded <br>\n",
    "range(lower, upper): returns the number of hits that occurred between timestamps lower and upper (inclusive)"
   ]
  },
  {
   "cell_type": "code",
   "execution_count": 1,
   "metadata": {},
   "outputs": [
    {
     "name": "stdout",
     "output_type": "stream",
     "text": [
      "2\n",
      "1\n"
     ]
    }
   ],
   "source": [
    "class HitCounter:\n",
    "    def __init__(self):\n",
    "        self.hits = 0 # initialize value at zero hits\n",
    "        self.timestamps = [] # initialize emtpy list to store time stamps\n",
    "        \n",
    "    def record(self, timestamp):\n",
    "        self.hits += 1 # increase hit count by one\n",
    "        self.timestamps.append(timestamp) # add timestamp to list\n",
    "    \n",
    "    def total(self):\n",
    "        print(self.hits) # print hit count\n",
    "        \n",
    "    def range(self, lower, upper):\n",
    "        print(sum(map(lambda x : x >= lower and x <= upper, self.timestamps))) # check if timestamps are within limits and count occurences\n",
    "        \n",
    "        \n",
    "my_hit = HitCounter()\n",
    "my_hit.record(10)\n",
    "my_hit.record(20)\n",
    "my_hit.total()\n",
    "my_hit.range(10,19)"
   ]
  }
 ],
 "metadata": {
  "kernelspec": {
   "display_name": "Python 3",
   "language": "python",
   "name": "python3"
  },
  "language_info": {
   "codemirror_mode": {
    "name": "ipython",
    "version": 3
   },
   "file_extension": ".py",
   "mimetype": "text/x-python",
   "name": "python",
   "nbconvert_exporter": "python",
   "pygments_lexer": "ipython3",
   "version": "3.8.3"
  },
  "varInspector": {
   "cols": {
    "lenName": 16,
    "lenType": 16,
    "lenVar": 40
   },
   "kernels_config": {
    "python": {
     "delete_cmd_postfix": "",
     "delete_cmd_prefix": "del ",
     "library": "var_list.py",
     "varRefreshCmd": "print(var_dic_list())"
    },
    "r": {
     "delete_cmd_postfix": ") ",
     "delete_cmd_prefix": "rm(",
     "library": "var_list.r",
     "varRefreshCmd": "cat(var_dic_list()) "
    }
   },
   "types_to_exclude": [
    "module",
    "function",
    "builtin_function_or_method",
    "instance",
    "_Feature"
   ],
   "window_display": false
  }
 },
 "nbformat": 4,
 "nbformat_minor": 4
}
