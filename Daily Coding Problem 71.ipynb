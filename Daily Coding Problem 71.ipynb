{
 "cells": [
  {
   "cell_type": "markdown",
   "metadata": {},
   "source": [
    "## Daily Coding Problem: Problem #191 [Easy]"
   ]
  },
  {
   "cell_type": "markdown",
   "metadata": {},
   "source": [
    "This problem was asked by Stripe.\n",
    "\n",
    "Given a collection of intervals, find the minimum number of intervals you need to remove to make the rest of the intervals non-overlapping.\n",
    "\n",
    "Intervals can \"touch\", such as [0, 1] and [1, 2], but they won't be considered overlapping.\n",
    "\n",
    "For example, given the intervals (7, 9), (2, 4), (5, 8), return 1 as the last interval can be removed and the first two won't overlap.\n",
    "\n",
    "The intervals are not necessarily sorted in any order."
   ]
  },
  {
   "cell_type": "code",
   "execution_count": 1,
   "metadata": {},
   "outputs": [
    {
     "data": {
      "text/plain": [
       "1"
      ]
     },
     "execution_count": 1,
     "metadata": {},
     "output_type": "execute_result"
    }
   ],
   "source": [
    "my_intervals = [(7, 9), (2, 4), (5, 8)]\n",
    "\n",
    "def overlaps(intervals):\n",
    "    \n",
    "    # sorting intervals\n",
    "    intervals = sorted(intervals)\n",
    "\n",
    "    # initializing overlap coutner\n",
    "    overlap_counter = 0\n",
    "\n",
    "    # iterating over all but last element\n",
    "    for i in range(len(intervals)-1):\n",
    "        \n",
    "        # increasing coutner if upper bound of interval (in sorted list) is higher than lower bound of upper interval\n",
    "        if intervals[i][1] > intervals[i+1][0]: \n",
    "            overlap_counter += 1\n",
    "\n",
    "    return overlap_counter\n",
    "\n",
    "overlaps(my_intervals)"
   ]
  }
 ],
 "metadata": {
  "kernelspec": {
   "display_name": "Python 3",
   "language": "python",
   "name": "python3"
  },
  "language_info": {
   "codemirror_mode": {
    "name": "ipython",
    "version": 3
   },
   "file_extension": ".py",
   "mimetype": "text/x-python",
   "name": "python",
   "nbconvert_exporter": "python",
   "pygments_lexer": "ipython3",
   "version": "3.8.3"
  },
  "varInspector": {
   "cols": {
    "lenName": 16,
    "lenType": 16,
    "lenVar": 40
   },
   "kernels_config": {
    "python": {
     "delete_cmd_postfix": "",
     "delete_cmd_prefix": "del ",
     "library": "var_list.py",
     "varRefreshCmd": "print(var_dic_list())"
    },
    "r": {
     "delete_cmd_postfix": ") ",
     "delete_cmd_prefix": "rm(",
     "library": "var_list.r",
     "varRefreshCmd": "cat(var_dic_list()) "
    }
   },
   "types_to_exclude": [
    "module",
    "function",
    "builtin_function_or_method",
    "instance",
    "_Feature"
   ],
   "window_display": false
  }
 },
 "nbformat": 4,
 "nbformat_minor": 4
}
