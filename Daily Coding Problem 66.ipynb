{
 "cells": [
  {
   "cell_type": "markdown",
   "metadata": {},
   "source": [
    "## Daily Coding Problem: Problem #184 [Easy]"
   ]
  },
  {
   "cell_type": "markdown",
   "metadata": {},
   "source": [
    "This problem was asked by Amazon.\n",
    "\n",
    "Given n numbers, find the greatest common denominator between them.\n",
    "\n",
    "For example, given the numbers [42, 56, 14], return 14."
   ]
  },
  {
   "cell_type": "code",
   "execution_count": 1,
   "metadata": {},
   "outputs": [
    {
     "data": {
      "text/plain": [
       "14"
      ]
     },
     "execution_count": 1,
     "metadata": {},
     "output_type": "execute_result"
    }
   ],
   "source": [
    "my_lst = [42, 56, 14]\n",
    "\n",
    "def greatest_common_denominator(lst):\n",
    "    \n",
    "    # initializing remainder counter (not equal to zero to start while loop)\n",
    "    sum_of_remainders = 1\n",
    "    \n",
    "    # initializing greatest possible denominator as smallest number in list\n",
    "    denominator = min(lst)\n",
    "\n",
    "    # iterating until remainders are zero\n",
    "    while sum_of_remainders != 0:\n",
    "        \n",
    "        # setting remainders counter to zero to get accurate counting\n",
    "        sum_of_remainders = 0\n",
    "        \n",
    "        # iterating over each element in list and adding remainders of division with current denominator\n",
    "        for i in lst:\n",
    "            sum_of_remainders += i % denominator\n",
    "        \n",
    "        # if all divisions are possible with zero remainder, greatest denominator has been found\n",
    "        if sum_of_remainders == 0:\n",
    "            return denominator\n",
    "        \n",
    "        # else reduce denominator by one and continue in while loop\n",
    "        else:   \n",
    "            denominator -= 1  \n",
    "\n",
    "            \n",
    "greatest_common_denominator(my_lst)"
   ]
  }
 ],
 "metadata": {
  "kernelspec": {
   "display_name": "Python 3",
   "language": "python",
   "name": "python3"
  },
  "language_info": {
   "codemirror_mode": {
    "name": "ipython",
    "version": 3
   },
   "file_extension": ".py",
   "mimetype": "text/x-python",
   "name": "python",
   "nbconvert_exporter": "python",
   "pygments_lexer": "ipython3",
   "version": "3.8.3"
  },
  "varInspector": {
   "cols": {
    "lenName": 16,
    "lenType": 16,
    "lenVar": 40
   },
   "kernels_config": {
    "python": {
     "delete_cmd_postfix": "",
     "delete_cmd_prefix": "del ",
     "library": "var_list.py",
     "varRefreshCmd": "print(var_dic_list())"
    },
    "r": {
     "delete_cmd_postfix": ") ",
     "delete_cmd_prefix": "rm(",
     "library": "var_list.r",
     "varRefreshCmd": "cat(var_dic_list()) "
    }
   },
   "types_to_exclude": [
    "module",
    "function",
    "builtin_function_or_method",
    "instance",
    "_Feature"
   ],
   "window_display": false
  }
 },
 "nbformat": 4,
 "nbformat_minor": 4
}
