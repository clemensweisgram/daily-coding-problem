{
 "cells": [
  {
   "cell_type": "markdown",
   "metadata": {},
   "source": [
    "## Daily Coding Problem: Problem #186 [Hard]"
   ]
  },
  {
   "cell_type": "markdown",
   "metadata": {},
   "source": [
    "Given an array of positive integers, divide the array into two subsets such that the difference between the sum of the subsets is as small as possible.\n",
    "\n",
    "For example, given [5, 10, 15, 20, 25], return the sets {10, 25} and {5, 15, 20}, which has a difference of 5, which is the smallest possible difference."
   ]
  },
  {
   "cell_type": "code",
   "execution_count": 1,
   "metadata": {},
   "outputs": [
    {
     "name": "stdout",
     "output_type": "stream",
     "text": [
      "Minimum difference: 5\n",
      "Subset 1: [5, 15, 20]\n",
      "Subset 2: [10, 25]\n"
     ]
    }
   ],
   "source": [
    "lst = [5, 10, 15, 20, 25]\n",
    "\n",
    "import random \n",
    "\n",
    "# helper function to randomly split list in two subsets\n",
    "def random_split(lst):\n",
    "    \n",
    "    # initializing empty lists for subsets\n",
    "    subset1 = []\n",
    "    subset2 = []\n",
    "\n",
    "    # iterating that subsets have about half of the sum of the initial list\n",
    "    while sum(subset1) < sum(lst) / 2:\n",
    "        \n",
    "        # selecting a random item from list\n",
    "        random_selection = lst[random.randint(0,len(lst)-1)]\n",
    "        \n",
    "        # only adding element to subset 1 if it is not yet there\n",
    "        if random_selection in subset1:\n",
    "            continue\n",
    "        else:\n",
    "            subset1.append(random_selection)\n",
    "\n",
    "\n",
    "    # creating subset 2 by selecting all elements that are not in subset 1\n",
    "    for i in lst:\n",
    "        if i in subset1:\n",
    "            continue\n",
    "        else:\n",
    "            subset2.append(i)\n",
    "\n",
    "    return subset1, subset2\n",
    "\n",
    "# initializing a value for the minimum difference that is higher than expected result (initial value itself doesn't matter)\n",
    "min_dif = sum(lst)\n",
    "\n",
    "# initializing placeholders for final subsets\n",
    "min_subset1 = None\n",
    "min_subset2 = None\n",
    "\n",
    "# iterating 100 times to try different splits\n",
    "for _ in range(100):\n",
    "    \n",
    "    # creating a split with helper function\n",
    "    split = random_split(lst)\n",
    "    \n",
    "    # if the difference is smaller than the current value, adjust the results accordingling\n",
    "    if abs(sum(split[0]) - sum(split[1])) < min_dif:\n",
    "        min_dif = abs(sum(split[0]) - sum(split[1]))\n",
    "        min_subset1 = split[0]\n",
    "        min_subset2 = split[1]\n",
    "        \n",
    "\n",
    "print(\"Minimum difference:\", min_dif)\n",
    "print(\"Subset 1:\", min_subset1)\n",
    "print(\"Subset 2:\", min_subset2)\n",
    "\n",
    "# there is more than 1 alternative for subsetting to get to the minimum difference of 5"
   ]
  }
 ],
 "metadata": {
  "kernelspec": {
   "display_name": "Python 3",
   "language": "python",
   "name": "python3"
  },
  "language_info": {
   "codemirror_mode": {
    "name": "ipython",
    "version": 3
   },
   "file_extension": ".py",
   "mimetype": "text/x-python",
   "name": "python",
   "nbconvert_exporter": "python",
   "pygments_lexer": "ipython3",
   "version": "3.8.3"
  },
  "varInspector": {
   "cols": {
    "lenName": 16,
    "lenType": 16,
    "lenVar": 40
   },
   "kernels_config": {
    "python": {
     "delete_cmd_postfix": "",
     "delete_cmd_prefix": "del ",
     "library": "var_list.py",
     "varRefreshCmd": "print(var_dic_list())"
    },
    "r": {
     "delete_cmd_postfix": ") ",
     "delete_cmd_prefix": "rm(",
     "library": "var_list.r",
     "varRefreshCmd": "cat(var_dic_list()) "
    }
   },
   "types_to_exclude": [
    "module",
    "function",
    "builtin_function_or_method",
    "instance",
    "_Feature"
   ],
   "window_display": false
  }
 },
 "nbformat": 4,
 "nbformat_minor": 4
}
