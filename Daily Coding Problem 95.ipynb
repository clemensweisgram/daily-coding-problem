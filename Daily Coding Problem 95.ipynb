{
 "cells": [
  {
   "cell_type": "markdown",
   "metadata": {},
   "source": [
    "## Daily Coding Problem: Problem #243 [Medium]"
   ]
  },
  {
   "cell_type": "markdown",
   "metadata": {},
   "source": [
    "This problem was asked by Etsy.\n",
    "\n",
    "Given an array of numbers N and an integer k, your task is to split N into k partitions such that the maximum sum of any partition is minimized. Return this sum.\n",
    "\n",
    "For example, given N = [5, 1, 2, 7, 3, 4] and k = 3, you should return 8, since the optimal partition is [5, 1, 2], [7], [3, 4]."
   ]
  },
  {
   "cell_type": "code",
   "execution_count": 1,
   "metadata": {},
   "outputs": [
    {
     "data": {
      "text/plain": [
       "[[5, 1, 2], [7], [3, 4]]"
      ]
     },
     "execution_count": 1,
     "metadata": {},
     "output_type": "execute_result"
    }
   ],
   "source": [
    "from more_itertools import set_partitions\n",
    "\n",
    "my_N = [5, 1, 2, 7, 3, 4]\n",
    "\n",
    "my_k = 3\n",
    "\n",
    "def optimal_partition(N,k):\n",
    "    \n",
    "    # extracting all partitions of N with k elements\n",
    "    partitions = list(set_partitions(N, k))\n",
    "\n",
    "    # initializing variable to store minimum sum of maximum element of a partition\n",
    "    max_sum_overall = sum(N)\n",
    "\n",
    "    # iterating over all partitions\n",
    "    for i in partitions:\n",
    "\n",
    "        # initializing variable to find maximum sum within a partition\n",
    "        max_sum = 0\n",
    "        \n",
    "        # iterating over each sublist in each partition\n",
    "        for j in i:\n",
    "            \n",
    "            # if sum of sublist is greater than max_sum, update the max_sum\n",
    "            if sum(j) > max_sum:\n",
    "                max_sum = sum(j)\n",
    "\n",
    "        # checking if max_sum of this partition is smaller than overall max_sum\n",
    "        if max_sum < max_sum_overall:\n",
    "\n",
    "            # setting the optimal_partition variable to the current partition\n",
    "            optimal_partition = i\n",
    "\n",
    "            # updating the max_sum_overall score to only look for partitions with a smaller maximum sum\n",
    "            max_sum_overall = max_sum\n",
    "\n",
    "    return optimal_partition\n",
    "\n",
    "\n",
    "optimal_partition(my_N,my_k)"
   ]
  }
 ],
 "metadata": {
  "kernelspec": {
   "display_name": "Python 3",
   "language": "python",
   "name": "python3"
  },
  "language_info": {
   "codemirror_mode": {
    "name": "ipython",
    "version": 3
   },
   "file_extension": ".py",
   "mimetype": "text/x-python",
   "name": "python",
   "nbconvert_exporter": "python",
   "pygments_lexer": "ipython3",
   "version": "3.8.3"
  },
  "varInspector": {
   "cols": {
    "lenName": 16,
    "lenType": 16,
    "lenVar": 40
   },
   "kernels_config": {
    "python": {
     "delete_cmd_postfix": "",
     "delete_cmd_prefix": "del ",
     "library": "var_list.py",
     "varRefreshCmd": "print(var_dic_list())"
    },
    "r": {
     "delete_cmd_postfix": ") ",
     "delete_cmd_prefix": "rm(",
     "library": "var_list.r",
     "varRefreshCmd": "cat(var_dic_list()) "
    }
   },
   "types_to_exclude": [
    "module",
    "function",
    "builtin_function_or_method",
    "instance",
    "_Feature"
   ],
   "window_display": false
  }
 },
 "nbformat": 4,
 "nbformat_minor": 4
}
