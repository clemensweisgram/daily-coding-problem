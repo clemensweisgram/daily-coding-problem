{
 "cells": [
  {
   "cell_type": "markdown",
   "metadata": {},
   "source": [
    "## Daily Coding Problem: Problem #70 [Easy]"
   ]
  },
  {
   "cell_type": "markdown",
   "metadata": {},
   "source": [
    "This problem was asked by Microsoft.\n",
    "\n",
    "A number is considered perfect if its digits sum up to exactly 10.\n",
    "\n",
    "Given a positive integer n, return the n-th perfect number.\n",
    "\n",
    "For example, given 1, you should return 19. Given 2, you should return 28."
   ]
  },
  {
   "cell_type": "code",
   "execution_count": 5,
   "metadata": {},
   "outputs": [
    {
     "data": {
      "text/plain": [
       "307"
      ]
     },
     "execution_count": 5,
     "metadata": {},
     "output_type": "execute_result"
    }
   ],
   "source": [
    "# Importing required packages\n",
    "import itertools\n",
    "\n",
    "# Getting the sum of all digits of a number\n",
    "def getSum(n):\n",
    "        sum = 0\n",
    "        for digit in str(n):   \n",
    "            sum += int(digit)        \n",
    "        return sum\n",
    "\n",
    "def findmyNth(n):\n",
    "    \"\"\"\n",
    "    n: n-th perfect number that should be returned\n",
    "    \"\"\"\n",
    "    count = 0\n",
    "    \n",
    "    # Iterating over each number starting at 1\n",
    "    for i in itertools.count(start=1):\n",
    "        \n",
    "        # Checking if the sum of the digits is 10. If so, increase the count\n",
    "        if getSum(i) == 10:\n",
    "            count += 1\n",
    "        \n",
    "        # Checking if the count has already reached the desired number n\n",
    "        if count == n:\n",
    "            return int(i)\n",
    "            break\n",
    "    \n",
    "\n",
    "findmyNth(29)"
   ]
  },
  {
   "cell_type": "markdown",
   "metadata": {},
   "source": [
    "Sanjit_Prasad contributed to this code"
   ]
  }
 ],
 "metadata": {
  "kernelspec": {
   "display_name": "Python 3",
   "language": "python",
   "name": "python3"
  },
  "language_info": {
   "codemirror_mode": {
    "name": "ipython",
    "version": 3
   },
   "file_extension": ".py",
   "mimetype": "text/x-python",
   "name": "python",
   "nbconvert_exporter": "python",
   "pygments_lexer": "ipython3",
   "version": "3.8.3"
  },
  "varInspector": {
   "cols": {
    "lenName": 16,
    "lenType": 16,
    "lenVar": 40
   },
   "kernels_config": {
    "python": {
     "delete_cmd_postfix": "",
     "delete_cmd_prefix": "del ",
     "library": "var_list.py",
     "varRefreshCmd": "print(var_dic_list())"
    },
    "r": {
     "delete_cmd_postfix": ") ",
     "delete_cmd_prefix": "rm(",
     "library": "var_list.r",
     "varRefreshCmd": "cat(var_dic_list()) "
    }
   },
   "types_to_exclude": [
    "module",
    "function",
    "builtin_function_or_method",
    "instance",
    "_Feature"
   ],
   "window_display": false
  }
 },
 "nbformat": 4,
 "nbformat_minor": 4
}
