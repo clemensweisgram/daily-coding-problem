{
 "cells": [
  {
   "cell_type": "markdown",
   "metadata": {},
   "source": [
    "## Daily Coding Problem: Problem #153 [Hard]"
   ]
  },
  {
   "cell_type": "markdown",
   "metadata": {},
   "source": [
    "Find an efficient algorithm to find the smallest distance (measured in number of words) between any two given words in a string.\n",
    "\n",
    "For example, given words \"hello\", and \"world\" and a text content of \"dog cat hello cat dog dog hello cat world\", return 1 because there's only one word \"cat\" in between the two words.v"
   ]
  },
  {
   "cell_type": "code",
   "execution_count": 1,
   "metadata": {},
   "outputs": [
    {
     "data": {
      "text/plain": [
       "1"
      ]
     },
     "execution_count": 1,
     "metadata": {},
     "output_type": "execute_result"
    }
   ],
   "source": [
    "my_string = \"dog cat hello cat dog dog hello cat world\"\n",
    "my_word1 = \"hello\"\n",
    "my_word2 = \"world\"\n",
    "\n",
    "def smallest_distance(string, word1, word2):\n",
    "    \n",
    "    # splitting string into list of words\n",
    "    string_split = string.split() \n",
    "\n",
    "    # initializing counter of smallest distance as lenght of list plus 1 (arbitrary number greater than length of list)\n",
    "    min_counter = len(string_split) + 1\n",
    "\n",
    "    # iterating over each eleemnt of list\n",
    "    for j in range(len(string_split)):\n",
    "        \n",
    "        # if element is equal to word1, start a new counter a zero\n",
    "        if string_split[j] == word1:\n",
    "            counter = 0\n",
    "            \n",
    "            # iterating over the remaining list starting from each word1 in the list\n",
    "            for k in range(len(string_split[j+1:])):\n",
    "                \n",
    "                # if word2 is reached, check if the current counter is smaller than the min_counter. If so, re-set min_counter and end the loop\n",
    "                if string_split[j+1:][k] == word2:\n",
    "                    if counter < min_counter:\n",
    "                        min_counter = counter\n",
    "                    break\n",
    "                \n",
    "                # in all other cases increases the current counter\n",
    "                else:\n",
    "                    counter += 1\n",
    "\n",
    "    # if the min_counter is still at the initial value, no result could be found\n",
    "    if min_counter == len(string_split) + 1:\n",
    "        print(\"Error: No distance found\")\n",
    "        \n",
    "    # if the min_counter is different, this is the smallest distance\n",
    "    else:\n",
    "        return min_counter\n",
    "    \n",
    "smallest_distance(my_string, my_word1, my_word2)"
   ]
  }
 ],
 "metadata": {
  "kernelspec": {
   "display_name": "Python 3",
   "language": "python",
   "name": "python3"
  },
  "language_info": {
   "codemirror_mode": {
    "name": "ipython",
    "version": 3
   },
   "file_extension": ".py",
   "mimetype": "text/x-python",
   "name": "python",
   "nbconvert_exporter": "python",
   "pygments_lexer": "ipython3",
   "version": "3.8.3"
  },
  "varInspector": {
   "cols": {
    "lenName": 16,
    "lenType": 16,
    "lenVar": 40
   },
   "kernels_config": {
    "python": {
     "delete_cmd_postfix": "",
     "delete_cmd_prefix": "del ",
     "library": "var_list.py",
     "varRefreshCmd": "print(var_dic_list())"
    },
    "r": {
     "delete_cmd_postfix": ") ",
     "delete_cmd_prefix": "rm(",
     "library": "var_list.r",
     "varRefreshCmd": "cat(var_dic_list()) "
    }
   },
   "types_to_exclude": [
    "module",
    "function",
    "builtin_function_or_method",
    "instance",
    "_Feature"
   ],
   "window_display": false
  }
 },
 "nbformat": 4,
 "nbformat_minor": 4
}
