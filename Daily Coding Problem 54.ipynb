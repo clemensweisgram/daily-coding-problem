{
 "cells": [
  {
   "cell_type": "markdown",
   "metadata": {},
   "source": [
    "## Daily Coding Problem: Problem #163 [Hard]"
   ]
  },
  {
   "cell_type": "markdown",
   "metadata": {},
   "source": [
    "This problem was asked by Jane Street.\n",
    "\n",
    "Given an arithmetic expression in Reverse Polish Notation, write a program to evaluate it.\n",
    "\n",
    "The expression is given as a list of numbers and operands. For example: [5, 3, '+'] should return 5 + 3 = 8.\n",
    "\n",
    "For example, [15, 7, 1, 1, '+', '-', '/', 3, '*', 2, 1, 1, '+', '+', '-'] should return 5, since it is equivalent to ((15 / (7 - (1 + 1))) * 3) - (2 + (1 + 1)) = 5.\n",
    "\n",
    "You can assume the given expression is always valid."
   ]
  },
  {
   "cell_type": "code",
   "execution_count": 1,
   "metadata": {},
   "outputs": [
    {
     "data": {
      "text/plain": [
       "[5]"
      ]
     },
     "execution_count": 1,
     "metadata": {},
     "output_type": "execute_result"
    }
   ],
   "source": [
    "import re\n",
    "\n",
    "my_lst = [15, 7, 1, 1, '+', '-', '/', 3, '*', 2, 1, 1, '+', '+', '-']\n",
    "\n",
    "# helper function performing mathematical operations with current step of list\n",
    "def my_function(lst):\n",
    "    \n",
    "    # initialize new list to store indexes that need to be poppped after they were used in calculation\n",
    "    lst_pop = []\n",
    "    \n",
    "    # iterating over each element in list\n",
    "    for i in range(len(lst)):\n",
    "        try:\n",
    "            \n",
    "            # checking if element is a number, next element is a number, and subsequent element is a mathematical operator\n",
    "            if re.match(\"^[0-9]+$\", str(lst[i])) and re.match(\"^[0-9]+$\", str(lst[i+1])) and re.match(\"[^0-9]\", str(lst[i+2])):\n",
    "                \n",
    "                # if true, calculate the result and store it as first index position\n",
    "                lst[i] = int(eval(str(lst[i]) + lst[i+2] + str(lst[i+1])))\n",
    "                \n",
    "                # add indexes of other two elements to list of elements that needs to be popped (cannot be popped right away because list is used in for loop)\n",
    "                lst_pop.append(i+1)\n",
    "                lst_pop.append(i+2)\n",
    "        \n",
    "        # handling exceptions for last to elements in lst\n",
    "        except:\n",
    "            continue\n",
    "            \n",
    "    # sorting list of elements to be popped in descending order because popping needs to happen from the back to the front\n",
    "    lst_pop.sort(reverse = True)\n",
    "    \n",
    "    # popping elements\n",
    "    for i in lst_pop:\n",
    "        lst.pop(i)\n",
    "\n",
    "    # returning list with calculations moved forward by one step\n",
    "    return lst\n",
    "\n",
    "# iterating as long as there are calculations to be done\n",
    "while len(my_lst) > 1:\n",
    "    my_lst = my_function(my_lst)\n",
    "\n",
    "\n",
    "my_lst"
   ]
  }
 ],
 "metadata": {
  "kernelspec": {
   "display_name": "Python 3",
   "language": "python",
   "name": "python3"
  },
  "language_info": {
   "codemirror_mode": {
    "name": "ipython",
    "version": 3
   },
   "file_extension": ".py",
   "mimetype": "text/x-python",
   "name": "python",
   "nbconvert_exporter": "python",
   "pygments_lexer": "ipython3",
   "version": "3.8.3"
  },
  "varInspector": {
   "cols": {
    "lenName": 16,
    "lenType": 16,
    "lenVar": 40
   },
   "kernels_config": {
    "python": {
     "delete_cmd_postfix": "",
     "delete_cmd_prefix": "del ",
     "library": "var_list.py",
     "varRefreshCmd": "print(var_dic_list())"
    },
    "r": {
     "delete_cmd_postfix": ") ",
     "delete_cmd_prefix": "rm(",
     "library": "var_list.r",
     "varRefreshCmd": "cat(var_dic_list()) "
    }
   },
   "types_to_exclude": [
    "module",
    "function",
    "builtin_function_or_method",
    "instance",
    "_Feature"
   ],
   "window_display": false
  }
 },
 "nbformat": 4,
 "nbformat_minor": 4
}
