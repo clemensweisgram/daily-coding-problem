{
 "cells": [
  {
   "cell_type": "markdown",
   "metadata": {},
   "source": [
    "## Daily Coding Problem: Problem #194 [Easy]"
   ]
  },
  {
   "cell_type": "markdown",
   "metadata": {},
   "source": [
    "This problem was asked by Facebook.\n",
    "\n",
    "Suppose you are given two lists of n points, one list p1, p2, ..., pn on the line y = 0 and the other list q1, q2, ..., qn on the line y = 1. Imagine a set of n line segments connecting each point pi to qi. Write an algorithm to determine how many pairs of the line segments intersect."
   ]
  },
  {
   "cell_type": "code",
   "execution_count": 1,
   "metadata": {},
   "outputs": [
    {
     "data": {
      "text/plain": [
       "2"
      ]
     },
     "execution_count": 1,
     "metadata": {},
     "output_type": "execute_result"
    }
   ],
   "source": [
    "my_list1 = [1,3,5,7]\n",
    "my_list2 = [2,4,1,8]\n",
    "\n",
    "def intersections(list1, list2):\n",
    "    \n",
    "    # initializing counter for intersections\n",
    "    intersections = 0\n",
    "\n",
    "    # iterating over each pair of points \n",
    "    for i in range(len(list1)):\n",
    "        \n",
    "        # iterating over each other pair of points\n",
    "        for j in range(len(list1)):\n",
    "            \n",
    "            # only considering pairs to the right (higher index) to avoide double counting of intersections\n",
    "            if j > i:\n",
    "                \n",
    "                # checking if the lines between index i and j intersect when the j-point in list2 is to the left of the i-point in list2\n",
    "                if list1[i] < list1[j] and list2[i] > list2[j]:\n",
    "                    intersections += 1\n",
    "\n",
    "                # checking if the lines between index i and j intersect when the j-point in list2 is to the right of the i-point in list2\n",
    "                elif list1[i] > list1[j] and list2[i] < list2[j]:\n",
    "                    intersections += 1\n",
    "\n",
    "    return intersections\n",
    "\n",
    "intersections(my_list1, my_list2)"
   ]
  }
 ],
 "metadata": {
  "kernelspec": {
   "display_name": "Python 3",
   "language": "python",
   "name": "python3"
  },
  "language_info": {
   "codemirror_mode": {
    "name": "ipython",
    "version": 3
   },
   "file_extension": ".py",
   "mimetype": "text/x-python",
   "name": "python",
   "nbconvert_exporter": "python",
   "pygments_lexer": "ipython3",
   "version": "3.8.3"
  },
  "varInspector": {
   "cols": {
    "lenName": 16,
    "lenType": 16,
    "lenVar": 40
   },
   "kernels_config": {
    "python": {
     "delete_cmd_postfix": "",
     "delete_cmd_prefix": "del ",
     "library": "var_list.py",
     "varRefreshCmd": "print(var_dic_list())"
    },
    "r": {
     "delete_cmd_postfix": ") ",
     "delete_cmd_prefix": "rm(",
     "library": "var_list.r",
     "varRefreshCmd": "cat(var_dic_list()) "
    }
   },
   "types_to_exclude": [
    "module",
    "function",
    "builtin_function_or_method",
    "instance",
    "_Feature"
   ],
   "window_display": false
  }
 },
 "nbformat": 4,
 "nbformat_minor": 4
}
