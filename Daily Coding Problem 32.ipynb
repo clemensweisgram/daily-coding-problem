{
 "cells": [
  {
   "cell_type": "markdown",
   "metadata": {},
   "source": [
    "## Daily Coding Problem: Problem #130 [Medium]"
   ]
  },
  {
   "cell_type": "markdown",
   "metadata": {},
   "source": [
    "This problem was asked by Facebook.\n",
    "\n",
    "Given an array of numbers representing the stock prices of a company in chronological order and an integer k, return the maximum profit you can make from k buys and sells. You must buy the stock before you can sell it, and you must sell the stock before you can buy it again.\n",
    "\n",
    "For example, given k = 2 and the array [5, 2, 4, 0, 1], you should return 3."
   ]
  },
  {
   "cell_type": "code",
   "execution_count": 1,
   "metadata": {},
   "outputs": [
    {
     "data": {
      "text/plain": [
       "3"
      ]
     },
     "execution_count": 1,
     "metadata": {},
     "output_type": "execute_result"
    }
   ],
   "source": [
    "prices = [5, 2, 4, 0, 1]\n",
    "k = 2\n",
    "\n",
    "# helper function returning whether next position is greater or equal to current position\n",
    "def next_position_greater(lst, position):\n",
    "    \n",
    "    # try/excepted needed to handle exception of last list element\n",
    "    try:\n",
    "        \n",
    "        # if following position is greater or equal return true\n",
    "        if lst[position + 1] >= lst[position]:\n",
    "            return True\n",
    "        else:\n",
    "            return False\n",
    "    \n",
    "    except: \n",
    "        return False\n",
    "\n",
    "# helper function to find length of interval of increasing list elements\n",
    "def length_greater_interval(lst, position):\n",
    "    \n",
    "    # initialize count at zero\n",
    "    count = 0\n",
    "    \n",
    "    # while the list elements are increasing\n",
    "    while next_position_greater(lst = prices, position = position):\n",
    "        \n",
    "        # increase the count and the position (used for checking next position)\n",
    "        count += 1\n",
    "        position += 1\n",
    "    return count\n",
    "\n",
    "# initialize empty list to store length of interval of increasing elements\n",
    "length = []\n",
    "\n",
    "# iterating over each element in stock prices to find length of interval of increasing elements\n",
    "for i in range(len(prices)):\n",
    "    length.append(length_greater_interval(lst = prices, position = i))\n",
    "    \n",
    "# iterating backwards over list of intervals to only keep the beginning of in increasing series of stock prices\n",
    "for r in range(len(length) - 2, -1, -1):\n",
    "    if length[r] > length[r + 1]:\n",
    "        length[r + 1] = 0\n",
    "\n",
    "# initialize empty list to store profits of all intervals of increasing stock prices        \n",
    "profit = []\n",
    "\n",
    "# iterating over increasing stock price intervals to append profits of trades to profit list\n",
    "for s in range(len(length)-1):\n",
    "    if length[s] != 0:\n",
    "        profit.append(prices[s + length[s]] - prices[s])\n",
    "\n",
    "# sort profit list\n",
    "profit.sort()\n",
    "\n",
    "# only sum profits of k highest trades\n",
    "sum(profit[-k:]) "
   ]
  }
 ],
 "metadata": {
  "kernelspec": {
   "display_name": "Python 3",
   "language": "python",
   "name": "python3"
  },
  "language_info": {
   "codemirror_mode": {
    "name": "ipython",
    "version": 3
   },
   "file_extension": ".py",
   "mimetype": "text/x-python",
   "name": "python",
   "nbconvert_exporter": "python",
   "pygments_lexer": "ipython3",
   "version": "3.8.3"
  },
  "varInspector": {
   "cols": {
    "lenName": 16,
    "lenType": 16,
    "lenVar": 40
   },
   "kernels_config": {
    "python": {
     "delete_cmd_postfix": "",
     "delete_cmd_prefix": "del ",
     "library": "var_list.py",
     "varRefreshCmd": "print(var_dic_list())"
    },
    "r": {
     "delete_cmd_postfix": ") ",
     "delete_cmd_prefix": "rm(",
     "library": "var_list.r",
     "varRefreshCmd": "cat(var_dic_list()) "
    }
   },
   "types_to_exclude": [
    "module",
    "function",
    "builtin_function_or_method",
    "instance",
    "_Feature"
   ],
   "window_display": false
  }
 },
 "nbformat": 4,
 "nbformat_minor": 4
}
