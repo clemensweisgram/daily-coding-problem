{
 "cells": [
  {
   "cell_type": "markdown",
   "metadata": {},
   "source": [
    "## Daily Coding Problem: Problem #221 [Easy]"
   ]
  },
  {
   "cell_type": "markdown",
   "metadata": {},
   "source": [
    "This problem was asked by Zillow.\n",
    "\n",
    "Let's define a \"sevenish\" number to be one which is either a power of 7, or the sum of unique powers of 7. The first few sevenish numbers are 1, 7, 8, 49, and so on. Create an algorithm to find the nth sevenish number."
   ]
  },
  {
   "cell_type": "code",
   "execution_count": 3,
   "metadata": {},
   "outputs": [
    {
     "data": {
      "text/plain": [
       "49"
      ]
     },
     "execution_count": 3,
     "metadata": {},
     "output_type": "execute_result"
    }
   ],
   "source": [
    "from itertools import combinations\n",
    "\n",
    "def sevenish(n):\n",
    "    \n",
    "    # initializing empty lists to store the powers of 7 and the unique sums of the powers\n",
    "    power_list = []\n",
    "    result_list = []\n",
    "\n",
    "    # iterating and adding the powers of 7 to the respective list\n",
    "    for i in range(n+1):\n",
    "        power_list.append(7 ** i)\n",
    "\n",
    "    # iterating over all possible lengths of sums \n",
    "    for j in range(2,n+1):\n",
    "        \n",
    "        # appending the unique sums of all combinations of powers\n",
    "        result_list.append(set(sum(comb) for comb in combinations(power_list, j)))\n",
    "\n",
    "    # appending the list of powers of 7 to the result list\n",
    "    result_list.append(power_list)\n",
    "\n",
    "    # falttening the list because it is a list of lists/sets\n",
    "    flat_list = [item for sublist in result_list for item in sublist]\n",
    "    \n",
    "    # sorting the flattened list and only returning the value at the n-th position\n",
    "    return sorted(flat_list)[n]\n",
    "\n",
    "sevenish(3) # slow at larger numbers, but works"
   ]
  }
 ],
 "metadata": {
  "kernelspec": {
   "display_name": "Python 3",
   "language": "python",
   "name": "python3"
  },
  "language_info": {
   "codemirror_mode": {
    "name": "ipython",
    "version": 3
   },
   "file_extension": ".py",
   "mimetype": "text/x-python",
   "name": "python",
   "nbconvert_exporter": "python",
   "pygments_lexer": "ipython3",
   "version": "3.8.3"
  },
  "varInspector": {
   "cols": {
    "lenName": 16,
    "lenType": 16,
    "lenVar": 40
   },
   "kernels_config": {
    "python": {
     "delete_cmd_postfix": "",
     "delete_cmd_prefix": "del ",
     "library": "var_list.py",
     "varRefreshCmd": "print(var_dic_list())"
    },
    "r": {
     "delete_cmd_postfix": ") ",
     "delete_cmd_prefix": "rm(",
     "library": "var_list.r",
     "varRefreshCmd": "cat(var_dic_list()) "
    }
   },
   "types_to_exclude": [
    "module",
    "function",
    "builtin_function_or_method",
    "instance",
    "_Feature"
   ],
   "window_display": false
  }
 },
 "nbformat": 4,
 "nbformat_minor": 4
}
