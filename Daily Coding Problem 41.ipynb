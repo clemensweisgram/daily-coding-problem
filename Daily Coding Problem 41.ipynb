{
 "cells": [
  {
   "cell_type": "markdown",
   "metadata": {},
   "source": [
    "## Daily Coding Problem: Problem #134 [Easy]"
   ]
  },
  {
   "cell_type": "markdown",
   "metadata": {},
   "source": [
    "This problem was asked by Facebook.\n",
    "\n",
    "You have a large array with most of the elements as zero.\n",
    "\n",
    "Use a more space-efficient data structure, SparseArray, that implements the same interface:\n",
    "\n",
    "init(arr, size): initialize with the original large array and size.<br>\n",
    "set(i, val): updates index at i with val.<br>\n",
    "get(i): gets the value at index i.<br>"
   ]
  },
  {
   "cell_type": "code",
   "execution_count": 1,
   "metadata": {},
   "outputs": [
    {
     "name": "stdout",
     "output_type": "stream",
     "text": [
      "5\n",
      "10\n"
     ]
    }
   ],
   "source": [
    "array = [0,5,0,2,0,0,4]\n",
    "\n",
    "# as most elements in array are zero, only non-zero elements and their positions are stored in new data structure\n",
    "\n",
    "class SparseArray:\n",
    "    def __init__(self, arr, size):\n",
    "        \n",
    "        # initiating empty dictionary to store non-zero key-value-pairs in array\n",
    "        self.data = {}\n",
    "        \n",
    "        # iterating over array to create key-value-pair for each non-zero element in array\n",
    "        for i in range(len(arr)):\n",
    "            if arr[i] != 0:\n",
    "                self.data[i] = arr[i]\n",
    "        \n",
    "        # setting the size variable equal to specified size (not sure why this feature was requested)\n",
    "        self.size = size\n",
    "    \n",
    "    def set(self, i, val):\n",
    "        \n",
    "        # checking if the value to be set is within the size of the data structure\n",
    "        if i <= self.size:\n",
    "            \n",
    "            # setting or overwritting the key-value-pair\n",
    "            self.data[i] = val\n",
    "        \n",
    "        else:\n",
    "            \n",
    "            # printing error if trying to set index out of bounds\n",
    "            print(\"Error: trying to set value out of bounds\")\n",
    "        \n",
    "    def get(self, i):\n",
    "        \n",
    "        # checking if the value to be set is within the size of the data structure\n",
    "        if i <= self.size:\n",
    "            \n",
    "            # trying to access the requested key and printing the value\n",
    "            try:\n",
    "                print(self.data[i])\n",
    "            \n",
    "            # if key has not been defined, value has to be 0\n",
    "            except:\n",
    "                print(0)\n",
    "        \n",
    "        else:\n",
    "        \n",
    "            # printing error if trying to get index out of bounds\n",
    "            print(\"Error: trying to get value out of bounds\")\n",
    "\n",
    "            \n",
    "test = SparseArray(arr = array, size = 10)\n",
    "test.set(i = 2, val = 10)\n",
    "test.get(1)\n",
    "test.get(2)"
   ]
  }
 ],
 "metadata": {
  "kernelspec": {
   "display_name": "Python 3",
   "language": "python",
   "name": "python3"
  },
  "language_info": {
   "codemirror_mode": {
    "name": "ipython",
    "version": 3
   },
   "file_extension": ".py",
   "mimetype": "text/x-python",
   "name": "python",
   "nbconvert_exporter": "python",
   "pygments_lexer": "ipython3",
   "version": "3.8.3"
  },
  "varInspector": {
   "cols": {
    "lenName": 16,
    "lenType": 16,
    "lenVar": 40
   },
   "kernels_config": {
    "python": {
     "delete_cmd_postfix": "",
     "delete_cmd_prefix": "del ",
     "library": "var_list.py",
     "varRefreshCmd": "print(var_dic_list())"
    },
    "r": {
     "delete_cmd_postfix": ") ",
     "delete_cmd_prefix": "rm(",
     "library": "var_list.r",
     "varRefreshCmd": "cat(var_dic_list()) "
    }
   },
   "types_to_exclude": [
    "module",
    "function",
    "builtin_function_or_method",
    "instance",
    "_Feature"
   ],
   "window_display": false
  }
 },
 "nbformat": 4,
 "nbformat_minor": 4
}
