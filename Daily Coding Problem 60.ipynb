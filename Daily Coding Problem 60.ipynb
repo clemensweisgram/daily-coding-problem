{
 "cells": [
  {
   "cell_type": "markdown",
   "metadata": {},
   "source": [
    "## Daily Coding Problem: Problem #172 [Medium]"
   ]
  },
  {
   "cell_type": "markdown",
   "metadata": {},
   "source": [
    "This problem was asked by Dropbox.\n",
    "\n",
    "Given a string 's' and a list of words 'words', where each word is the same length, find all starting indices of substrings in s that is a concatenation of every word in words exactly once.\n",
    "\n",
    "For example, given s = \"dogcatcatcodecatdog\" and words = [\"cat\", \"dog\"], return [0, 13], since \"dogcat\" starts at index 0 and \"catdog\" starts at index 13.\n",
    "\n",
    "Given s = \"barfoobazbitbyte\" and words = [\"dog\", \"cat\"], return [] since there are no substrings composed of \"dog\" and \"cat\" in s.\n",
    "\n",
    "The order of the indices does not matter."
   ]
  },
  {
   "cell_type": "code",
   "execution_count": 1,
   "metadata": {},
   "outputs": [
    {
     "data": {
      "text/plain": [
       "[0, 13]"
      ]
     },
     "execution_count": 1,
     "metadata": {},
     "output_type": "execute_result"
    }
   ],
   "source": [
    "my_s = \"dogcatcatcodecatdog\"\n",
    "my_words = [\"cat\", \"dog\", \"abc\"]\n",
    "\n",
    "def my_function(s, words):\n",
    "    \n",
    "    # intialize empty lists for concatination of words and starting indexes as results\n",
    "    concats = []\n",
    "    results = []\n",
    "\n",
    "    # finding all possible combinations of words\n",
    "    for i in range(len(words)):\n",
    "        for j in range(len(words)):\n",
    "            if i != j:\n",
    "                concats.append(words[i]+words[j])\n",
    "\n",
    "    # iterating over all possible substrings to check if they are equal to one of the options in concats\n",
    "    for k in range(len(s)):\n",
    "        for l in range(len(s)):\n",
    "            if s[k:l+1] in concats:\n",
    "                results.append(k)\n",
    "                \n",
    "    return results\n",
    "\n",
    "my_function(my_s, my_words)\n",
    "\n",
    "# known bugs: words list is limited to two words"
   ]
  }
 ],
 "metadata": {
  "kernelspec": {
   "display_name": "Python 3",
   "language": "python",
   "name": "python3"
  },
  "language_info": {
   "codemirror_mode": {
    "name": "ipython",
    "version": 3
   },
   "file_extension": ".py",
   "mimetype": "text/x-python",
   "name": "python",
   "nbconvert_exporter": "python",
   "pygments_lexer": "ipython3",
   "version": "3.8.3"
  },
  "varInspector": {
   "cols": {
    "lenName": 16,
    "lenType": 16,
    "lenVar": 40
   },
   "kernels_config": {
    "python": {
     "delete_cmd_postfix": "",
     "delete_cmd_prefix": "del ",
     "library": "var_list.py",
     "varRefreshCmd": "print(var_dic_list())"
    },
    "r": {
     "delete_cmd_postfix": ") ",
     "delete_cmd_prefix": "rm(",
     "library": "var_list.r",
     "varRefreshCmd": "cat(var_dic_list()) "
    }
   },
   "types_to_exclude": [
    "module",
    "function",
    "builtin_function_or_method",
    "instance",
    "_Feature"
   ],
   "window_display": false
  }
 },
 "nbformat": 4,
 "nbformat_minor": 4
}
