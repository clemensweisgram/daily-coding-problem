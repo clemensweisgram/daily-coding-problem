{
 "cells": [
  {
   "cell_type": "markdown",
   "metadata": {},
   "source": [
    "## Daily Coding Problem: Problem #162 [Medium]"
   ]
  },
  {
   "cell_type": "markdown",
   "metadata": {},
   "source": [
    "This problem was asked by Square.\n",
    "\n",
    "Given a list of words, return the shortest unique prefix of each word. For example, given the list:\n",
    "\n",
    "dog <br>\n",
    "cat <br>\n",
    "apple <br>\n",
    "apricot <br>\n",
    "fish <br><br>\n",
    "Return the list:\n",
    "\n",
    "d <br>\n",
    "c <br>\n",
    "app <br>\n",
    "apr <br>\n",
    "f"
   ]
  },
  {
   "cell_type": "code",
   "execution_count": 1,
   "metadata": {},
   "outputs": [
    {
     "data": {
      "text/plain": [
       "['app', 'apr', 'c', 'd', 'f']"
      ]
     },
     "execution_count": 1,
     "metadata": {},
     "output_type": "execute_result"
    }
   ],
   "source": [
    "lst = [\"dog\", \"cat\", \"apple\", \"apricot\", \"fish\"]\n",
    "\n",
    "# sorting list\n",
    "lst.sort()\n",
    "\n",
    "# initializing empty list to store results\n",
    "my_result_lst = []\n",
    "\n",
    "# defining helper function\n",
    "def helper_function(lst1, result_lst):\n",
    "    \n",
    "    # initializing index counter\n",
    "    i = 1\n",
    "\n",
    "    # iterating over each element in provided list\n",
    "    for j in range(len(lst1)):\n",
    "        \n",
    "        try:\n",
    "        \n",
    "            # checking whether the first i digits of the (sorted) elements are th same\n",
    "            while lst1[j][:i] == lst1[j+1][:i]:\n",
    "                i += 1\n",
    "        except:\n",
    "            continue\n",
    "\n",
    "    # iterating over list again to append minimum unique prefix to result list\n",
    "    for k in range(len(lst1)):\n",
    "        result_lst.append(lst1[k][:i]) \n",
    "    \n",
    "    # returning result list\n",
    "    return result_lst\n",
    "\n",
    "# intantiating empty intermediate list\n",
    "my_lst1 = []\n",
    "\n",
    "# iterating over all elements in original list\n",
    "for i in range(len(lst)):\n",
    "    \n",
    "    # appending element to intermediate list\n",
    "    my_lst1.append(lst[i])\n",
    "    try:\n",
    "        \n",
    "        # continue appending to same intermediate list if first letter of next element is equal\n",
    "        if lst[i][0] == lst[i+1][0]:\n",
    "            continue\n",
    "        \n",
    "        # if next element has different first letter, apply helper function to existing intermediate list and reset intermediate list\n",
    "        else:\n",
    "            helper_function(my_lst1, my_result_lst)\n",
    "            my_lst1 = []\n",
    "    except:\n",
    "        continue\n",
    "\n",
    "# calling helper function\n",
    "helper_function(my_lst1, my_result_lst)"
   ]
  }
 ],
 "metadata": {
  "kernelspec": {
   "display_name": "Python 3",
   "language": "python",
   "name": "python3"
  },
  "language_info": {
   "codemirror_mode": {
    "name": "ipython",
    "version": 3
   },
   "file_extension": ".py",
   "mimetype": "text/x-python",
   "name": "python",
   "nbconvert_exporter": "python",
   "pygments_lexer": "ipython3",
   "version": "3.8.3"
  },
  "varInspector": {
   "cols": {
    "lenName": 16,
    "lenType": 16,
    "lenVar": 40
   },
   "kernels_config": {
    "python": {
     "delete_cmd_postfix": "",
     "delete_cmd_prefix": "del ",
     "library": "var_list.py",
     "varRefreshCmd": "print(var_dic_list())"
    },
    "r": {
     "delete_cmd_postfix": ") ",
     "delete_cmd_prefix": "rm(",
     "library": "var_list.r",
     "varRefreshCmd": "cat(var_dic_list()) "
    }
   },
   "types_to_exclude": [
    "module",
    "function",
    "builtin_function_or_method",
    "instance",
    "_Feature"
   ],
   "window_display": false
  }
 },
 "nbformat": 4,
 "nbformat_minor": 4
}
