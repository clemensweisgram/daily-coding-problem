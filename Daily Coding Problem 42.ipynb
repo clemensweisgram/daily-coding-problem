{
 "cells": [
  {
   "cell_type": "markdown",
   "metadata": {},
   "source": [
    "## Daily Coding Problem: Problem #147 [Hard]"
   ]
  },
  {
   "cell_type": "markdown",
   "metadata": {},
   "source": [
    "Given a list, sort it using this method: reverse(lst, i, j), which reverses lst from i to j."
   ]
  },
  {
   "cell_type": "code",
   "execution_count": 1,
   "metadata": {},
   "outputs": [
    {
     "data": {
      "text/plain": [
       "[0, 1, 5, 4, 3, 2, 6, 7, 8, 9]"
      ]
     },
     "execution_count": 1,
     "metadata": {},
     "output_type": "execute_result"
    }
   ],
   "source": [
    "my_lst = [0,1,2,3,4,5,6,7,8,9]\n",
    "\n",
    "class list_new:\n",
    "    def __init__(self, lst):\n",
    "        self.lst = lst\n",
    "        \n",
    "    def reverse(self, lst, i, j):\n",
    "        \n",
    "        # creating subset that should be reversed\n",
    "        reverse_lst = my_lst[i:j+1]\n",
    "        \n",
    "        # reversing subset\n",
    "        reverse_lst.reverse()\n",
    "\n",
    "        # creating placeholder for result\n",
    "        new_lst = []\n",
    "        \n",
    "        # extending placeholder with non-reverse first subset of list\n",
    "        new_lst.extend(my_lst[:i])\n",
    "        \n",
    "        # extending placeholder with reversed part\n",
    "        new_lst.extend(reverse_lst)\n",
    "        \n",
    "        # extending placeholder with non-reverse last subset of list\n",
    "        new_lst.extend(my_lst[j+1:])\n",
    "        \n",
    "        # returning partially reversed list\n",
    "        return new_lst\n",
    "\n",
    "    \n",
    "new_lst_format = list_new(my_lst)\n",
    "new_lst_format.reverse(lst = my_lst, i = 2, j = 5)"
   ]
  }
 ],
 "metadata": {
  "kernelspec": {
   "display_name": "Python 3",
   "language": "python",
   "name": "python3"
  },
  "language_info": {
   "codemirror_mode": {
    "name": "ipython",
    "version": 3
   },
   "file_extension": ".py",
   "mimetype": "text/x-python",
   "name": "python",
   "nbconvert_exporter": "python",
   "pygments_lexer": "ipython3",
   "version": "3.8.3"
  },
  "varInspector": {
   "cols": {
    "lenName": 16,
    "lenType": 16,
    "lenVar": 40
   },
   "kernels_config": {
    "python": {
     "delete_cmd_postfix": "",
     "delete_cmd_prefix": "del ",
     "library": "var_list.py",
     "varRefreshCmd": "print(var_dic_list())"
    },
    "r": {
     "delete_cmd_postfix": ") ",
     "delete_cmd_prefix": "rm(",
     "library": "var_list.r",
     "varRefreshCmd": "cat(var_dic_list()) "
    }
   },
   "types_to_exclude": [
    "module",
    "function",
    "builtin_function_or_method",
    "instance",
    "_Feature"
   ],
   "window_display": false
  }
 },
 "nbformat": 4,
 "nbformat_minor": 4
}
