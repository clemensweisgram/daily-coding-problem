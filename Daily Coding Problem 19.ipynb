{
 "cells": [
  {
   "cell_type": "markdown",
   "metadata": {},
   "source": [
    "## Daily Coding Problem: Problem #97 [Medium]"
   ]
  },
  {
   "cell_type": "markdown",
   "metadata": {},
   "source": [
    "This problem was asked by Stripe.\n",
    "\n",
    "Write a map implementation with a get function that lets you retrieve the value of a key at a particular time.\n",
    "\n",
    "It should contain the following methods:\n",
    "\n",
    "set(key, value, time): sets key to value for t = time. <br>\n",
    "get(key, time): gets the key at t = time. <br> <br>\n",
    "The map should work like this. If we set a key at a particular time, it will maintain that value forever or until it gets set at a later time. In other words, when we get a key at a time, it should return the value that was set for that key set at the most recent time.\n",
    "\n",
    "Consider the following examples:\n",
    "\n",
    "d.set(1, 1, 0) # set key 1 to value 1 at time 0 <br>\n",
    "d.set(1, 2, 2) # set key 1 to value 2 at time 2 <br>\n",
    "d.get(1, 1) # get key 1 at time 1 should be 1 <br>\n",
    "d.get(1, 3) # get key 1 at time 3 should be 2 <br> <br>\n",
    "d.set(1, 1, 5) # set key 1 to value 1 at time 5 <br>\n",
    "d.get(1, 0) # get key 1 at time 0 should be null <br>\n",
    "d.get(1, 10) # get key 1 at time 10 should be 1 <br> <br>\n",
    "d.set(1, 1, 0) # set key 1 to value 1 at time 0 <br>\n",
    "d.set(1, 2, 0) # set key 1 to value 2 at time 0 <br>\n",
    "d.get(1, 0) # get key 1 at time 0 should be 2\n",
    "\n"
   ]
  },
  {
   "cell_type": "code",
   "execution_count": 8,
   "metadata": {},
   "outputs": [],
   "source": [
    "# instantiating central storage for all information in the form of a dicationary\n",
    "my_dict = {}"
   ]
  },
  {
   "cell_type": "code",
   "execution_count": 9,
   "metadata": {},
   "outputs": [],
   "source": [
    "import pandas as pd\n",
    "\n",
    "class d:\n",
    "    def __init__(self):\n",
    "        self.data = []\n",
    "    \n",
    "    def set(key, value, time):\n",
    "        global test\n",
    "        \n",
    "        # creating name for dictionary key\n",
    "        dict_key = 'key' + str(key)  \n",
    "        \n",
    "        # checking if the key has not yet been added to the dictionary\n",
    "        if dict_key not in my_dict.keys():\n",
    "            \n",
    "            # instantiate new list\n",
    "            initial_index = []\n",
    "            \n",
    "            # iterating over each element and appending it to new list\n",
    "            for i in range(100): # limit to max 100 on time input\n",
    "                initial_index.append(i)\n",
    "\n",
    "            # creating dataframe for further use\n",
    "            test = pd.DataFrame(index=initial_index, columns=[\"time\", \"value\"])\n",
    "            \n",
    "            # assigning the value to the period it belongs to and each subsequent period  \n",
    "            for j in range(time, 101):\n",
    "                test.loc[j,\"value\"] = value\n",
    "\n",
    "            # setting the index\n",
    "            test.time = test.index\n",
    "            \n",
    "            # assigning the value to the respective time row \n",
    "            test.loc[time,\"value\"] = value\n",
    "            \n",
    "            # adding the key-value-pair to dictionary (key is a string, value is a dataframe)\n",
    "            my_dict[dict_key] = test\n",
    "\n",
    "        # if the key is already in the dictionary, only adjust the periods after the given time with the new value\n",
    "        elif dict_key in my_dict.keys():\n",
    "            for k in range(time, 101):\n",
    "                test.loc[k,\"value\"] = value\n",
    "        \n",
    "        # handling errors\n",
    "        else: \n",
    "            print(\"Something went wrong\")   \n",
    "        \n",
    "    def get(key, time):\n",
    "        \n",
    "        # creating name for dictionary key\n",
    "        dict_key = 'key' + str(key)\n",
    "        \n",
    "        # returning value of from called time period and key\n",
    "        return my_dict[dict_key].loc[time,\"value\"]\n",
    "\n",
    "# Known bugs:\n",
    "## limit of 100 time units"
   ]
  },
  {
   "cell_type": "code",
   "execution_count": 10,
   "metadata": {},
   "outputs": [
    {
     "data": {
      "text/plain": [
       "2"
      ]
     },
     "execution_count": 10,
     "metadata": {},
     "output_type": "execute_result"
    }
   ],
   "source": [
    "d.set(1, 1, 0) # set key 1 to value 1 at time 0 \n",
    "d.set(1, 2, 2) # set key 1 to value 2 at time 2 \n",
    "d.get(1, 1) # get key 1 at time 1 should be 1 \n",
    "d.get(1, 3) # get key 1 at time 3 should be 2 "
   ]
  },
  {
   "cell_type": "code",
   "execution_count": 11,
   "metadata": {},
   "outputs": [
    {
     "data": {
      "text/plain": [
       "1"
      ]
     },
     "execution_count": 11,
     "metadata": {},
     "output_type": "execute_result"
    }
   ],
   "source": [
    "d.set(1, 1, 5) # set key 1 to value 1 at time 5 \n",
    "d.get(1, 0) # get key 1 at time 0 should be null \n",
    "d.get(1, 10) # get key 1 at time 10 should be 1 "
   ]
  },
  {
   "cell_type": "code",
   "execution_count": 12,
   "metadata": {},
   "outputs": [
    {
     "data": {
      "text/plain": [
       "2"
      ]
     },
     "execution_count": 12,
     "metadata": {},
     "output_type": "execute_result"
    }
   ],
   "source": [
    "d.set(1, 1, 0) # set key 1 to value 1 at time 0\n",
    "d.set(1, 2, 0) # set key 1 to value 2 at time 0\n",
    "d.get(1, 0) # get key 1 at time 0 should be 2"
   ]
  }
 ],
 "metadata": {
  "kernelspec": {
   "display_name": "Python 3",
   "language": "python",
   "name": "python3"
  },
  "language_info": {
   "codemirror_mode": {
    "name": "ipython",
    "version": 3
   },
   "file_extension": ".py",
   "mimetype": "text/x-python",
   "name": "python",
   "nbconvert_exporter": "python",
   "pygments_lexer": "ipython3",
   "version": "3.8.3"
  },
  "varInspector": {
   "cols": {
    "lenName": 16,
    "lenType": 16,
    "lenVar": 40
   },
   "kernels_config": {
    "python": {
     "delete_cmd_postfix": "",
     "delete_cmd_prefix": "del ",
     "library": "var_list.py",
     "varRefreshCmd": "print(var_dic_list())"
    },
    "r": {
     "delete_cmd_postfix": ") ",
     "delete_cmd_prefix": "rm(",
     "library": "var_list.r",
     "varRefreshCmd": "cat(var_dic_list()) "
    }
   },
   "types_to_exclude": [
    "module",
    "function",
    "builtin_function_or_method",
    "instance",
    "_Feature"
   ],
   "window_display": false
  }
 },
 "nbformat": 4,
 "nbformat_minor": 4
}
