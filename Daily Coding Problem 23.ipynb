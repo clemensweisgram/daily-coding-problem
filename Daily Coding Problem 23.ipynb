{
 "cells": [
  {
   "cell_type": "markdown",
   "metadata": {},
   "source": [
    "## Daily Coding Problem: Problem #108 [Easy]"
   ]
  },
  {
   "cell_type": "markdown",
   "metadata": {},
   "source": [
    "This problem was asked by Google.\n",
    "\n",
    "Given two strings A and B, return whether or not A can be shifted some number of times to get B.\n",
    "\n",
    "For example, if A is abcde and B is cdeab, return true. If A is abc and B is acb, return false."
   ]
  },
  {
   "cell_type": "code",
   "execution_count": 1,
   "metadata": {},
   "outputs": [
    {
     "name": "stdout",
     "output_type": "stream",
     "text": [
      "True\n"
     ]
    }
   ],
   "source": [
    "a = \"abcde\"\n",
    "b = \"cdeab\"\n",
    "\n",
    "def shift_check(string_a, string_b):\n",
    "    \n",
    "    # defining helper function to shift string by one position\n",
    "    def shift(string):\n",
    "        new_string = string[1:] + string[0]\n",
    "        return new_string\n",
    "\n",
    "    # initializing the new_a variable\n",
    "    new_a = string_a\n",
    "\n",
    "    # looping over each shift of the string\n",
    "    for i in range(len(a)):\n",
    "\n",
    "        # applying the shift function to move it one element further\n",
    "        new_a = shift(new_a)\n",
    "\n",
    "        # if the shifted string is equal to the comparison string, return True and end the loop\n",
    "        if new_a == string_b:\n",
    "            print(True)\n",
    "            break\n",
    "\n",
    "        # if the loop reaches the last element and does not return True, then return False\n",
    "        if i == len(a)-1:\n",
    "            print(False)\n",
    "            \n",
    "shift_check(a, b)"
   ]
  }
 ],
 "metadata": {
  "kernelspec": {
   "display_name": "Python 3",
   "language": "python",
   "name": "python3"
  },
  "language_info": {
   "codemirror_mode": {
    "name": "ipython",
    "version": 3
   },
   "file_extension": ".py",
   "mimetype": "text/x-python",
   "name": "python",
   "nbconvert_exporter": "python",
   "pygments_lexer": "ipython3",
   "version": "3.8.3"
  },
  "varInspector": {
   "cols": {
    "lenName": 16,
    "lenType": 16,
    "lenVar": 40
   },
   "kernels_config": {
    "python": {
     "delete_cmd_postfix": "",
     "delete_cmd_prefix": "del ",
     "library": "var_list.py",
     "varRefreshCmd": "print(var_dic_list())"
    },
    "r": {
     "delete_cmd_postfix": ") ",
     "delete_cmd_prefix": "rm(",
     "library": "var_list.r",
     "varRefreshCmd": "cat(var_dic_list()) "
    }
   },
   "types_to_exclude": [
    "module",
    "function",
    "builtin_function_or_method",
    "instance",
    "_Feature"
   ],
   "window_display": false
  }
 },
 "nbformat": 4,
 "nbformat_minor": 4
}
