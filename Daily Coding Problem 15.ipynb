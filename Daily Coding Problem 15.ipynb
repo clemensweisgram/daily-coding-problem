{
 "cells": [
  {
   "cell_type": "markdown",
   "metadata": {},
   "source": [
    "## Daily Coding Problem: Problem #82 [Easy]"
   ]
  },
  {
   "cell_type": "markdown",
   "metadata": {},
   "source": [
    "This problem was asked Microsoft.\n",
    "\n",
    "Using a read7() method that returns 7 characters from a file, implement readN(n) which reads n characters.\n",
    "\n",
    "For example, given a file with the content “Hello world”, three read7() returns “Hello w”, “orld” and then “”."
   ]
  },
  {
   "cell_type": "code",
   "execution_count": 6,
   "metadata": {},
   "outputs": [
    {
     "data": {
      "text/plain": [
       "['Hell', 'o wo', 'rld']"
      ]
     },
     "execution_count": 6,
     "metadata": {},
     "output_type": "execute_result"
    }
   ],
   "source": [
    "# simplified\n",
    "\n",
    "import math\n",
    "\n",
    "file = \"Hello world\"\n",
    "\n",
    "class File:\n",
    "    def __init__(self, data):\n",
    "        self.data = data\n",
    "    \n",
    "    def read7(self):\n",
    "        plchldr = []\n",
    "\n",
    "        # looping over each string of n elements and appending it to the placeholder\n",
    "        for i in range(1,math.ceil(len(self.data) / 7 )+1):\n",
    "            plchldr.append(self.data[i*7-7:i*7])\n",
    "        \n",
    "        return plchldr\n",
    "    \n",
    "    def readN(self, n):\n",
    "        plchldr = []\n",
    "        \n",
    "        # looping over each string of n elements and appending it to the placeholder\n",
    "        for i in range(1,math.ceil(len(self.data) / n )+1):\n",
    "            plchldr.append(self.data[i*n-n:i*n])\n",
    "        \n",
    "        return plchldr\n",
    "    \n",
    "my_data = File(file) \n",
    "my_data.read7()\n",
    "my_data.readN(n = 4)"
   ]
  }
 ],
 "metadata": {
  "kernelspec": {
   "display_name": "Python 3",
   "language": "python",
   "name": "python3"
  },
  "language_info": {
   "codemirror_mode": {
    "name": "ipython",
    "version": 3
   },
   "file_extension": ".py",
   "mimetype": "text/x-python",
   "name": "python",
   "nbconvert_exporter": "python",
   "pygments_lexer": "ipython3",
   "version": "3.8.3"
  },
  "varInspector": {
   "cols": {
    "lenName": 16,
    "lenType": 16,
    "lenVar": 40
   },
   "kernels_config": {
    "python": {
     "delete_cmd_postfix": "",
     "delete_cmd_prefix": "del ",
     "library": "var_list.py",
     "varRefreshCmd": "print(var_dic_list())"
    },
    "r": {
     "delete_cmd_postfix": ") ",
     "delete_cmd_prefix": "rm(",
     "library": "var_list.r",
     "varRefreshCmd": "cat(var_dic_list()) "
    }
   },
   "types_to_exclude": [
    "module",
    "function",
    "builtin_function_or_method",
    "instance",
    "_Feature"
   ],
   "window_display": false
  }
 },
 "nbformat": 4,
 "nbformat_minor": 4
}
