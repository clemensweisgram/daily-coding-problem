{
 "cells": [
  {
   "cell_type": "markdown",
   "metadata": {},
   "source": [
    "## Daily Coding Problem: Problem #216 [Medium]"
   ]
  },
  {
   "cell_type": "markdown",
   "metadata": {},
   "source": [
    "This problem was asked by Facebook.\n",
    "\n",
    "Given a number in Roman numeral format, convert it to decimal.\n",
    "\n",
    "The values of Roman numerals are as follows:\n",
    "\n",
    "{ <br>\n",
    "    'M': 1000, <br>\n",
    "    'D': 500, <br>\n",
    "    'C': 100, <br>\n",
    "    'L': 50, <br>\n",
    "    'X': 10, <br>\n",
    "    'V': 5, <br>\n",
    "    'I': 1 <br>\n",
    "} <br>\n",
    "\n",
    "In addition, note that the Roman numeral system uses subtractive notation for numbers such as IV and XL.\n",
    "\n",
    "For the input XIV, for instance, you should return 14."
   ]
  },
  {
   "cell_type": "code",
   "execution_count": 1,
   "metadata": {},
   "outputs": [
    {
     "data": {
      "text/plain": [
       "14"
      ]
     },
     "execution_count": 1,
     "metadata": {},
     "output_type": "execute_result"
    }
   ],
   "source": [
    "my_input_roman = \"XIV\"\n",
    "\n",
    "def roman_to_decimal(input_roman):\n",
    "    \n",
    "    # adding a dict with the conversion from roman to decimal numbers\n",
    "    number_system = {\n",
    "        'M': 1000,\n",
    "        'D': 500,\n",
    "        'C': 100,\n",
    "        'L': 50,\n",
    "        'X': 10,\n",
    "        'V': 5,\n",
    "        'I': 1\n",
    "    }\n",
    "    \n",
    "    # initializing decimal number\n",
    "    number = 0\n",
    "\n",
    "    # setting variable to the last value in roman number minus 1 (used to check whether the letter in roman number in front is less than current value; subtraction required)\n",
    "    previous_number = number_system[input_roman[-1]] - 1 \n",
    "\n",
    "    # iterating backwards\n",
    "    for i in input_roman[::-1]:\n",
    "        \n",
    "        # checking if the number is less than the previous number\n",
    "        if number_system[i] <= previous_number:\n",
    "            \n",
    "            # subtracting from the decimal number\n",
    "            number -= number_system[i]\n",
    "            \n",
    "            # setting the new previous number to the current number (for next iteration)\n",
    "            previous_number = number_system[i]\n",
    "        else:\n",
    "            \n",
    "            # adding to the decimal number\n",
    "            number += number_system[i]  \n",
    "            \n",
    "            # setting the new previous number to the current number (for next iteration)\n",
    "            previous_number = number_system[i]\n",
    "\n",
    "    return number\n",
    "\n",
    "roman_to_decimal(my_input_roman)"
   ]
  }
 ],
 "metadata": {
  "kernelspec": {
   "display_name": "Python 3",
   "language": "python",
   "name": "python3"
  },
  "language_info": {
   "codemirror_mode": {
    "name": "ipython",
    "version": 3
   },
   "file_extension": ".py",
   "mimetype": "text/x-python",
   "name": "python",
   "nbconvert_exporter": "python",
   "pygments_lexer": "ipython3",
   "version": "3.8.3"
  },
  "varInspector": {
   "cols": {
    "lenName": 16,
    "lenType": 16,
    "lenVar": 40
   },
   "kernels_config": {
    "python": {
     "delete_cmd_postfix": "",
     "delete_cmd_prefix": "del ",
     "library": "var_list.py",
     "varRefreshCmd": "print(var_dic_list())"
    },
    "r": {
     "delete_cmd_postfix": ") ",
     "delete_cmd_prefix": "rm(",
     "library": "var_list.r",
     "varRefreshCmd": "cat(var_dic_list()) "
    }
   },
   "types_to_exclude": [
    "module",
    "function",
    "builtin_function_or_method",
    "instance",
    "_Feature"
   ],
   "window_display": false
  }
 },
 "nbformat": 4,
 "nbformat_minor": 4
}
