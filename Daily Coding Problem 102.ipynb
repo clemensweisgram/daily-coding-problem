{
 "cells": [
  {
   "cell_type": "markdown",
   "metadata": {},
   "source": [
    "## Daily Coding Problem: Problem #263 [Medium]"
   ]
  },
  {
   "cell_type": "markdown",
   "metadata": {},
   "source": [
    "This problem was asked by Nest.\n",
    "\n",
    "Create a basic sentence checker that takes in a stream of characters and determines whether they form valid sentences. If a sentence is valid, the program should print it out.\n",
    "\n",
    "We can consider a sentence valid if it conforms to the following rules:\n",
    "\n",
    "- The sentence must start with a capital letter, followed by a lowercase letter or a space.\n",
    "- All other characters must be lowercase letters, separators (,,;,:) or terminal marks (.,?,!,‽).\n",
    "- There must be a single space between each word.\n",
    "- The sentence must end with a terminal mark immediately following a word."
   ]
  },
  {
   "cell_type": "code",
   "execution_count": 1,
   "metadata": {},
   "outputs": [
    {
     "data": {
      "text/plain": [
       "'This is a test sentence!'"
      ]
     },
     "execution_count": 1,
     "metadata": {},
     "output_type": "execute_result"
    }
   ],
   "source": [
    "my_sentence = \"This is a test sentence!\"\n",
    "\n",
    "\n",
    "def sentence_checker(sentence):\n",
    "\n",
    "    # checking whether the first letter is capitalized and the second one is either lower case or a space\n",
    "    if sentence[0].isupper() and (sentence[1].islower() or sentence[1] == \" \"):\n",
    "        \n",
    "        # setting the is_sentence variable to True\n",
    "        is_sentence = True\n",
    "    \n",
    "    else:\n",
    "        \n",
    "        # setting the is_sentence variable to False\n",
    "        is_sentence = False\n",
    "\n",
    "    # iterating over all but the first letter in sentence\n",
    "    for i in sentence[1:]:\n",
    "        \n",
    "        # checking whether any is upper case\n",
    "        if i.isupper():\n",
    "            \n",
    "            # setting the is_sentence variable to False\n",
    "            is_sentence = False\n",
    "\n",
    "    # checking whether a double space is in the sentence\n",
    "    if \"  \" in sentence:\n",
    "        \n",
    "        # setting the is_sentence variable to False\n",
    "        is_sentence = False\n",
    "\n",
    "    # whether the last character in the sentence is a terminal mark and the one before is not a space\n",
    "    if sentence[-1] not in [\".\",\"?\",\"!\",\"‽\"] or sentence[-2] == \" \":\n",
    "        \n",
    "        # setting the is_sentence variable to False\n",
    "        is_sentence = False\n",
    "\n",
    "    # only returning the sentence if non of the previous tests set the is_sentence variable to False\n",
    "    if is_sentence:\n",
    "        return sentence\n",
    "    \n",
    "sentence_checker(my_sentence)"
   ]
  }
 ],
 "metadata": {
  "kernelspec": {
   "display_name": "Python 3",
   "language": "python",
   "name": "python3"
  },
  "language_info": {
   "codemirror_mode": {
    "name": "ipython",
    "version": 3
   },
   "file_extension": ".py",
   "mimetype": "text/x-python",
   "name": "python",
   "nbconvert_exporter": "python",
   "pygments_lexer": "ipython3",
   "version": "3.8.3"
  },
  "varInspector": {
   "cols": {
    "lenName": 16,
    "lenType": 16,
    "lenVar": 40
   },
   "kernels_config": {
    "python": {
     "delete_cmd_postfix": "",
     "delete_cmd_prefix": "del ",
     "library": "var_list.py",
     "varRefreshCmd": "print(var_dic_list())"
    },
    "r": {
     "delete_cmd_postfix": ") ",
     "delete_cmd_prefix": "rm(",
     "library": "var_list.r",
     "varRefreshCmd": "cat(var_dic_list()) "
    }
   },
   "types_to_exclude": [
    "module",
    "function",
    "builtin_function_or_method",
    "instance",
    "_Feature"
   ],
   "window_display": false
  }
 },
 "nbformat": 4,
 "nbformat_minor": 4
}
