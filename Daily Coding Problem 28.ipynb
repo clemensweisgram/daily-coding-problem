{
 "cells": [
  {
   "cell_type": "markdown",
   "metadata": {},
   "source": [
    "## Daily Coding Problem: Problem #119 [Medium]"
   ]
  },
  {
   "cell_type": "markdown",
   "metadata": {},
   "source": [
    "This problem was asked by Google.\n",
    "\n",
    "Given a set of closed intervals, find the smallest set of numbers that covers all the intervals. If there are multiple smallest sets, return any of them.\n",
    "\n",
    "For example, given the intervals [0, 3], [2, 6], [3, 4], [6, 9], one set of numbers that covers all these intervals is {3, 6}."
   ]
  },
  {
   "cell_type": "code",
   "execution_count": 1,
   "metadata": {},
   "outputs": [
    {
     "data": {
      "text/plain": [
       "{3, 6}"
      ]
     },
     "execution_count": 1,
     "metadata": {},
     "output_type": "execute_result"
    }
   ],
   "source": [
    "intervals = [[0, 3], [2, 6], [3, 4], [6, 9]]\n",
    "\n",
    "# setting any arbitrary interval as min and max interval\n",
    "min_interval = intervals[0]\n",
    "max_interval = intervals[0]\n",
    "\n",
    "# iterating over all intervals\n",
    "for i in range(len(intervals)):\n",
    "    \n",
    "    # min interval is the one with the lowest value on position 0\n",
    "    if intervals[i][0] < min_interval[0]:\n",
    "        min_interval = intervals[i]\n",
    "    \n",
    "    # if there is more than one interval with the same lower bound, pick the one with the lower upper bound\n",
    "    elif intervals[i][0] == min_interval[0]:\n",
    "        if intervals[i][1] < min_interval[1]:\n",
    "            min_interval = intervals[i]\n",
    "    \n",
    "    # max interval is the one with the highest value on position 1\n",
    "    if intervals[i][1] > max_interval[1]:\n",
    "        max_interval = intervals[i]\n",
    "    \n",
    "    # if there is more than one interval with the same upper bound, pick the one with the higher lower bound\n",
    "    elif intervals[i][1] == max_interval[1]:\n",
    "        if intervals[i][0] > max_interval[0]:\n",
    "            max_interval = intervals[i]\n",
    "\n",
    "# numbers to cover all intervals are the upper limit of the min interval and the lower limit of the max interval\n",
    "new_set = {min_interval[1], max_interval[0]}\n",
    "new_set"
   ]
  }
 ],
 "metadata": {
  "kernelspec": {
   "display_name": "Python 3",
   "language": "python",
   "name": "python3"
  },
  "language_info": {
   "codemirror_mode": {
    "name": "ipython",
    "version": 3
   },
   "file_extension": ".py",
   "mimetype": "text/x-python",
   "name": "python",
   "nbconvert_exporter": "python",
   "pygments_lexer": "ipython3",
   "version": "3.8.3"
  },
  "varInspector": {
   "cols": {
    "lenName": 16,
    "lenType": 16,
    "lenVar": 40
   },
   "kernels_config": {
    "python": {
     "delete_cmd_postfix": "",
     "delete_cmd_prefix": "del ",
     "library": "var_list.py",
     "varRefreshCmd": "print(var_dic_list())"
    },
    "r": {
     "delete_cmd_postfix": ") ",
     "delete_cmd_prefix": "rm(",
     "library": "var_list.r",
     "varRefreshCmd": "cat(var_dic_list()) "
    }
   },
   "types_to_exclude": [
    "module",
    "function",
    "builtin_function_or_method",
    "instance",
    "_Feature"
   ],
   "window_display": false
  }
 },
 "nbformat": 4,
 "nbformat_minor": 4
}
