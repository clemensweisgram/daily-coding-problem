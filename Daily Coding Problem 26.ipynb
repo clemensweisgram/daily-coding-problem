{
 "cells": [
  {
   "cell_type": "markdown",
   "metadata": {},
   "source": [
    "## Daily Coding Problem: Problem #113 [Medium]"
   ]
  },
  {
   "cell_type": "markdown",
   "metadata": {},
   "source": [
    "This problem was asked by Google.\n",
    "\n",
    "Given a string of words delimited by spaces, reverse the words in string. For example, given \"hello world here\", return \"here world hello\"\n",
    "\n",
    "Follow-up: given a mutable string representation, can you perform this operation in-place?"
   ]
  },
  {
   "cell_type": "code",
   "execution_count": 1,
   "metadata": {},
   "outputs": [
    {
     "data": {
      "text/plain": [
       "'here world hello'"
      ]
     },
     "execution_count": 1,
     "metadata": {},
     "output_type": "execute_result"
    }
   ],
   "source": [
    "my_string = \"hello world here\"\n",
    "\n",
    "def flip_string1(string):\n",
    "    # splitting string in list of words separated by a space\n",
    "    split = string.split()\n",
    "\n",
    "    # initiating a new string to store results\n",
    "    new_string = str()\n",
    "\n",
    "    # iterating the number of times that is equal to the length of the list - 1\n",
    "    for i in range(len(split)):\n",
    "\n",
    "        # adding the reversely ordered words to new string by taking last element of list\n",
    "        new_string = new_string + \" \" + str(split[-1])\n",
    "\n",
    "        # dropping last element of list once it has been used\n",
    "        split.pop()\n",
    "\n",
    "    # dropping leading space\n",
    "    new_string = new_string[1:]\n",
    "\n",
    "    return new_string\n",
    "\n",
    "flip_string1(my_string)"
   ]
  },
  {
   "cell_type": "code",
   "execution_count": 2,
   "metadata": {},
   "outputs": [
    {
     "data": {
      "text/plain": [
       "['here', 'world', 'hello']"
      ]
     },
     "execution_count": 2,
     "metadata": {},
     "output_type": "execute_result"
    }
   ],
   "source": [
    "my_string = \"hello world here\"\n",
    "\n",
    "def flip_string2(string):\n",
    "    \n",
    "    # splitting string in list of words separated by a space\n",
    "    split = string.split()\n",
    "\n",
    "    # iterating over all elements in list and swapping the i-1th and -ith element\n",
    "    for i in range(1,2):\n",
    "        back_to_front = split[-i]\n",
    "        front_to_back = split[i-1]\n",
    "        split[i-1] = back_to_front\n",
    "        split[-i] = front_to_back\n",
    "\n",
    "    return split\n",
    "\n",
    "flip_string2(my_string)"
   ]
  }
 ],
 "metadata": {
  "kernelspec": {
   "display_name": "Python 3",
   "language": "python",
   "name": "python3"
  },
  "language_info": {
   "codemirror_mode": {
    "name": "ipython",
    "version": 3
   },
   "file_extension": ".py",
   "mimetype": "text/x-python",
   "name": "python",
   "nbconvert_exporter": "python",
   "pygments_lexer": "ipython3",
   "version": "3.8.3"
  },
  "varInspector": {
   "cols": {
    "lenName": 16,
    "lenType": 16,
    "lenVar": 40
   },
   "kernels_config": {
    "python": {
     "delete_cmd_postfix": "",
     "delete_cmd_prefix": "del ",
     "library": "var_list.py",
     "varRefreshCmd": "print(var_dic_list())"
    },
    "r": {
     "delete_cmd_postfix": ") ",
     "delete_cmd_prefix": "rm(",
     "library": "var_list.r",
     "varRefreshCmd": "cat(var_dic_list()) "
    }
   },
   "types_to_exclude": [
    "module",
    "function",
    "builtin_function_or_method",
    "instance",
    "_Feature"
   ],
   "window_display": false
  }
 },
 "nbformat": 4,
 "nbformat_minor": 4
}
