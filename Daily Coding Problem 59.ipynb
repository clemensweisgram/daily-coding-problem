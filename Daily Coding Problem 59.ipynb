{
 "cells": [
  {
   "cell_type": "markdown",
   "metadata": {},
   "source": [
    "## Daily Coding Problem: Problem #171 [Easy]"
   ]
  },
  {
   "cell_type": "markdown",
   "metadata": {},
   "source": [
    "This problem was asked by Amazon.\n",
    "\n",
    "You are given a list of data entries that represent entries and exits of groups of people into a building. An entry looks like this:\n",
    "\n",
    "{\"timestamp\": 1526579928, count: 3, \"type\": \"enter\"}\n",
    "\n",
    "This means 3 people entered the building. An exit looks like this:\n",
    "\n",
    "{\"timestamp\": 1526580382, count: 2, \"type\": \"exit\"}\n",
    "\n",
    "This means that 2 people exited the building. timestamp is in Unix time.\n",
    "\n",
    "Find the busiest period in the building, that is, the time with the most people in the building. Return it as a pair of (start, end) timestamps. You can assume the building always starts off and ends up empty, i.e. with 0 people inside."
   ]
  },
  {
   "cell_type": "code",
   "execution_count": 1,
   "metadata": {},
   "outputs": [
    {
     "data": {
      "text/plain": [
       "(1526580387, 1526580388)"
      ]
     },
     "execution_count": 1,
     "metadata": {},
     "output_type": "execute_result"
    }
   ],
   "source": [
    "entry1 = {\"timestamp\": 1526579928, \"count\": 3, \"type\": \"enter\"}\n",
    "entry2 = {\"timestamp\": 1526580382, \"count\": 2, \"type\": \"exit\"}\n",
    "entry3 = {\"timestamp\": 1526580383, \"count\": 3, \"type\": \"enter\"}\n",
    "entry4 = {\"timestamp\": 1526580384, \"count\": 2, \"type\": \"exit\"}\n",
    "entry5 = {\"timestamp\": 1526580385, \"count\": 3, \"type\": \"enter\"}\n",
    "entry6 = {\"timestamp\": 1526580386, \"count\": 2, \"type\": \"exit\"}\n",
    "entry7 = {\"timestamp\": 1526580387, \"count\": 3, \"type\": \"enter\"}\n",
    "entry8 = {\"timestamp\": 1526580388, \"count\": 4, \"type\": \"exit\"}\n",
    "entry9 = {\"timestamp\": 1526580389, \"count\": 1, \"type\": \"enter\"}\n",
    "entry10 = {\"timestamp\": 1526580390, \"count\": 3, \"type\": \"exit\"}\n",
    "\n",
    "list_of_entries = [entry1, entry2, entry3, entry4, entry5, entry6, entry7, entry8, entry9, entry10]\n",
    "\n",
    "def max_people_count(entries):\n",
    "    \n",
    "    # sorting list of entries by timestamp and type (because enter needs to happen before exit if timestamp is equal)\n",
    "    entries = sorted(entries, key = lambda i: (i['timestamp'], i['type']))\n",
    "\n",
    "    # initializing counters\n",
    "    people_counter = 0\n",
    "    max_people_counter = 0\n",
    "    max_start = 0\n",
    "    max_end = 0\n",
    "    next_exit_end_timestamp = 0\n",
    "\n",
    "    # iterating through all entries\n",
    "    for i in entries:\n",
    "        \n",
    "        # adding people who enter to the people counter\n",
    "        if i[\"type\"] == \"enter\":\n",
    "            people_counter += i[\"count\"]\n",
    "            \n",
    "        # subtracting people who leave from the people counter\n",
    "        elif i[\"type\"] == \"exit\":\n",
    "            people_counter -= i[\"count\"]\n",
    "\n",
    "        # checking if people counter is at it's maximum\n",
    "        if people_counter > max_people_counter:\n",
    "            \n",
    "            # updating maximum people counter\n",
    "            max_people_counter = people_counter\n",
    "            \n",
    "            # setting start date of maximum occupancy\n",
    "            max_start = i[\"timestamp\"]\n",
    "            \n",
    "            # setting marker for finding end of maximum occupancy\n",
    "            next_exit_end_timestamp = 1\n",
    "\n",
    "        # reaching end of maximum occupancy if marker was set to 1 previously and looking for next exit entry\n",
    "        if next_exit_end_timestamp == 1 and i[\"type\"] == \"exit\":\n",
    "            max_end = i[\"timestamp\"]\n",
    "            next_exit_end_timestamp = 0\n",
    "\n",
    "    return (max_start, max_end)\n",
    "\n",
    "max_people_count(list_of_entries)"
   ]
  }
 ],
 "metadata": {
  "kernelspec": {
   "display_name": "Python 3",
   "language": "python",
   "name": "python3"
  },
  "language_info": {
   "codemirror_mode": {
    "name": "ipython",
    "version": 3
   },
   "file_extension": ".py",
   "mimetype": "text/x-python",
   "name": "python",
   "nbconvert_exporter": "python",
   "pygments_lexer": "ipython3",
   "version": "3.8.3"
  },
  "varInspector": {
   "cols": {
    "lenName": 16,
    "lenType": 16,
    "lenVar": 40
   },
   "kernels_config": {
    "python": {
     "delete_cmd_postfix": "",
     "delete_cmd_prefix": "del ",
     "library": "var_list.py",
     "varRefreshCmd": "print(var_dic_list())"
    },
    "r": {
     "delete_cmd_postfix": ") ",
     "delete_cmd_prefix": "rm(",
     "library": "var_list.r",
     "varRefreshCmd": "cat(var_dic_list()) "
    }
   },
   "types_to_exclude": [
    "module",
    "function",
    "builtin_function_or_method",
    "instance",
    "_Feature"
   ],
   "window_display": false
  }
 },
 "nbformat": 4,
 "nbformat_minor": 4
}
