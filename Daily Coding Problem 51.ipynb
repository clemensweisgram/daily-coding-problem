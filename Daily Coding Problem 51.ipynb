{
 "cells": [
  {
   "cell_type": "markdown",
   "metadata": {},
   "source": [
    "## Daily Coding Problem: Problem #155 [Medium]"
   ]
  },
  {
   "cell_type": "markdown",
   "metadata": {},
   "source": [
    "This problem was asked by MongoDB.\n",
    "\n",
    "Given a list of elements, find the majority element, which appears more than half the time (> floor(len(lst) / 2.0)).\n",
    "\n",
    "You can assume that such element exists.\n",
    "\n",
    "For example, given [1, 2, 1, 1, 3, 4, 0], return 1."
   ]
  },
  {
   "cell_type": "code",
   "execution_count": 1,
   "metadata": {},
   "outputs": [
    {
     "data": {
      "text/plain": [
       "1"
      ]
     },
     "execution_count": 1,
     "metadata": {},
     "output_type": "execute_result"
    }
   ],
   "source": [
    "import math\n",
    "\n",
    "my_lst = [1, 2, 1, 1, 3, 4, 0]\n",
    "\n",
    "def majority_element(lst):\n",
    "    \n",
    "    # iterating over each unique value in lst\n",
    "    for i in set(lst):\n",
    "        \n",
    "        # checking if count of value is greater or equal than half the length of lst\n",
    "        if lst.count(i) >= math.floor(len(lst) / 2.0):\n",
    "            return i\n",
    "\n",
    "majority_element(my_lst)   \n",
    "\n",
    "# suggestion problem statement indicates to use > sign. However, as evidenced by the sample solution in the problem statement, >= sign is required to get desired outcome"
   ]
  }
 ],
 "metadata": {
  "kernelspec": {
   "display_name": "Python 3",
   "language": "python",
   "name": "python3"
  },
  "language_info": {
   "codemirror_mode": {
    "name": "ipython",
    "version": 3
   },
   "file_extension": ".py",
   "mimetype": "text/x-python",
   "name": "python",
   "nbconvert_exporter": "python",
   "pygments_lexer": "ipython3",
   "version": "3.8.3"
  },
  "varInspector": {
   "cols": {
    "lenName": 16,
    "lenType": 16,
    "lenVar": 40
   },
   "kernels_config": {
    "python": {
     "delete_cmd_postfix": "",
     "delete_cmd_prefix": "del ",
     "library": "var_list.py",
     "varRefreshCmd": "print(var_dic_list())"
    },
    "r": {
     "delete_cmd_postfix": ") ",
     "delete_cmd_prefix": "rm(",
     "library": "var_list.r",
     "varRefreshCmd": "cat(var_dic_list()) "
    }
   },
   "types_to_exclude": [
    "module",
    "function",
    "builtin_function_or_method",
    "instance",
    "_Feature"
   ],
   "window_display": false
  }
 },
 "nbformat": 4,
 "nbformat_minor": 4
}
