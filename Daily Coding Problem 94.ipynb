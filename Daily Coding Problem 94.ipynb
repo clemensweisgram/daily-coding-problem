{
 "cells": [
  {
   "cell_type": "markdown",
   "metadata": {},
   "source": [
    "## Daily Coding Problem: Problem #238 [Hard]"
   ]
  },
  {
   "cell_type": "markdown",
   "metadata": {},
   "source": [
    "This problem was asked by MIT.\n",
    "\n",
    "Blackjack is a two player card game whose rules are as follows:\n",
    "\n",
    "- The player and then the dealer are each given two cards. <br>\n",
    "- The player can then \"hit\", or ask for arbitrarily many additional cards, so long as their total does not exceed 21. <br>\n",
    "- The dealer must then hit if their total is 16 or lower, otherwise pass. <br>\n",
    "- Finally, the two compare totals, and the one with the greatest sum not exceeding 21 is the winner. <br>\n",
    "\n",
    "For this problem, cards values are counted as follows: each card between 2 and 10 counts as their face value, face cards count as 10, and aces count as 1.\n",
    "\n",
    "Given perfect knowledge of the sequence of cards in the deck, implement a blackjack solver that maximizes the player's score (that is, wins minus losses)."
   ]
  },
  {
   "cell_type": "code",
   "execution_count": 4,
   "metadata": {},
   "outputs": [
    {
     "name": "stdout",
     "output_type": "stream",
     "text": [
      "Player: 9\n",
      "Dealer: 4\n"
     ]
    }
   ],
   "source": [
    "import random\n",
    "\n",
    "# helper function to create a random card deck\n",
    "def create_deck(n):\n",
    "    \n",
    "    # initilizing empty list to store card values\n",
    "    deck = []\n",
    "\n",
    "    # iterating to append new values to the deck\n",
    "    for _ in range(n):\n",
    "        deck.append(random.randint(1,10)) # simplification that all values between 1 and 10 (includign) are equally likely to appear. Not in line with real composition of a deck with more 10s because of the face cards being counted as 10\n",
    "\n",
    "    return deck\n",
    "\n",
    "# creating new deck with helper function. 100 cards is an arbitrary nomber\n",
    "deck = create_deck(100)\n",
    "\n",
    "# initializing score counter for player and dealer\n",
    "player_score = 0\n",
    "dealer_score = 0\n",
    "\n",
    "# iterating as long as there are cards in the deck to play with\n",
    "while len(deck) > 4: # 4 cards definitely need to be in the deck to start another round (2 each for player and dealer)\n",
    "\n",
    "    # handing first 2 cards to player and adding the values up\n",
    "    player_hand = deck[0] + deck[1]\n",
    "    \n",
    "    # handing next 2 cards to player and adding the values up\n",
    "    dealer_hand = deck[2] + deck[3]\n",
    "\n",
    "    # deleting first 4 values from deck because cards have been dealt\n",
    "    del deck[0:4]\n",
    "\n",
    "    # handing cards to player as long as she stays at or below 21 with the new card (assumes that value of next card in deck is known)\n",
    "    while player_hand + deck[0] <= 21:\n",
    "        \n",
    "        # adding value to player hand\n",
    "        player_hand += deck[0]\n",
    "        \n",
    "        # deleting card value from deck\n",
    "        del deck[0]\n",
    "\n",
    "    # handing cards to dealer as long as the current value is at or below 16 (according to the game's rules)\n",
    "    while dealer_hand <= 16:\n",
    "        \n",
    "        # adding value to dealer hand\n",
    "        dealer_hand += deck[0]\n",
    "        \n",
    "        # deleting card value from deck\n",
    "        del deck[0]\n",
    "\n",
    "    # deciding whether player or dealer win this round\n",
    "    \n",
    "    # if both players are above 21, nothing happens (can't happen because player will never be above 21 but still in for completeness)\n",
    "    if dealer_hand > 21 and player_hand > 21:\n",
    "        None\n",
    "        \n",
    "    # if dealer is above 21 and player below or at 21, player score increases by one \n",
    "    elif dealer_hand > 21 and player_hand <= 21:\n",
    "        player_score += 1\n",
    "    \n",
    "    # if dealer is at or below 21 and player is above 21, dealer score increases by one (can't happen because player will never be above 21 but still in for completeness)\n",
    "    elif dealer_hand <= 21 and player_hand > 21:\n",
    "        dealer_score += 1\n",
    "        \n",
    "    # if both are at or below 21\n",
    "    elif dealer_hand <= 21 and player_hand <= 21:\n",
    "        \n",
    "        # if dealer has a higher sum of card values, dealer score increases by one\n",
    "        if dealer_hand > player_hand:\n",
    "            dealer_score += 1\n",
    "        \n",
    "        # if player has a higher sum of card values, player score increases by one\n",
    "        elif dealer_hand < player_hand:\n",
    "            player_score += 1\n",
    "            \n",
    "\n",
    "print(\"Player:\", player_score)\n",
    "print(\"Dealer:\", dealer_score)"
   ]
  }
 ],
 "metadata": {
  "kernelspec": {
   "display_name": "Python 3",
   "language": "python",
   "name": "python3"
  },
  "language_info": {
   "codemirror_mode": {
    "name": "ipython",
    "version": 3
   },
   "file_extension": ".py",
   "mimetype": "text/x-python",
   "name": "python",
   "nbconvert_exporter": "python",
   "pygments_lexer": "ipython3",
   "version": "3.8.3"
  },
  "varInspector": {
   "cols": {
    "lenName": 16,
    "lenType": 16,
    "lenVar": 40
   },
   "kernels_config": {
    "python": {
     "delete_cmd_postfix": "",
     "delete_cmd_prefix": "del ",
     "library": "var_list.py",
     "varRefreshCmd": "print(var_dic_list())"
    },
    "r": {
     "delete_cmd_postfix": ") ",
     "delete_cmd_prefix": "rm(",
     "library": "var_list.r",
     "varRefreshCmd": "cat(var_dic_list()) "
    }
   },
   "types_to_exclude": [
    "module",
    "function",
    "builtin_function_or_method",
    "instance",
    "_Feature"
   ],
   "window_display": false
  }
 },
 "nbformat": 4,
 "nbformat_minor": 4
}
