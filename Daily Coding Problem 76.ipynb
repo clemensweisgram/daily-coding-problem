{
 "cells": [
  {
   "cell_type": "markdown",
   "metadata": {},
   "source": [
    "## Daily Coding Problem: Problem #199 [Hard]"
   ]
  },
  {
   "cell_type": "markdown",
   "metadata": {},
   "source": [
    "This problem was asked by Facebook.\n",
    "\n",
    "Given a string of parentheses, find the balanced string that can be produced from it using the minimum number of insertions and deletions. If there are multiple solutions, return any of them.\n",
    "\n",
    "For example, given \"(()\", you could return \"(())\". Given \"))()(\", you could return \"()()()()\"."
   ]
  },
  {
   "cell_type": "code",
   "execution_count": 1,
   "metadata": {},
   "outputs": [
    {
     "data": {
      "text/plain": [
       "'(())'"
      ]
     },
     "execution_count": 1,
     "metadata": {},
     "output_type": "execute_result"
    }
   ],
   "source": [
    "my_input_string = \"(()\"\n",
    "\n",
    "def minimum_insertions(input_string):\n",
    "    # initializing counter\n",
    "    count = 0 # will represent number of opened but not closed parentheses\n",
    "\n",
    "    # checking first and last position and adding parantheses if they are unbalanced\n",
    "    if input_string[0] == \")\" and input_string[-1] == \"(\":\n",
    "        result = \"(\" + input_string + \")\"\n",
    "    elif input_string[0] == \")\":\n",
    "        result = \"(\" + input_string\n",
    "    elif input_string[-1] == \"(\":\n",
    "        result = input_string + \")\"\n",
    "    else:\n",
    "        result = input_string\n",
    "\n",
    "\n",
    "    # increasing count for every parentheses pair that is opened and decreasing for every that is closed\n",
    "    for i in result:\n",
    "        if i == \"(\":\n",
    "            count += 1\n",
    "        elif i == \")\":\n",
    "            count -= 1\n",
    "\n",
    "    # adjusting inbalance with respective number of parentheses\n",
    "    if count < 0:\n",
    "        result = abs(count) * \"(\" + result\n",
    "    elif count > 0:\n",
    "        result = result + count * \")\"\n",
    "\n",
    "    return result\n",
    "\n",
    "minimum_insertions(my_input_string)"
   ]
  }
 ],
 "metadata": {
  "kernelspec": {
   "display_name": "Python 3",
   "language": "python",
   "name": "python3"
  },
  "language_info": {
   "codemirror_mode": {
    "name": "ipython",
    "version": 3
   },
   "file_extension": ".py",
   "mimetype": "text/x-python",
   "name": "python",
   "nbconvert_exporter": "python",
   "pygments_lexer": "ipython3",
   "version": "3.8.3"
  },
  "varInspector": {
   "cols": {
    "lenName": 16,
    "lenType": 16,
    "lenVar": 40
   },
   "kernels_config": {
    "python": {
     "delete_cmd_postfix": "",
     "delete_cmd_prefix": "del ",
     "library": "var_list.py",
     "varRefreshCmd": "print(var_dic_list())"
    },
    "r": {
     "delete_cmd_postfix": ") ",
     "delete_cmd_prefix": "rm(",
     "library": "var_list.r",
     "varRefreshCmd": "cat(var_dic_list()) "
    }
   },
   "types_to_exclude": [
    "module",
    "function",
    "builtin_function_or_method",
    "instance",
    "_Feature"
   ],
   "window_display": false
  }
 },
 "nbformat": 4,
 "nbformat_minor": 4
}
