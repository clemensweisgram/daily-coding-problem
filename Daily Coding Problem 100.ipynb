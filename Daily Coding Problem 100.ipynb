{
 "cells": [
  {
   "cell_type": "markdown",
   "metadata": {},
   "source": [
    "## Daily Coding Problem: Problem #260 [Medium]"
   ]
  },
  {
   "cell_type": "markdown",
   "metadata": {},
   "source": [
    "This problem was asked by Pinterest.\n",
    "\n",
    "The sequence [0, 1, ..., N] has been jumbled, and the only clue you have for its order is an array representing whether each number is larger or smaller than the last. Given this information, reconstruct an array that is consistent with it. For example, given [None, +, +, -, +], you could return [1, 2, 3, 0, 4]."
   ]
  },
  {
   "cell_type": "code",
   "execution_count": 2,
   "metadata": {},
   "outputs": [
    {
     "data": {
      "text/plain": [
       "[1, 2, 3, 0, 4]"
      ]
     },
     "execution_count": 2,
     "metadata": {},
     "output_type": "execute_result"
    }
   ],
   "source": [
    "my_jumbled = [\"None\", \"+\", \"+\", \"-\", \"+\"]\n",
    "\n",
    "def reconstruct(jumbled):\n",
    "    \n",
    "    # initializing empty list to store result\n",
    "    reconstructed = []\n",
    "\n",
    "    # iterating over each element in jumbled list\n",
    "    for i in jumbled:\n",
    "        \n",
    "        ## First getting the order of numbers right (not yet the right numbers)\n",
    "        \n",
    "        # if None, setting the number as the greatest number in the jumbled set (equal to N)\n",
    "        if i == \"None\":\n",
    "            reconstructed.append(len(jumbled)-1)\n",
    "        \n",
    "        # if +, setting the number greater than the previous maximum\n",
    "        if i == \"+\":\n",
    "            reconstructed.append(max(reconstructed)+1)\n",
    "            \n",
    "        # if -, setting the number less than the previous minimum\n",
    "        if i == \"-\":\n",
    "            reconstructed.append(min(reconstructed)-1)\n",
    "\n",
    "    ## Second adjusting the numbers to fit the range from 0 to N\n",
    "    \n",
    "    # initializing how many digits the numbers have to be moved to fit in the range from 0 to N\n",
    "    minimum = min(reconstructed)\n",
    "\n",
    "    # iterating over each index of the list\n",
    "    for j in range(len(reconstructed)):\n",
    "\n",
    "        # adjusting the number by the minimum value set in line 28\n",
    "        reconstructed[j] = reconstructed[j] - minimum\n",
    "\n",
    "    return reconstructed\n",
    "\n",
    "reconstruct(my_jumbled)"
   ]
  }
 ],
 "metadata": {
  "kernelspec": {
   "display_name": "Python 3",
   "language": "python",
   "name": "python3"
  },
  "language_info": {
   "codemirror_mode": {
    "name": "ipython",
    "version": 3
   },
   "file_extension": ".py",
   "mimetype": "text/x-python",
   "name": "python",
   "nbconvert_exporter": "python",
   "pygments_lexer": "ipython3",
   "version": "3.8.3"
  },
  "varInspector": {
   "cols": {
    "lenName": 16,
    "lenType": 16,
    "lenVar": 40
   },
   "kernels_config": {
    "python": {
     "delete_cmd_postfix": "",
     "delete_cmd_prefix": "del ",
     "library": "var_list.py",
     "varRefreshCmd": "print(var_dic_list())"
    },
    "r": {
     "delete_cmd_postfix": ") ",
     "delete_cmd_prefix": "rm(",
     "library": "var_list.r",
     "varRefreshCmd": "cat(var_dic_list()) "
    }
   },
   "types_to_exclude": [
    "module",
    "function",
    "builtin_function_or_method",
    "instance",
    "_Feature"
   ],
   "window_display": false
  }
 },
 "nbformat": 4,
 "nbformat_minor": 4
}
