{
 "cells": [
  {
   "cell_type": "markdown",
   "metadata": {},
   "source": [
    "## Daily Coding Problem: Problem #264 [Hard]"
   ]
  },
  {
   "cell_type": "markdown",
   "metadata": {},
   "source": [
    "This problem was asked by LinkedIn.\n",
    "\n",
    "Given a set of characters C and an integer k, a De Bruijn sequence is a cyclic sequence in which every possible k-length string of characters in C occurs exactly once.\n",
    "\n",
    "For example, suppose C = {0, 1} and k = 3. Then our sequence should contain the substrings {'000', '001', '010', '011', '100', '101', '110', '111'}, and one possible solution would be 00010111.\n",
    "\n",
    "Create an algorithm that finds a De Bruijn sequence."
   ]
  },
  {
   "cell_type": "code",
   "execution_count": 1,
   "metadata": {},
   "outputs": [
    {
     "data": {
      "text/plain": [
       "'0001011100'"
      ]
     },
     "execution_count": 1,
     "metadata": {},
     "output_type": "execute_result"
    }
   ],
   "source": [
    "my_C = [0, 1]\n",
    "my_k = 3\n",
    "\n",
    "import itertools\n",
    "\n",
    "def De_Bruijn_sequence(C, k):\n",
    "    \n",
    "    # generating all possible combinations of the characters (lists of integers)\n",
    "    substrings_int = list(itertools.product(C, repeat = k))\n",
    "    \n",
    "    # initializing list to store strings of lists of integers\n",
    "    substrings = []\n",
    "\n",
    "    # iterating over all possible substrings (lists of integers)\n",
    "    for i in substrings_int:\n",
    "        \n",
    "        # converting the elements to strings\n",
    "        string_ints = [str(int) for int in i]\n",
    "        \n",
    "        # merging them together as a string\n",
    "        str_of_ints = \"\". join(string_ints)\n",
    "        \n",
    "        # appending the results to the substrings list\n",
    "        substrings.append(str_of_ints)\n",
    "\n",
    "    # setting a variable used to run the while loop\n",
    "    test_var = False\n",
    "\n",
    "    # setting variable for the length of the solution (increases if no solution is found with this length)\n",
    "    length_of_solution = len(C)\n",
    "\n",
    "    # iterating as long as the variable is not changed\n",
    "    while test_var == False:\n",
    "        \n",
    "        # generating all possible combinations of the characters (lists of integers) (possible solutions)\n",
    "        s = list(itertools.product(C, repeat = length_of_solution))\n",
    "        \n",
    "        # initializing list to store strings of lists of integers (possible solutions)\n",
    "        s2 = []\n",
    "\n",
    "        # iterating over all possible substrings (lists of integers)(possible solutions)\n",
    "        for i in s:\n",
    "            \n",
    "            # converting the elements to strings\n",
    "            string_ints = [str(int) for int in i]\n",
    "            \n",
    "            # merging them together as a string\n",
    "            str_of_ints = \"\". join(string_ints)\n",
    "            \n",
    "            # appending the results to the s2 list\n",
    "            s2.append(str_of_ints)\n",
    "\n",
    "        # iterating over each possible solution in s2\n",
    "        for j in s2:\n",
    "\n",
    "            # setting the temporary test variable to False (used to break the loop if not the right solution)\n",
    "            temp_test_var = False\n",
    "\n",
    "            # iterating over each substring that needs to be in the solution\n",
    "            for k in substrings:\n",
    "                \n",
    "                #checking whether the substring is in the current solution\n",
    "                if k in j:\n",
    "                    \n",
    "                    # setting the temporary test variable to True\n",
    "                    temp_test_var = True\n",
    "                \n",
    "                else:\n",
    "                \n",
    "                    # setting the temporary test variable to False and breaking the loop because the current solution is not a correct solution\n",
    "                    temp_test_var = False\n",
    "                    break\n",
    "\n",
    "            # checking whether the temporary test variable is still True (meaning that all substrings are in the solution)\n",
    "            if temp_test_var == True:\n",
    "                return j\n",
    "                test_var = True # setting the test variable to True (actually not needed when run in a function with the return command because return command breaks the while loop automatically. If run outside of the function this line is needed to break the while loop)\n",
    "\n",
    "        # increasing variable to check for possible solutions with one more digit in next iteration of while loop\n",
    "        length_of_solution += 1\n",
    "    \n",
    "\n",
    "De_Bruijn_sequence(my_C, my_k)"
   ]
  }
 ],
 "metadata": {
  "kernelspec": {
   "display_name": "Python 3",
   "language": "python",
   "name": "python3"
  },
  "language_info": {
   "codemirror_mode": {
    "name": "ipython",
    "version": 3
   },
   "file_extension": ".py",
   "mimetype": "text/x-python",
   "name": "python",
   "nbconvert_exporter": "python",
   "pygments_lexer": "ipython3",
   "version": "3.8.3"
  },
  "varInspector": {
   "cols": {
    "lenName": 16,
    "lenType": 16,
    "lenVar": 40
   },
   "kernels_config": {
    "python": {
     "delete_cmd_postfix": "",
     "delete_cmd_prefix": "del ",
     "library": "var_list.py",
     "varRefreshCmd": "print(var_dic_list())"
    },
    "r": {
     "delete_cmd_postfix": ") ",
     "delete_cmd_prefix": "rm(",
     "library": "var_list.r",
     "varRefreshCmd": "cat(var_dic_list()) "
    }
   },
   "types_to_exclude": [
    "module",
    "function",
    "builtin_function_or_method",
    "instance",
    "_Feature"
   ],
   "window_display": false
  }
 },
 "nbformat": 4,
 "nbformat_minor": 4
}
