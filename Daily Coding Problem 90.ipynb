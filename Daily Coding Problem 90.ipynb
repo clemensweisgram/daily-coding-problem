{
 "cells": [
  {
   "cell_type": "markdown",
   "metadata": {},
   "source": [
    "## Daily Coding Problem: Problem #224 [Easy]"
   ]
  },
  {
   "cell_type": "markdown",
   "metadata": {},
   "source": [
    "This problem was asked by Amazon.\n",
    "\n",
    "Given a sorted array, find the smallest positive integer that is not the sum of a subset of the array.\n",
    "\n",
    "For example, for the input [1, 2, 3, 10], you should return 7."
   ]
  },
  {
   "cell_type": "code",
   "execution_count": 1,
   "metadata": {},
   "outputs": [
    {
     "data": {
      "text/plain": [
       "7"
      ]
     },
     "execution_count": 1,
     "metadata": {},
     "output_type": "execute_result"
    }
   ],
   "source": [
    "my_array = [1, 2, 3, 10]\n",
    "\n",
    "from itertools import combinations\n",
    "\n",
    "def smallest_int_not_sum(array):\n",
    "\n",
    "    # initializing empty list to store sums\n",
    "    result_list = []\n",
    "\n",
    "    # iterating over length of array to caclculate sums with length i\n",
    "    for i in range(2,len(array)+1):\n",
    "\n",
    "            # appending the unique sums of all combinations\n",
    "            result_list.append(set(sum(comb) for comb in combinations(array, i)))\n",
    "\n",
    "    # appending the initial array to the result list\n",
    "    result_list.append(array)\n",
    "\n",
    "    # falttening the list because it is a list of lists/sets\n",
    "    flat_list = set([item for sublist in result_list for item in sublist])\n",
    "\n",
    "    # initalizing positive integers\n",
    "    j = 1 \n",
    "\n",
    "    # iterating as long as the positive integers are in the list\n",
    "    while j in flat_list:\n",
    "        j += 1\n",
    "\n",
    "    return j\n",
    "\n",
    "smallest_int_not_sum(my_array)"
   ]
  }
 ],
 "metadata": {
  "kernelspec": {
   "display_name": "Python 3",
   "language": "python",
   "name": "python3"
  },
  "language_info": {
   "codemirror_mode": {
    "name": "ipython",
    "version": 3
   },
   "file_extension": ".py",
   "mimetype": "text/x-python",
   "name": "python",
   "nbconvert_exporter": "python",
   "pygments_lexer": "ipython3",
   "version": "3.8.3"
  },
  "varInspector": {
   "cols": {
    "lenName": 16,
    "lenType": 16,
    "lenVar": 40
   },
   "kernels_config": {
    "python": {
     "delete_cmd_postfix": "",
     "delete_cmd_prefix": "del ",
     "library": "var_list.py",
     "varRefreshCmd": "print(var_dic_list())"
    },
    "r": {
     "delete_cmd_postfix": ") ",
     "delete_cmd_prefix": "rm(",
     "library": "var_list.r",
     "varRefreshCmd": "cat(var_dic_list()) "
    }
   },
   "types_to_exclude": [
    "module",
    "function",
    "builtin_function_or_method",
    "instance",
    "_Feature"
   ],
   "window_display": false
  }
 },
 "nbformat": 4,
 "nbformat_minor": 4
}
