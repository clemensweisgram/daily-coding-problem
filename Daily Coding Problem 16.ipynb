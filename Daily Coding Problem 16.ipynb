{
 "cells": [
  {
   "cell_type": "markdown",
   "metadata": {},
   "source": [
    "## Daily Coding Problem: Problem #86 [Medium]"
   ]
  },
  {
   "cell_type": "markdown",
   "metadata": {},
   "source": [
    "This problem was asked by Google.\n",
    "\n",
    "Given a string of parentheses, write a function to compute the minimum number of parentheses to be removed to make the string valid (i.e. each open parenthesis is eventually closed).\n",
    "\n",
    "For example, given the string \"()())()\", you should return 1. Given the string \")(\", you should return 2, since we must remove all of them."
   ]
  },
  {
   "cell_type": "code",
   "execution_count": 12,
   "metadata": {},
   "outputs": [
    {
     "data": {
      "text/plain": [
       "2"
      ]
     },
     "execution_count": 12,
     "metadata": {},
     "output_type": "execute_result"
    }
   ],
   "source": [
    "def myfunction(input_string):\n",
    "    count = 0\n",
    "    start = 0\n",
    "    # separating cases whether first parenthesis/parentheses is/are \")\" or \"(\"\n",
    "    \n",
    "    # if first paranthesis is \")\"\n",
    "    if input_string[0] == \")\":\n",
    "        \n",
    "        # count how many \")\" are in front and store the number in the start variable\n",
    "        # number of \")\" in front definitely needs to be removed\n",
    "        for j in input_string:\n",
    "            if j == \")\":\n",
    "                start += 1\n",
    "            else:\n",
    "                break\n",
    "                \n",
    "        # for the remaining parentheses increase count for every \"(\" and decrease for every \")\"\n",
    "        for i in input_string[start:]:\n",
    "            if i == \"(\":\n",
    "                count += 1\n",
    "            elif i == \")\":\n",
    "                count -= 1\n",
    "        \n",
    "    # if first paranthesis is \"(\"        \n",
    "    elif input_string[0] == \"(\":\n",
    "        \n",
    "        # increase count for every \"(\" and decrease for every \")\"\n",
    "        for i in input_string:\n",
    "            if i == \"(\":\n",
    "                count += 1\n",
    "            elif i == \")\":\n",
    "                count -= 1\n",
    "    \n",
    "    # sum up how many \")\" are in front and how many inclosed parantheses are in the back  \n",
    "    total = abs(start) + abs(count)\n",
    "    return total\n",
    "\n",
    "myfunction(\"()())()\")\n",
    "myfunction(\")(\")"
   ]
  }
 ],
 "metadata": {
  "kernelspec": {
   "display_name": "Python 3",
   "language": "python",
   "name": "python3"
  },
  "language_info": {
   "codemirror_mode": {
    "name": "ipython",
    "version": 3
   },
   "file_extension": ".py",
   "mimetype": "text/x-python",
   "name": "python",
   "nbconvert_exporter": "python",
   "pygments_lexer": "ipython3",
   "version": "3.8.3"
  },
  "varInspector": {
   "cols": {
    "lenName": 16,
    "lenType": 16,
    "lenVar": 40
   },
   "kernels_config": {
    "python": {
     "delete_cmd_postfix": "",
     "delete_cmd_prefix": "del ",
     "library": "var_list.py",
     "varRefreshCmd": "print(var_dic_list())"
    },
    "r": {
     "delete_cmd_postfix": ") ",
     "delete_cmd_prefix": "rm(",
     "library": "var_list.r",
     "varRefreshCmd": "cat(var_dic_list()) "
    }
   },
   "types_to_exclude": [
    "module",
    "function",
    "builtin_function_or_method",
    "instance",
    "_Feature"
   ],
   "window_display": false
  }
 },
 "nbformat": 4,
 "nbformat_minor": 4
}
