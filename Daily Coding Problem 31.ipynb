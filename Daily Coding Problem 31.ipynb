{
 "cells": [
  {
   "cell_type": "markdown",
   "metadata": {},
   "source": [
    "## Daily Coding Problem: Problem #129 [Medium]"
   ]
  },
  {
   "cell_type": "markdown",
   "metadata": {},
   "source": [
    "Given a real number n, find the square root of n. For example, given n = 9, return 3."
   ]
  },
  {
   "cell_type": "code",
   "execution_count": 1,
   "metadata": {},
   "outputs": [
    {
     "data": {
      "text/plain": [
       "3.0"
      ]
     },
     "execution_count": 1,
     "metadata": {},
     "output_type": "execute_result"
    }
   ],
   "source": [
    "import numpy as np\n",
    "\n",
    "my_n = 9\n",
    "\n",
    "def square_root(n):\n",
    "    \"\"\"\n",
    "    Calculate the square root without using the built-in sqrt function. Precise up to 5 digits. \n",
    "    \"\"\"   \n",
    "    \n",
    "    # initializing an arbitrary point to start looking for the root\n",
    "    y = 1\n",
    "\n",
    "    # finding integer interval for the square root of n\n",
    "    while y * y <= n:\n",
    "        y += 1\n",
    "\n",
    "    interval = [y - 1,y]\n",
    "\n",
    "    # initializing empty list to store result\n",
    "    result = []\n",
    "    \n",
    "    # initializing exponent. Used to increase in while loop to increase the decimal places when searching for the root \n",
    "    exponent = 1\n",
    "\n",
    "    # iterating as long as no result has been found\n",
    "    while result == []:\n",
    "        \n",
    "        # instantiating an array with all values to be checked (with increasing number of decimal places for each iteration to become more precise) \n",
    "        array = np.arange(interval[0], interval[1], 10 ** -exponent)\n",
    "\n",
    "        # looping over the array and stopping once the result has been found. Appending result to list\n",
    "        for i in array:\n",
    "            if round(i * i, ndigits = 5) == n:\n",
    "                result.append(i)\n",
    "                break\n",
    "\n",
    "        # increasing exponende (used for increasing decimal places of values in array)\n",
    "        exponent += 1\n",
    "\n",
    "    # returning value rounded to 5 digits\n",
    "    return round(result[0], ndigits = 5)\n",
    "\n",
    "square_root(my_n)"
   ]
  }
 ],
 "metadata": {
  "kernelspec": {
   "display_name": "Python 3",
   "language": "python",
   "name": "python3"
  },
  "language_info": {
   "codemirror_mode": {
    "name": "ipython",
    "version": 3
   },
   "file_extension": ".py",
   "mimetype": "text/x-python",
   "name": "python",
   "nbconvert_exporter": "python",
   "pygments_lexer": "ipython3",
   "version": "3.8.3"
  },
  "varInspector": {
   "cols": {
    "lenName": 16,
    "lenType": 16,
    "lenVar": 40
   },
   "kernels_config": {
    "python": {
     "delete_cmd_postfix": "",
     "delete_cmd_prefix": "del ",
     "library": "var_list.py",
     "varRefreshCmd": "print(var_dic_list())"
    },
    "r": {
     "delete_cmd_postfix": ") ",
     "delete_cmd_prefix": "rm(",
     "library": "var_list.r",
     "varRefreshCmd": "cat(var_dic_list()) "
    }
   },
   "types_to_exclude": [
    "module",
    "function",
    "builtin_function_or_method",
    "instance",
    "_Feature"
   ],
   "window_display": false
  }
 },
 "nbformat": 4,
 "nbformat_minor": 4
}
