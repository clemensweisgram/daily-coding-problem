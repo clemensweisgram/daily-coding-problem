{
 "cells": [
  {
   "cell_type": "markdown",
   "metadata": {},
   "source": [
    "## Daily Coding Problem: Problem #136 [Medium]"
   ]
  },
  {
   "cell_type": "markdown",
   "metadata": {},
   "source": [
    "This question was asked by Google.\n",
    "\n",
    "Given an N by M matrix consisting only of 1's and 0's, find the largest rectangle containing only 1's and return its area.\n",
    "\n",
    "For example, given the following matrix:\n",
    "\n",
    "[[1, 0, 0, 0], <br>\n",
    " [1, 0, 1, 1], <br>\n",
    " [1, 0, 1, 1], <br>\n",
    " [0, 1, 0, 0]] <br><br>\n",
    "Return 4."
   ]
  },
  {
   "cell_type": "code",
   "execution_count": 1,
   "metadata": {},
   "outputs": [
    {
     "data": {
      "text/plain": [
       "4"
      ]
     },
     "execution_count": 1,
     "metadata": {},
     "output_type": "execute_result"
    }
   ],
   "source": [
    "import pandas as pd\n",
    "\n",
    "my_matrix = [[1, 0, 0, 0],\n",
    "             [1, 0, 1, 1],\n",
    "             [1, 0, 1, 1],\n",
    "             [0, 1, 0, 0]]\n",
    "\n",
    "def max_area(matrix):\n",
    "    \n",
    "    # converting input to dataframe\n",
    "    matrix = pd.DataFrame(matrix)\n",
    "\n",
    "    # setting tracker for maximum area to zero\n",
    "    max_area = 0\n",
    "\n",
    "    # iterating over all elements of the dataframe for point1\n",
    "    for i in range(len(matrix.index)):\n",
    "        for j in range(len(matrix.columns)):\n",
    "            point1 = [i,j]\n",
    "\n",
    "            # iterating over all elements of dataframe for point2\n",
    "            for k in range(len(matrix.index)):\n",
    "                for l in range(len(matrix.columns)):\n",
    "                    point2 = [k,l]\n",
    "\n",
    "                    # creating rectangle between point1 and point2 as a new subset of dataframe \n",
    "                    new_matrix = matrix.iloc[point1[0]:point2[0]+1,point1[1]:point2[1]+1]\n",
    "                    \n",
    "                    # summing up all 1 in subset of dataframe\n",
    "                    hit_count = new_matrix.to_numpy().sum()\n",
    "                    \n",
    "                    # counting all elements in subset of dataframe\n",
    "                    element_count = len(new_matrix.index) * len(new_matrix.columns)\n",
    "\n",
    "                    # oif sum and count are equal then all elements must be 1\n",
    "                    if hit_count == element_count:\n",
    "                        \n",
    "                        # if the sum of elements is greater than current max_area count, update the max_area count\n",
    "                        if hit_count > max_area:\n",
    "                            max_area = hit_count\n",
    "\n",
    "    # returning only maximum area of a rectangle\n",
    "    return max_area\n",
    "\n",
    "max_area(my_matrix)"
   ]
  }
 ],
 "metadata": {
  "kernelspec": {
   "display_name": "Python 3",
   "language": "python",
   "name": "python3"
  },
  "language_info": {
   "codemirror_mode": {
    "name": "ipython",
    "version": 3
   },
   "file_extension": ".py",
   "mimetype": "text/x-python",
   "name": "python",
   "nbconvert_exporter": "python",
   "pygments_lexer": "ipython3",
   "version": "3.8.3"
  },
  "varInspector": {
   "cols": {
    "lenName": 16,
    "lenType": 16,
    "lenVar": 40
   },
   "kernels_config": {
    "python": {
     "delete_cmd_postfix": "",
     "delete_cmd_prefix": "del ",
     "library": "var_list.py",
     "varRefreshCmd": "print(var_dic_list())"
    },
    "r": {
     "delete_cmd_postfix": ") ",
     "delete_cmd_prefix": "rm(",
     "library": "var_list.r",
     "varRefreshCmd": "cat(var_dic_list()) "
    }
   },
   "types_to_exclude": [
    "module",
    "function",
    "builtin_function_or_method",
    "instance",
    "_Feature"
   ],
   "window_display": false
  }
 },
 "nbformat": 4,
 "nbformat_minor": 4
}
