{
 "cells": [
  {
   "cell_type": "markdown",
   "metadata": {},
   "source": [
    "## Daily Coding Problem: Problem #63 [Easy]"
   ]
  },
  {
   "cell_type": "markdown",
   "metadata": {},
   "source": [
    "This problem was asked by Microsoft.\n",
    "\n",
    "Given a 2D matrix of characters and a target word, write a function that returns whether the word can be found in the matrix by going left-to-right, or up-to-down.\n",
    "\n",
    "For example, given the following matrix:\n",
    "\n",
    "[['F', 'A', 'C', 'I'], <br>\n",
    " ['O', 'B', 'Q', 'P'], <br>\n",
    " ['A', 'N', 'O', 'B'], <br>\n",
    " ['M', 'A', 'S', 'S']] <br><br>\n",
    "and the target word 'FOAM', you should return true, since it's the leftmost column. Similarly, given the target word 'MASS', you should return true, since it's the last row."
   ]
  },
  {
   "cell_type": "code",
   "execution_count": 3,
   "metadata": {},
   "outputs": [
    {
     "data": {
      "text/plain": [
       "True"
      ]
     },
     "execution_count": 3,
     "metadata": {},
     "output_type": "execute_result"
    }
   ],
   "source": [
    "import pandas as pd\n",
    "\n",
    "matrix = [['F', 'A', 'C', 'I'],\n",
    "          ['O', 'B', 'Q', 'P'],\n",
    "          ['A', 'N', 'O', 'B'],\n",
    "          ['M', 'A', 'S', 'S']]\n",
    "\n",
    "matrix = pd.DataFrame(matrix)\n",
    "\n",
    "# defining function to check if word appears horizontally\n",
    "def left_to_right(matrix, word):\n",
    "    \n",
    "    # set default outcome to False\n",
    "    result_left_to_right = False\n",
    "    \n",
    "    # iterating over each row\n",
    "    for j in range(len(matrix.index)):\n",
    "        \n",
    "        # initiatlizing empty string\n",
    "        line = str(\"\")\n",
    "        \n",
    "        # iterating over each column (per row) adding a letter to line variable\n",
    "        for i in range(len(matrix.columns)):\n",
    "            line = line + str(matrix.iloc[j,i])\n",
    "            \n",
    "            # checking if the given word is in the line. If yes, change output to True\n",
    "            if word in line:\n",
    "                result_left_to_right = True\n",
    "    \n",
    "    # returning only True or False\n",
    "    return result_left_to_right    \n",
    "\n",
    "\n",
    "# defining function to check if word appears vertically\n",
    "def up_to_down(matrix, word):\n",
    "    \n",
    "    # set default outcome to False\n",
    "    result_up_to_down = False\n",
    "    \n",
    "    # iterating over each column\n",
    "    for j in range(len(matrix.columns)):\n",
    "        \n",
    "        # initiatlizing empty string\n",
    "        line = str(\"\")\n",
    "        \n",
    "        # iterating over each row (per column) adding a letter to line variable\n",
    "        for i in range(len(matrix.index)):\n",
    "            line = line + str(matrix.iloc[i,j])\n",
    "            \n",
    "            # checking if the given word is in the line. If yes, change output to True\n",
    "            if word in line:\n",
    "                result_up_to_down = True\n",
    "    \n",
    "    # returning only True or False\n",
    "    return result_up_to_down    \n",
    "\n",
    "# checking if word can either be found horizontally or vertically in matrix\n",
    "def find_word(matrix, word):\n",
    "    \n",
    "    # creating list of True/False outcomes\n",
    "    result = [left_to_right(matrix, word), up_to_down(matrix, word)]\n",
    "    \n",
    "    # returning True if any element in list is True\n",
    "    return any(result)\n",
    "\n",
    "\n",
    "find_word(matrix, \"FOAM\")"
   ]
  }
 ],
 "metadata": {
  "kernelspec": {
   "display_name": "Python 3",
   "language": "python",
   "name": "python3"
  },
  "language_info": {
   "codemirror_mode": {
    "name": "ipython",
    "version": 3
   },
   "file_extension": ".py",
   "mimetype": "text/x-python",
   "name": "python",
   "nbconvert_exporter": "python",
   "pygments_lexer": "ipython3",
   "version": "3.8.3"
  },
  "varInspector": {
   "cols": {
    "lenName": 16,
    "lenType": 16,
    "lenVar": 40
   },
   "kernels_config": {
    "python": {
     "delete_cmd_postfix": "",
     "delete_cmd_prefix": "del ",
     "library": "var_list.py",
     "varRefreshCmd": "print(var_dic_list())"
    },
    "r": {
     "delete_cmd_postfix": ") ",
     "delete_cmd_prefix": "rm(",
     "library": "var_list.r",
     "varRefreshCmd": "cat(var_dic_list()) "
    }
   },
   "types_to_exclude": [
    "module",
    "function",
    "builtin_function_or_method",
    "instance",
    "_Feature"
   ],
   "window_display": false
  }
 },
 "nbformat": 4,
 "nbformat_minor": 4
}
