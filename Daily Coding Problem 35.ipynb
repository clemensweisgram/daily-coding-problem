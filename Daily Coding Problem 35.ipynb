{
 "cells": [
  {
   "cell_type": "markdown",
   "metadata": {},
   "source": [
    "## Daily Coding Problem: Problem #138 [Hard]"
   ]
  },
  {
   "cell_type": "markdown",
   "metadata": {},
   "source": [
    "This problem was asked by Google.\n",
    "\n",
    "Find the minimum number of coins required to make n cents.\n",
    "\n",
    "You can use standard American denominations, that is, 1¢, 5¢, 10¢, and 25¢.\n",
    "\n",
    "For example, given n = 16, return 3 since we can make it with a 10¢, a 5¢, and a 1¢."
   ]
  },
  {
   "cell_type": "code",
   "execution_count": 1,
   "metadata": {},
   "outputs": [
    {
     "data": {
      "text/plain": [
       "3"
      ]
     },
     "execution_count": 1,
     "metadata": {},
     "output_type": "execute_result"
    }
   ],
   "source": [
    "def min_coin_counter(n):\n",
    "    \n",
    "    # initialize coin counter at 0\n",
    "    counter = 0\n",
    "\n",
    "    # iterating from largest to smallest denomination\n",
    "    \n",
    "    # iterating to find how many 25c can be used. Adding 1 to counter and subtracting 25 from n for every 25c used\n",
    "    while n >= 25:\n",
    "        counter += 1\n",
    "        n -= 25\n",
    "\n",
    "    # iterating to find how many 10c can be used. Adding 1 to counter and subtracting 10 from n for every 10c used\n",
    "    while n >= 10:\n",
    "        counter += 1\n",
    "        n -= 10\n",
    "\n",
    "    # iterating to find how many 5c can be used. Adding 1 to counter and subtracting 5 from n for every 5c used\n",
    "    while n >= 5:\n",
    "        counter += 1\n",
    "        n -= 5\n",
    "\n",
    "    # iterating to find how many 1c can be used. Adding 1 to counter and subtracting 1 from n for every 1c used\n",
    "    while n >= 1:\n",
    "        counter += 1\n",
    "        n -= 1\n",
    "\n",
    "    # returning count\n",
    "    return counter\n",
    "\n",
    "\n",
    "min_coin_counter(n = 16)"
   ]
  }
 ],
 "metadata": {
  "kernelspec": {
   "display_name": "Python 3",
   "language": "python",
   "name": "python3"
  },
  "language_info": {
   "codemirror_mode": {
    "name": "ipython",
    "version": 3
   },
   "file_extension": ".py",
   "mimetype": "text/x-python",
   "name": "python",
   "nbconvert_exporter": "python",
   "pygments_lexer": "ipython3",
   "version": "3.8.3"
  },
  "varInspector": {
   "cols": {
    "lenName": 16,
    "lenType": 16,
    "lenVar": 40
   },
   "kernels_config": {
    "python": {
     "delete_cmd_postfix": "",
     "delete_cmd_prefix": "del ",
     "library": "var_list.py",
     "varRefreshCmd": "print(var_dic_list())"
    },
    "r": {
     "delete_cmd_postfix": ") ",
     "delete_cmd_prefix": "rm(",
     "library": "var_list.r",
     "varRefreshCmd": "cat(var_dic_list()) "
    }
   },
   "types_to_exclude": [
    "module",
    "function",
    "builtin_function_or_method",
    "instance",
    "_Feature"
   ],
   "window_display": false
  }
 },
 "nbformat": 4,
 "nbformat_minor": 4
}
