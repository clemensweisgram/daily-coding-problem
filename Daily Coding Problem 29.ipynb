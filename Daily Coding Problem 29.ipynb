{
 "cells": [
  {
   "cell_type": "markdown",
   "metadata": {},
   "source": [
    "## Daily Coding Problem: Problem #121 [Hard]"
   ]
  },
  {
   "cell_type": "markdown",
   "metadata": {},
   "source": [
    "This problem was asked by Google.\n",
    "\n",
    "Given a string which we can delete at most k, return whether you can make a palindrome.\n",
    "\n",
    "For example, given 'waterrfetawx' and a k of 2, you could delete f and x to get 'waterretaw'."
   ]
  },
  {
   "cell_type": "code",
   "execution_count": 1,
   "metadata": {},
   "outputs": [
    {
     "data": {
      "text/plain": [
       "True"
      ]
     },
     "execution_count": 1,
     "metadata": {},
     "output_type": "execute_result"
    }
   ],
   "source": [
    "my_string = \"waterrfetawx\"\n",
    "my_k = 2\n",
    "\n",
    "# helper function to check whether string is palindrome\n",
    "def is_palindrome(string):\n",
    "    \n",
    "    # initiating empty list to store results\n",
    "    helper_list = []\n",
    "\n",
    "    # looping over first and last element to check if they are the same, etc. \n",
    "    for i in range(int(len(string)/2)):\n",
    "        if string[i] != string[-(i+1)]:\n",
    "            helper_list.append(False)\n",
    "        elif string[i] == string[-(i+1)]:\n",
    "            helper_list.append(True)\n",
    "\n",
    "    # returning True if palindrome, False if not\n",
    "    return all(helper_list)\n",
    "\n",
    "# helper function to remove an element from string\n",
    "def replace_string(string, position):\n",
    "    \n",
    "    # initiating empty string to store results \n",
    "    result_str = \"\" \n",
    "\n",
    "    # looping over each position to find the right position to remove\n",
    "    for i in range(0, len(string)): \n",
    "        if i != position: \n",
    "            result_str = result_str + string[i] \n",
    "    \n",
    "    # returning new string\n",
    "    return result_str\n",
    "\n",
    "# removing first element of string and putting all results in result_list1\n",
    "result_list1 = []\n",
    "for j in range(len(my_string)):\n",
    "    word = replace_string(string = my_string, position = j)   \n",
    "    result_list1.append(word)\n",
    "\n",
    "# copying result list to a new, separate object    \n",
    "result_list = result_list1.copy()\n",
    "\n",
    "# iterating for the remaining number of elements that need to be removed\n",
    "for _ in range(my_k-1):\n",
    "    \n",
    "    # iterating over each element in the list to remove another element and store the result in result_list as well \n",
    "    for k in range(len(result_list)):\n",
    "        \n",
    "        # iterating over each element in string to remove it and append result to result_list\n",
    "        for j in range(len(result_list[k])):\n",
    "            word = replace_string(string = result_list[k], position = j)   \n",
    "            result_list.append(word)    \n",
    "\n",
    "# replacing each element in list with whether it is a palindrome\n",
    "for t in range(len(result_list)):\n",
    "    result_list[t] = is_palindrome(result_list[t])\n",
    "\n",
    "# checking if any of the result_list elements is a palindrome\n",
    "any(result_list)"
   ]
  }
 ],
 "metadata": {
  "kernelspec": {
   "display_name": "Python 3",
   "language": "python",
   "name": "python3"
  },
  "language_info": {
   "codemirror_mode": {
    "name": "ipython",
    "version": 3
   },
   "file_extension": ".py",
   "mimetype": "text/x-python",
   "name": "python",
   "nbconvert_exporter": "python",
   "pygments_lexer": "ipython3",
   "version": "3.8.3"
  },
  "varInspector": {
   "cols": {
    "lenName": 16,
    "lenType": 16,
    "lenVar": 40
   },
   "kernels_config": {
    "python": {
     "delete_cmd_postfix": "",
     "delete_cmd_prefix": "del ",
     "library": "var_list.py",
     "varRefreshCmd": "print(var_dic_list())"
    },
    "r": {
     "delete_cmd_postfix": ") ",
     "delete_cmd_prefix": "rm(",
     "library": "var_list.r",
     "varRefreshCmd": "cat(var_dic_list()) "
    }
   },
   "types_to_exclude": [
    "module",
    "function",
    "builtin_function_or_method",
    "instance",
    "_Feature"
   ],
   "window_display": false
  }
 },
 "nbformat": 4,
 "nbformat_minor": 4
}
