{
 "cells": [
  {
   "cell_type": "markdown",
   "metadata": {},
   "source": [
    "## Daily Coding Problem: Problem #192 [Medium]"
   ]
  },
  {
   "cell_type": "markdown",
   "metadata": {},
   "source": [
    "This problem was asked by Google.\n",
    "\n",
    "You are given an array of nonnegative integers. Let's say you start at the beginning of the array and are trying to advance to the end. You can advance at most, the number of steps that you're currently on. Determine whether you can get to the end of the array.\n",
    "\n",
    "For example, given the array [1, 3, 1, 2, 0, 1], we can go from indices 0 -> 1 -> 3 -> 5, so return true.\n",
    "\n",
    "Given the array [1, 2, 1, 0, 0], we can't reach the end, so return false."
   ]
  },
  {
   "cell_type": "code",
   "execution_count": 1,
   "metadata": {},
   "outputs": [
    {
     "data": {
      "text/plain": [
       "True"
      ]
     },
     "execution_count": 1,
     "metadata": {},
     "output_type": "execute_result"
    }
   ],
   "source": [
    "array = [1, 3, 1, 2, 0, 1]\n",
    "#array = [1, 2, 1, 0, 0]\n",
    "\n",
    "# iterating over array\n",
    "for i in range(len(array)):\n",
    "    \n",
    "    # considering only the values that are zero because they can cause the end of a path\n",
    "    if array[i] == 0:\n",
    "        \n",
    "        # setting a result state to False and initializing a counter for how many indices away from a zero\n",
    "        state = False\n",
    "        distance_from_0 = 1\n",
    "        \n",
    "        # iterating as long as state is False\n",
    "        while state == False:\n",
    "            \n",
    "            # checking if one more iteration is possible before reaching the beginning of the array (iterating backwards through indices)\n",
    "            if i >= 1:\n",
    "                i -= 1\n",
    "            else:\n",
    "                break # breaking while loop if zero index is reached\n",
    "                \n",
    "            # checking if the value at the index position is greater or equal than the number of steps needed to jump over the zero\n",
    "            if array[i] >= distance_from_0 + 1:\n",
    "                state = True\n",
    "            \n",
    "            # if not, increasing the distance needed to jump by one and continuing the while loop iterating backwards from the zero\n",
    "            else:\n",
    "                distance_from_0 += 1\n",
    "\n",
    "state"
   ]
  }
 ],
 "metadata": {
  "kernelspec": {
   "display_name": "Python 3",
   "language": "python",
   "name": "python3"
  },
  "language_info": {
   "codemirror_mode": {
    "name": "ipython",
    "version": 3
   },
   "file_extension": ".py",
   "mimetype": "text/x-python",
   "name": "python",
   "nbconvert_exporter": "python",
   "pygments_lexer": "ipython3",
   "version": "3.8.3"
  },
  "varInspector": {
   "cols": {
    "lenName": 16,
    "lenType": 16,
    "lenVar": 40
   },
   "kernels_config": {
    "python": {
     "delete_cmd_postfix": "",
     "delete_cmd_prefix": "del ",
     "library": "var_list.py",
     "varRefreshCmd": "print(var_dic_list())"
    },
    "r": {
     "delete_cmd_postfix": ") ",
     "delete_cmd_prefix": "rm(",
     "library": "var_list.r",
     "varRefreshCmd": "cat(var_dic_list()) "
    }
   },
   "types_to_exclude": [
    "module",
    "function",
    "builtin_function_or_method",
    "instance",
    "_Feature"
   ],
   "window_display": false
  }
 },
 "nbformat": 4,
 "nbformat_minor": 4
}
