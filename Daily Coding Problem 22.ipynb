{
 "cells": [
  {
   "cell_type": "markdown",
   "metadata": {},
   "source": [
    "## Daily Coding Problem: Problem #103 [Medium]"
   ]
  },
  {
   "cell_type": "markdown",
   "metadata": {},
   "source": [
    "This problem was asked by Square.\n",
    "\n",
    "Given a string and a set of characters, return the shortest substring containing all the characters in the set.\n",
    "\n",
    "For example, given the string \"figehaeci\" and the set of characters {a, e, i}, you should return \"aeci\".\n",
    "\n",
    "If there is no substring containing all the characters in the set, return null."
   ]
  },
  {
   "cell_type": "code",
   "execution_count": 1,
   "metadata": {},
   "outputs": [
    {
     "data": {
      "text/plain": [
       "'aeci'"
      ]
     },
     "execution_count": 1,
     "metadata": {},
     "output_type": "execute_result"
    }
   ],
   "source": [
    "string = \"figehaeci\"\n",
    "chars = {\"a\", \"e\", \"i\"}\n",
    "\n",
    "# converting set to list\n",
    "chars = list(chars)\n",
    "\n",
    "# intially setting the result equal to the input string + one character\n",
    "result = string + \"x\"\n",
    "\n",
    "# iterating over all elements as beginning and end for subset list\n",
    "for i in range(len(string)):\n",
    "    for j in range(len(string)):\n",
    "        \n",
    "        # dropping all empty sub lists\n",
    "        if string[j:i+1] != \"\":\n",
    "            \n",
    "            # checking multiple conditions: if all characters are in substring\n",
    "            if all(c in string[j:i+1] for c in chars):\n",
    "                \n",
    "                # replacing result variable only if current substring with all characters is shorter\n",
    "                if len(string[j:i+1]) < len(result):\n",
    "                    result = string[j:i+1]\n",
    "\n",
    "# correcting output if there is no subset of string that contains all characters\n",
    "if result == string + \"x\":\n",
    "    result = None\n",
    "                                     \n",
    "result"
   ]
  }
 ],
 "metadata": {
  "kernelspec": {
   "display_name": "Python 3",
   "language": "python",
   "name": "python3"
  },
  "language_info": {
   "codemirror_mode": {
    "name": "ipython",
    "version": 3
   },
   "file_extension": ".py",
   "mimetype": "text/x-python",
   "name": "python",
   "nbconvert_exporter": "python",
   "pygments_lexer": "ipython3",
   "version": "3.8.3"
  },
  "varInspector": {
   "cols": {
    "lenName": 16,
    "lenType": 16,
    "lenVar": 40
   },
   "kernels_config": {
    "python": {
     "delete_cmd_postfix": "",
     "delete_cmd_prefix": "del ",
     "library": "var_list.py",
     "varRefreshCmd": "print(var_dic_list())"
    },
    "r": {
     "delete_cmd_postfix": ") ",
     "delete_cmd_prefix": "rm(",
     "library": "var_list.r",
     "varRefreshCmd": "cat(var_dic_list()) "
    }
   },
   "types_to_exclude": [
    "module",
    "function",
    "builtin_function_or_method",
    "instance",
    "_Feature"
   ],
   "window_display": false
  }
 },
 "nbformat": 4,
 "nbformat_minor": 4
}
