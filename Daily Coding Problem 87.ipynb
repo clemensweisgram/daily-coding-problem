{
 "cells": [
  {
   "cell_type": "markdown",
   "metadata": {},
   "source": [
    "## Daily Coding Problem: Problem #217 [Hard]"
   ]
  },
  {
   "cell_type": "markdown",
   "metadata": {},
   "source": [
    "This problem was asked by Oracle.\n",
    "\n",
    "We say a number is sparse if there are no adjacent ones in its binary representation. For example, 21 (10101) is sparse, but 22 (10110) is not. For a given input N, find the smallest sparse number greater than or equal to N."
   ]
  },
  {
   "cell_type": "code",
   "execution_count": 1,
   "metadata": {},
   "outputs": [
    {
     "data": {
      "text/plain": [
       "32"
      ]
     },
     "execution_count": 1,
     "metadata": {},
     "output_type": "execute_result"
    }
   ],
   "source": [
    "N = 22\n",
    "\n",
    "# helper function to check whether a number is sparse\n",
    "def check_sparse(N):\n",
    "    \n",
    "    # initializing sparse variable as True\n",
    "    sparse = True\n",
    "    \n",
    "    # iterating over each element in binary form of N\n",
    "    for i in range(1,len(bin(N))):\n",
    "        \n",
    "        # checking whether two ones are adjacent\n",
    "        if bin(N)[i-1] == \"1\" and bin(N)[i] == \"1\":\n",
    "            \n",
    "            # changing sparse variable if applicable\n",
    "            sparse = False\n",
    "\n",
    "    return sparse\n",
    "\n",
    "# iterating to check if a number is sparse as long as needed starting from N \n",
    "while check_sparse(N) == False:\n",
    "    \n",
    "    # increasing N by one to keep while loop running\n",
    "    N += 1\n",
    "    \n",
    "N"
   ]
  }
 ],
 "metadata": {
  "kernelspec": {
   "display_name": "Python 3",
   "language": "python",
   "name": "python3"
  },
  "language_info": {
   "codemirror_mode": {
    "name": "ipython",
    "version": 3
   },
   "file_extension": ".py",
   "mimetype": "text/x-python",
   "name": "python",
   "nbconvert_exporter": "python",
   "pygments_lexer": "ipython3",
   "version": "3.8.3"
  },
  "varInspector": {
   "cols": {
    "lenName": 16,
    "lenType": 16,
    "lenVar": 40
   },
   "kernels_config": {
    "python": {
     "delete_cmd_postfix": "",
     "delete_cmd_prefix": "del ",
     "library": "var_list.py",
     "varRefreshCmd": "print(var_dic_list())"
    },
    "r": {
     "delete_cmd_postfix": ") ",
     "delete_cmd_prefix": "rm(",
     "library": "var_list.r",
     "varRefreshCmd": "cat(var_dic_list()) "
    }
   },
   "types_to_exclude": [
    "module",
    "function",
    "builtin_function_or_method",
    "instance",
    "_Feature"
   ],
   "window_display": false
  }
 },
 "nbformat": 4,
 "nbformat_minor": 4
}
