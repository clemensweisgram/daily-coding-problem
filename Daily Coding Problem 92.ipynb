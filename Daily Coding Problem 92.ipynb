{
 "cells": [
  {
   "cell_type": "markdown",
   "metadata": {},
   "source": [
    "## Daily Coding Problem: Problem #229 [Medium]"
   ]
  },
  {
   "cell_type": "markdown",
   "metadata": {},
   "source": [
    "This problem was asked by Flipkart.\n",
    "\n",
    "Snakes and Ladders is a game played on a 10 x 10 board, the goal of which is get from square 1 to square 100. On each turn players will roll a six-sided die and move forward a number of spaces equal to the result. If they land on a square that represents a snake or ladder, they will be transported ahead or behind, respectively, to a new square.\n",
    "\n",
    "Find the smallest number of turns it takes to play snakes and ladders.\n",
    "\n",
    "For convenience, here are the squares representing snakes and ladders, and their outcomes:\n",
    "\n",
    "snakes = {16: 6, 48: 26, 49: 11, 56: 53, 62: 19, 64: 60, 87: 24, 93: 73, 95: 75, 98: 78} <br>\n",
    "ladders = {1: 38, 4: 14, 9: 31, 21: 42, 28: 84, 36: 44, 51: 67, 71: 91, 80: 100}"
   ]
  },
  {
   "cell_type": "code",
   "execution_count": 1,
   "metadata": {},
   "outputs": [
    {
     "data": {
      "text/plain": [
       "7"
      ]
     },
     "execution_count": 1,
     "metadata": {},
     "output_type": "execute_result"
    }
   ],
   "source": [
    "import random\n",
    "\n",
    "snakes = {16: 6, 48: 26, 49: 11, 56: 53, 62: 19, 64: 60, 87: 24, 93: 73, 95: 75, 98: 78} \n",
    "ladders = {1: 38, 4: 14, 9: 31, 21: 42, 28: 84, 36: 44, 51: 67, 71: 91, 80: 100}\n",
    "\n",
    "# helper function to provide a random integer between 1 and 6 (inclusive) simulating rolling a die\n",
    "def roll_die():\n",
    "    return random.randint(1,6)\n",
    "\n",
    "# helper function to play a round of Snakes and Ladders\n",
    "def play():\n",
    "    \n",
    "    # initializing variable that stores the field on the grid where the player stands\n",
    "    player_field = 0\n",
    "    \n",
    "    # initializing variable that stores the number of turns\n",
    "    player_counter = 0\n",
    "    \n",
    "    # iterating as long as the player has not yet reached or exceeded the 100th field\n",
    "    while player_field < 100:\n",
    "        \n",
    "        # moving the player forward by the result of rolling the die\n",
    "        player_field += roll_die()\n",
    "\n",
    "        # increasing the coutner by one\n",
    "        player_counter += 1\n",
    "\n",
    "        # trying whether the field is a snake and if so, moving the player to the new field\n",
    "        try: \n",
    "            player_field = snakes[player_field]\n",
    "\n",
    "        except:\n",
    "            \n",
    "            # continuing coded in except because if I put 'continue' here the entire while loop is ended and continues without checking the ladders below \n",
    "            \n",
    "            # trying whether the field is a ladder and if so, moving the player to the new field\n",
    "            try: \n",
    "                player_field = ladders[player_field]\n",
    "\n",
    "            except:\n",
    "                continue\n",
    "    \n",
    "    return player_counter\n",
    "\n",
    "def find_smallest_number_of_turns():\n",
    "    \n",
    "    # initializing the variable to store the smallest number of turns by just running a trial run\n",
    "    smallest_number_of_turns = play()\n",
    "\n",
    "    # iterating over a large number of cycles (arbitrarily selected)\n",
    "    for i in range(10000):\n",
    "        \n",
    "        # storing how many turns it took to reach 100 in the play\n",
    "        turns = play()\n",
    "\n",
    "        # checking if the turns are less than the previous low\n",
    "        if turns < smallest_number_of_turns:\n",
    "\n",
    "            # if so, replacing the previous low\n",
    "            smallest_number_of_turns = turns\n",
    "\n",
    "    return smallest_number_of_turns   \n",
    "\n",
    "find_smallest_number_of_turns()"
   ]
  }
 ],
 "metadata": {
  "kernelspec": {
   "display_name": "Python 3",
   "language": "python",
   "name": "python3"
  },
  "language_info": {
   "codemirror_mode": {
    "name": "ipython",
    "version": 3
   },
   "file_extension": ".py",
   "mimetype": "text/x-python",
   "name": "python",
   "nbconvert_exporter": "python",
   "pygments_lexer": "ipython3",
   "version": "3.8.3"
  },
  "varInspector": {
   "cols": {
    "lenName": 16,
    "lenType": 16,
    "lenVar": 40
   },
   "kernels_config": {
    "python": {
     "delete_cmd_postfix": "",
     "delete_cmd_prefix": "del ",
     "library": "var_list.py",
     "varRefreshCmd": "print(var_dic_list())"
    },
    "r": {
     "delete_cmd_postfix": ") ",
     "delete_cmd_prefix": "rm(",
     "library": "var_list.r",
     "varRefreshCmd": "cat(var_dic_list()) "
    }
   },
   "types_to_exclude": [
    "module",
    "function",
    "builtin_function_or_method",
    "instance",
    "_Feature"
   ],
   "window_display": false
  }
 },
 "nbformat": 4,
 "nbformat_minor": 4
}
