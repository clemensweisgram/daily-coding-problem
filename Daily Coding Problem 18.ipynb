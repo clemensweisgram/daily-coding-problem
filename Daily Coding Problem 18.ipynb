{
 "cells": [
  {
   "cell_type": "markdown",
   "metadata": {},
   "source": [
    "## Daily Coding Problem: Problem #90 [Medium]"
   ]
  },
  {
   "cell_type": "markdown",
   "metadata": {},
   "source": [
    "This question was asked by Google.\n",
    "\n",
    "Given an integer n and a list of integers l, write a function that randomly generates a number from 0 to n-1 that isn't in l (uniform)."
   ]
  },
  {
   "cell_type": "code",
   "execution_count": 23,
   "metadata": {},
   "outputs": [
    {
     "data": {
      "text/plain": [
       "12"
      ]
     },
     "execution_count": 23,
     "metadata": {},
     "output_type": "execute_result"
    }
   ],
   "source": [
    "import numpy as np\n",
    "import pandas as pd\n",
    "import random\n",
    "\n",
    "n = 20\n",
    "l = [2,3,4]\n",
    "\n",
    "def randomly(n, l):\n",
    "    \n",
    "    # initiating array from 0 to n-1 and converting it to a pandas Series\n",
    "    array = np.arange(0,n)\n",
    "    array = pd.Series(array)\n",
    "\n",
    "    # dropping the values of l from the array\n",
    "    for i in l:\n",
    "        array = array.drop(i)\n",
    "    \n",
    "    # creating new list to store results\n",
    "    new_list = []\n",
    "    \n",
    "    # appending remaining items to new list\n",
    "    for j in array:\n",
    "        new_list.append(j)\n",
    "    \n",
    "    # randomly select an element from list of remaining options\n",
    "    result = random.sample(new_list, 1)[0]\n",
    "    return result\n",
    "\n",
    "randomly(n, l)"
   ]
  }
 ],
 "metadata": {
  "kernelspec": {
   "display_name": "Python 3",
   "language": "python",
   "name": "python3"
  },
  "language_info": {
   "codemirror_mode": {
    "name": "ipython",
    "version": 3
   },
   "file_extension": ".py",
   "mimetype": "text/x-python",
   "name": "python",
   "nbconvert_exporter": "python",
   "pygments_lexer": "ipython3",
   "version": "3.8.3"
  },
  "varInspector": {
   "cols": {
    "lenName": 16,
    "lenType": 16,
    "lenVar": 40
   },
   "kernels_config": {
    "python": {
     "delete_cmd_postfix": "",
     "delete_cmd_prefix": "del ",
     "library": "var_list.py",
     "varRefreshCmd": "print(var_dic_list())"
    },
    "r": {
     "delete_cmd_postfix": ") ",
     "delete_cmd_prefix": "rm(",
     "library": "var_list.r",
     "varRefreshCmd": "cat(var_dic_list()) "
    }
   },
   "types_to_exclude": [
    "module",
    "function",
    "builtin_function_or_method",
    "instance",
    "_Feature"
   ],
   "window_display": false
  }
 },
 "nbformat": 4,
 "nbformat_minor": 4
}
