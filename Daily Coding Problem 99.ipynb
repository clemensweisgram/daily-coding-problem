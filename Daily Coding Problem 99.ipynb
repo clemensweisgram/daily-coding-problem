{
 "cells": [
  {
   "cell_type": "markdown",
   "metadata": {},
   "source": [
    "## Daily Coding Problem: Problem #257 [Easy]"
   ]
  },
  {
   "cell_type": "markdown",
   "metadata": {},
   "source": [
    "This problem was asked by WhatsApp.\n",
    "\n",
    "Given an array of integers out of order, determine the bounds of the smallest window that must be sorted in order for the entire array to be sorted. For example, given [3, 7, 5, 6, 9], you should return (1, 3)."
   ]
  },
  {
   "cell_type": "code",
   "execution_count": 1,
   "metadata": {},
   "outputs": [
    {
     "data": {
      "text/plain": [
       "(1, 3)"
      ]
     },
     "execution_count": 1,
     "metadata": {},
     "output_type": "execute_result"
    }
   ],
   "source": [
    "array = [3, 7, 5, 6, 9]\n",
    "\n",
    "# helper function to check whether an array is already sorted\n",
    "def check_sorted(array):\n",
    "    return sorted(array) == array\n",
    "\n",
    "# initializing variables for smallest window and length of smallest window\n",
    "smallest_window = []\n",
    "smallest_window_len = len(array)\n",
    "\n",
    "# iterating over all possible combinations of i and j for all windows of array\n",
    "for i in range(len(array)):\n",
    "    for j in range(len(array)+1):\n",
    "\n",
    "        # checking whether the window is empty, the length is smaller then the previous smallest and the entire array with the sorted window is sorted\n",
    "        if array[i:j] != [] and len(array[i:j]) < smallest_window_len and check_sorted(array[:i] + sorted(array[i:j]) + array[j:]):\n",
    "            \n",
    "            # setting the length of smallest window variable equal to the current window's length\n",
    "            smallest_window_len = len(array[i:j])\n",
    "            \n",
    "            # setting the smallest window variable to the current indices\n",
    "            smallest_window = (i,j-1) # subtracting one because solution is asked to be inclusive                \n",
    "\n",
    "smallest_window"
   ]
  }
 ],
 "metadata": {
  "kernelspec": {
   "display_name": "Python 3",
   "language": "python",
   "name": "python3"
  },
  "language_info": {
   "codemirror_mode": {
    "name": "ipython",
    "version": 3
   },
   "file_extension": ".py",
   "mimetype": "text/x-python",
   "name": "python",
   "nbconvert_exporter": "python",
   "pygments_lexer": "ipython3",
   "version": "3.8.3"
  },
  "varInspector": {
   "cols": {
    "lenName": 16,
    "lenType": 16,
    "lenVar": 40
   },
   "kernels_config": {
    "python": {
     "delete_cmd_postfix": "",
     "delete_cmd_prefix": "del ",
     "library": "var_list.py",
     "varRefreshCmd": "print(var_dic_list())"
    },
    "r": {
     "delete_cmd_postfix": ") ",
     "delete_cmd_prefix": "rm(",
     "library": "var_list.r",
     "varRefreshCmd": "cat(var_dic_list()) "
    }
   },
   "types_to_exclude": [
    "module",
    "function",
    "builtin_function_or_method",
    "instance",
    "_Feature"
   ],
   "window_display": false
  }
 },
 "nbformat": 4,
 "nbformat_minor": 4
}
