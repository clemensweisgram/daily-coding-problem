{
 "cells": [
  {
   "cell_type": "markdown",
   "metadata": {},
   "source": [
    "## Daily Coding Problem: Problem #157 [Easy]"
   ]
  },
  {
   "cell_type": "markdown",
   "metadata": {},
   "source": [
    "This problem was asked by Amazon.\n",
    "\n",
    "Given a string, determine whether any permutation of it is a palindrome.\n",
    "\n",
    "For example, carrace should return true, since it can be rearranged to form racecar, which is a palindrome. daily should return false, since there's no rearrangement that can form a palindrome."
   ]
  },
  {
   "cell_type": "code",
   "execution_count": 1,
   "metadata": {},
   "outputs": [
    {
     "data": {
      "text/plain": [
       "True"
      ]
     },
     "execution_count": 1,
     "metadata": {},
     "output_type": "execute_result"
    }
   ],
   "source": [
    "my_string = \"carrace\"\n",
    "\n",
    "def is_palindrome(string):\n",
    "    # initializing counter for number of letters with odd count (one letter with odd count is allowed to still be a palindrome)\n",
    "    odd_letter_counter = 0\n",
    "\n",
    "    # setting null hypothesis that string is a palindrome\n",
    "    x = [True]\n",
    "\n",
    "    # iterating over each unique letter in string\n",
    "    for i in ''.join(set(string)):\n",
    "        \n",
    "        # if count of letter is even, continue\n",
    "        if len([x for x in string if x == i]) % 2 == 0:\n",
    "            continue\n",
    "        \n",
    "        # if count of letter is odd, check of counter is still at 0. If so, increase by one\n",
    "        elif odd_letter_counter == 0:\n",
    "            odd_letter_counter += 1\n",
    "            continue\n",
    "        \n",
    "        # if count of letter is odd and counter is already at 1, append False to x\n",
    "        else:\n",
    "            x.append(False)\n",
    "\n",
    "    # checking and returning if False is in x. Otherwise do not reject null hypothesis\n",
    "    return all(x)\n",
    "\n",
    "is_palindrome(my_string)"
   ]
  }
 ],
 "metadata": {
  "kernelspec": {
   "display_name": "Python 3",
   "language": "python",
   "name": "python3"
  },
  "language_info": {
   "codemirror_mode": {
    "name": "ipython",
    "version": 3
   },
   "file_extension": ".py",
   "mimetype": "text/x-python",
   "name": "python",
   "nbconvert_exporter": "python",
   "pygments_lexer": "ipython3",
   "version": "3.8.3"
  },
  "varInspector": {
   "cols": {
    "lenName": 16,
    "lenType": 16,
    "lenVar": 40
   },
   "kernels_config": {
    "python": {
     "delete_cmd_postfix": "",
     "delete_cmd_prefix": "del ",
     "library": "var_list.py",
     "varRefreshCmd": "print(var_dic_list())"
    },
    "r": {
     "delete_cmd_postfix": ") ",
     "delete_cmd_prefix": "rm(",
     "library": "var_list.r",
     "varRefreshCmd": "cat(var_dic_list()) "
    }
   },
   "types_to_exclude": [
    "module",
    "function",
    "builtin_function_or_method",
    "instance",
    "_Feature"
   ],
   "window_display": false
  }
 },
 "nbformat": 4,
 "nbformat_minor": 4
}
