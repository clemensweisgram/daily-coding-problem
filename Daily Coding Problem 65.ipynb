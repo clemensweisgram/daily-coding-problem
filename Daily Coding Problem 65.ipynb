{
 "cells": [
  {
   "cell_type": "markdown",
   "metadata": {},
   "source": [
    "## Daily Coding Problem: Problem #181 [Hard]"
   ]
  },
  {
   "cell_type": "markdown",
   "metadata": {},
   "source": [
    "This problem was asked by Google.\n",
    "\n",
    "Given a string, split it into as few strings as possible such that each string is a palindrome.\n",
    "\n",
    "For example, given the input string racecarannakayak, return [\"racecar\", \"anna\", \"kayak\"].\n",
    "\n",
    "Given the input string abc, return [\"a\", \"b\", \"c\"]."
   ]
  },
  {
   "cell_type": "code",
   "execution_count": 1,
   "metadata": {},
   "outputs": [
    {
     "data": {
      "text/plain": [
       "['racecar', 'kayak', 'anna']"
      ]
     },
     "execution_count": 1,
     "metadata": {},
     "output_type": "execute_result"
    }
   ],
   "source": [
    "string = \"racecarannakayak\"\n",
    "#string = \"abc\"\n",
    "\n",
    "# helper function to detect palindromes\n",
    "def isPalindrome(s):\n",
    "    return s == s[::-1]\n",
    "\n",
    "# helper function to return the longest palindrome in a string\n",
    "def longest_palindrome(string):\n",
    "    \n",
    "    # try finding longest palindrome\n",
    "    try:\n",
    "        \n",
    "        # initialize empty list to store palindromes\n",
    "        palindromes = []\n",
    "\n",
    "        # iterating over each possible substring\n",
    "        for i in range(len(string)):\n",
    "            for j in range(len(string)+1):\n",
    "                \n",
    "                # checking whether palindrome and length > 1\n",
    "                if j > i and isPalindrome(string[i:j]) and len(string[i:j]) > 1:\n",
    "                    \n",
    "                    # appending palindrome to list\n",
    "                    palindromes.append(string[i:j])\n",
    "\n",
    "        # sorting palindromes in descending order\n",
    "        palindromes.sort(key=len, reverse = True)\n",
    "        \n",
    "        return palindromes[0]\n",
    "\n",
    "    # if there is no palindrome, return false\n",
    "    except:\n",
    "        return False\n",
    "    \n",
    "    \n",
    "def palindrome_split(string): \n",
    "    \n",
    "    # initializing empty list to store result\n",
    "    result = []\n",
    "\n",
    "    # iterating as long as there are palindromes to be found\n",
    "    while longest_palindrome(string) != False:\n",
    "\n",
    "        # appending the longest palindrome in remaining string to result list\n",
    "        result.append(longest_palindrome(string))\n",
    "        \n",
    "        # removing palindrome from string\n",
    "        string = string.replace(longest_palindrome(string), \"\")\n",
    "\n",
    "    # iterating over all remaining letters in string and appending them individually because they are not a palindrome\n",
    "    for i in string:\n",
    "        result.append(i)\n",
    "\n",
    "    return result\n",
    "\n",
    "\n",
    "palindrome_split(string)"
   ]
  }
 ],
 "metadata": {
  "kernelspec": {
   "display_name": "Python 3",
   "language": "python",
   "name": "python3"
  },
  "language_info": {
   "codemirror_mode": {
    "name": "ipython",
    "version": 3
   },
   "file_extension": ".py",
   "mimetype": "text/x-python",
   "name": "python",
   "nbconvert_exporter": "python",
   "pygments_lexer": "ipython3",
   "version": "3.8.3"
  },
  "varInspector": {
   "cols": {
    "lenName": 16,
    "lenType": 16,
    "lenVar": 40
   },
   "kernels_config": {
    "python": {
     "delete_cmd_postfix": "",
     "delete_cmd_prefix": "del ",
     "library": "var_list.py",
     "varRefreshCmd": "print(var_dic_list())"
    },
    "r": {
     "delete_cmd_postfix": ") ",
     "delete_cmd_prefix": "rm(",
     "library": "var_list.r",
     "varRefreshCmd": "cat(var_dic_list()) "
    }
   },
   "types_to_exclude": [
    "module",
    "function",
    "builtin_function_or_method",
    "instance",
    "_Feature"
   ],
   "window_display": false
  }
 },
 "nbformat": 4,
 "nbformat_minor": 4
}
