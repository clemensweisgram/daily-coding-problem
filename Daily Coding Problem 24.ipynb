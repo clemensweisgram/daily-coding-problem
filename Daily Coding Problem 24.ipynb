{
 "cells": [
  {
   "cell_type": "markdown",
   "metadata": {},
   "source": [
    "## Daily Coding Problem: Problem #109 [Medium]"
   ]
  },
  {
   "cell_type": "markdown",
   "metadata": {},
   "source": [
    "This problem was asked by Cisco.\n",
    "\n",
    "Given an unsigned 8-bit integer, swap its even and odd bits. The 1st and 2nd bit should be swapped, the 3rd and 4th bit should be swapped, and so on.\n",
    "\n",
    "For example, 10101010 should be 01010101. 11100010 should be 11010001."
   ]
  },
  {
   "cell_type": "code",
   "execution_count": 1,
   "metadata": {},
   "outputs": [
    {
     "data": {
      "text/plain": [
       "'01010101'"
      ]
     },
     "execution_count": 1,
     "metadata": {},
     "output_type": "execute_result"
    }
   ],
   "source": [
    "integer1 = 10101010\n",
    "\n",
    "def int_swap(integer):\n",
    "    \n",
    "    # converting integer to list of digits (needed because string and integer do not allow replacing individual digits)\n",
    "    integer = [str(x) for x in str(integer)] \n",
    "    \n",
    "    # iterating over each element in digits list\n",
    "    for i in range(len(integer)):\n",
    "        \n",
    "        # only using even index numbers which correspond to odd positions of digits in non-zero indexing\n",
    "        if i % 2 == 0:\n",
    "            \n",
    "            # storing even current index position and subsequent index position\n",
    "            first = integer[i]\n",
    "            second = integer[i+1]\n",
    "            \n",
    "            # swapping digits\n",
    "            integer[i] = second\n",
    "            integer[i+1] = first\n",
    "    \n",
    "    # converting list to string and then to integer\n",
    "    integer = ''.join(integer)\n",
    "    \n",
    "    # maintaining output as a string because leading zeros would get lost if converted to integer\n",
    "    \n",
    "    # returning new integer after swap\n",
    "    return integer \n",
    "\n",
    "int_swap(integer1)"
   ]
  }
 ],
 "metadata": {
  "kernelspec": {
   "display_name": "Python 3",
   "language": "python",
   "name": "python3"
  },
  "language_info": {
   "codemirror_mode": {
    "name": "ipython",
    "version": 3
   },
   "file_extension": ".py",
   "mimetype": "text/x-python",
   "name": "python",
   "nbconvert_exporter": "python",
   "pygments_lexer": "ipython3",
   "version": "3.8.3"
  },
  "varInspector": {
   "cols": {
    "lenName": 16,
    "lenType": 16,
    "lenVar": 40
   },
   "kernels_config": {
    "python": {
     "delete_cmd_postfix": "",
     "delete_cmd_prefix": "del ",
     "library": "var_list.py",
     "varRefreshCmd": "print(var_dic_list())"
    },
    "r": {
     "delete_cmd_postfix": ") ",
     "delete_cmd_prefix": "rm(",
     "library": "var_list.r",
     "varRefreshCmd": "cat(var_dic_list()) "
    }
   },
   "types_to_exclude": [
    "module",
    "function",
    "builtin_function_or_method",
    "instance",
    "_Feature"
   ],
   "window_display": false
  }
 },
 "nbformat": 4,
 "nbformat_minor": 4
}
