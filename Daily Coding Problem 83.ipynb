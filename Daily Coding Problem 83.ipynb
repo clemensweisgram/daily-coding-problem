{
 "cells": [
  {
   "cell_type": "markdown",
   "metadata": {},
   "source": [
    "## Daily Coding Problem: Problem #210 [Easy]"
   ]
  },
  {
   "cell_type": "markdown",
   "metadata": {},
   "source": [
    "This problem was asked by Apple.\n",
    "\n",
    "A Collatz sequence in mathematics can be defined as follows. Starting with any positive integer:\n",
    "\n",
    "if n is even, the next number in the sequence is n / 2 <br>\n",
    "if n is odd, the next number in the sequence is 3n + 1\n",
    "\n",
    "It is conjectured that every such sequence eventually reaches the number 1. Test this conjecture.\n",
    "\n",
    "Bonus: What input n <= 1000000 gives the longest sequence?"
   ]
  },
  {
   "cell_type": "code",
   "execution_count": 1,
   "metadata": {},
   "outputs": [
    {
     "name": "stdout",
     "output_type": "stream",
     "text": [
      "1\n",
      "1.0\n",
      "1.0\n",
      "1.0\n",
      "1.0\n",
      "1.0\n",
      "1.0\n",
      "1.0\n",
      "1.0\n",
      "1.0\n",
      "1.0\n",
      "1.0\n",
      "1.0\n",
      "1.0\n"
     ]
    }
   ],
   "source": [
    "pos_int = 199\n",
    "\n",
    "def test_Collatz(pos_int):\n",
    "    \n",
    "    # iterating as long as it takes to get to 1 (according to Collatz 1 will be reached for every positive integer)\n",
    "    while pos_int != 1:\n",
    "        \n",
    "        # checking if the integer is even\n",
    "        if pos_int % 2 == 0:\n",
    "            \n",
    "            # dividing integer by two\n",
    "            pos_int = pos_int / 2\n",
    "        \n",
    "        # checking if the integer is odd\n",
    "        elif pos_int % 2 != 0:\n",
    "            \n",
    "            # multiplying integer by three and increasing it by one\n",
    "            pos_int = 3 * pos_int + 1\n",
    "        \n",
    "        # just a precaution\n",
    "        else: \n",
    "            print(\"Error\")\n",
    "            \n",
    "    print(pos_int)\n",
    "\n",
    "# iterating over an arbitrarily picked range (can be changed)\n",
    "for i in range(1,15):\n",
    "    test_Collatz(i)"
   ]
  },
  {
   "cell_type": "code",
   "execution_count": 4,
   "metadata": {},
   "outputs": [
    {
     "data": {
      "text/plain": [
       "837799"
      ]
     },
     "execution_count": 4,
     "metadata": {},
     "output_type": "execute_result"
    }
   ],
   "source": [
    "# Bonus\n",
    "\n",
    "# intializing counter for maximum length of sequence and input that causes maximum length count\n",
    "max_counter = 0\n",
    "max_input = 0\n",
    "\n",
    "def test_Collatz_length(pos_int):\n",
    "    \n",
    "    # initializing counter for number of steps in sequence\n",
    "    counter = 0\n",
    "    \n",
    "    # iterating as long as it takes to get to 1 (according to Collatz 1 will be reached for every positive integer)\n",
    "    while pos_int != 1:\n",
    "        \n",
    "        # checking if the integer is even\n",
    "        if pos_int % 2 == 0:\n",
    "            \n",
    "            # dividing integer by two and increasing count by one\n",
    "            pos_int = pos_int / 2\n",
    "            counter += 1\n",
    "            \n",
    "        # checking if the integer is odd\n",
    "        elif pos_int % 2 != 0:\n",
    "            \n",
    "            # multiplying integer by three and increasing it by one and increasing count by one\n",
    "            pos_int = 3 * pos_int + 1\n",
    "            counter += 1\n",
    "        \n",
    "        # just a precaution\n",
    "        else: \n",
    "            print(\"Error\") \n",
    "        \n",
    "    return counter\n",
    "\n",
    "# iterating through every integer between 1 and 1,000,000\n",
    "for i in range(1,1000000):\n",
    "    \n",
    "    # setting the counter variable equal to the counter that the function returns\n",
    "    counter = test_Collatz_length(i)\n",
    "    \n",
    "    # checking the counter variable against the current high water mark\n",
    "    if counter > max_counter:\n",
    "        \n",
    "        # replacing the max_counter if the current counter is higher\n",
    "        max_counter = counter\n",
    "        max_input = i\n",
    "        \n",
    "max_input\n",
    "\n",
    "# Be patient! Iterations run for a while"
   ]
  }
 ],
 "metadata": {
  "kernelspec": {
   "display_name": "Python 3",
   "language": "python",
   "name": "python3"
  },
  "language_info": {
   "codemirror_mode": {
    "name": "ipython",
    "version": 3
   },
   "file_extension": ".py",
   "mimetype": "text/x-python",
   "name": "python",
   "nbconvert_exporter": "python",
   "pygments_lexer": "ipython3",
   "version": "3.8.3"
  },
  "varInspector": {
   "cols": {
    "lenName": 16,
    "lenType": 16,
    "lenVar": 40
   },
   "kernels_config": {
    "python": {
     "delete_cmd_postfix": "",
     "delete_cmd_prefix": "del ",
     "library": "var_list.py",
     "varRefreshCmd": "print(var_dic_list())"
    },
    "r": {
     "delete_cmd_postfix": ") ",
     "delete_cmd_prefix": "rm(",
     "library": "var_list.r",
     "varRefreshCmd": "cat(var_dic_list()) "
    }
   },
   "types_to_exclude": [
    "module",
    "function",
    "builtin_function_or_method",
    "instance",
    "_Feature"
   ],
   "window_display": false
  }
 },
 "nbformat": 4,
 "nbformat_minor": 4
}
