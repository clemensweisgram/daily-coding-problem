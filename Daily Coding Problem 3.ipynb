{
 "cells": [
  {
   "cell_type": "markdown",
   "metadata": {},
   "source": [
    "## Daily Coding Problem: Problem #4 [Hard]"
   ]
  },
  {
   "cell_type": "markdown",
   "metadata": {},
   "source": [
    "This problem was asked by Stripe.\n",
    "\n",
    "Given an array of integers, find the first missing positive. In other words, find the lowest positive integer that does not exist in the array. The array can contain duplicates and negative numbers as well.\n",
    "\n",
    "For example, the input [3, 4, -1, 1] should give 2. The input [1, 2, 0] should give 3."
   ]
  },
  {
   "cell_type": "code",
   "execution_count": 13,
   "metadata": {},
   "outputs": [
    {
     "name": "stdout",
     "output_type": "stream",
     "text": [
      "2\n"
     ]
    }
   ],
   "source": [
    "import numpy as np\n",
    "\n",
    "# input\n",
    "lst = [3, 4, -1, 1]\n",
    "\n",
    "# sorting list\n",
    "lst.sort()\n",
    "\n",
    "# converting to numpy array\n",
    "array = np.array(lst)\n",
    "\n",
    "# iterating over all (except last) elements in sorted array\n",
    "for i in range(len(array)-1):\n",
    "\n",
    "    # if element is negative, ignoring it\n",
    "    if array[i] < 0:\n",
    "        continue\n",
    "    \n",
    "    # if element is one count less than next element, ignoring it\n",
    "    elif array[i] + 1 == array[i + 1]:\n",
    "        \n",
    "        # if this is the last iteration print the integer array[-1] + 1\n",
    "        if i == len(array)-2:\n",
    "            print(array[i+1] + 1)\n",
    "            break\n",
    "        else:\n",
    "            continue\n",
    "    \n",
    "    # for first element that doesn't fulfill previous two conditions, print it and break loop\n",
    "    else:    \n",
    "        print(array[i] + 1)\n",
    "        break"
   ]
  }
 ],
 "metadata": {
  "kernelspec": {
   "display_name": "Python 3",
   "language": "python",
   "name": "python3"
  },
  "language_info": {
   "codemirror_mode": {
    "name": "ipython",
    "version": 3
   },
   "file_extension": ".py",
   "mimetype": "text/x-python",
   "name": "python",
   "nbconvert_exporter": "python",
   "pygments_lexer": "ipython3",
   "version": "3.8.3"
  },
  "varInspector": {
   "cols": {
    "lenName": 16,
    "lenType": 16,
    "lenVar": 40
   },
   "kernels_config": {
    "python": {
     "delete_cmd_postfix": "",
     "delete_cmd_prefix": "del ",
     "library": "var_list.py",
     "varRefreshCmd": "print(var_dic_list())"
    },
    "r": {
     "delete_cmd_postfix": ") ",
     "delete_cmd_prefix": "rm(",
     "library": "var_list.r",
     "varRefreshCmd": "cat(var_dic_list()) "
    }
   },
   "types_to_exclude": [
    "module",
    "function",
    "builtin_function_or_method",
    "instance",
    "_Feature"
   ],
   "window_display": false
  }
 },
 "nbformat": 4,
 "nbformat_minor": 4
}
