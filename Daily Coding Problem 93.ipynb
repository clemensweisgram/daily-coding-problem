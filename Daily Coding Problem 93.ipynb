{
 "cells": [
  {
   "cell_type": "markdown",
   "metadata": {},
   "source": [
    "## Daily Coding Problem: Problem #231 [Easy]"
   ]
  },
  {
   "cell_type": "markdown",
   "metadata": {},
   "source": [
    "This problem was asked by IBM.\n",
    "\n",
    "Given a string with repeated characters, rearrange the string so that no two adjacent characters are the same. If this is not possible, return None.\n",
    "\n",
    "For example, given \"aaabbc\", you could return \"ababac\". Given \"aaab\", return None."
   ]
  },
  {
   "cell_type": "code",
   "execution_count": 1,
   "metadata": {},
   "outputs": [
    {
     "name": "stdout",
     "output_type": "stream",
     "text": [
      "ababac\n"
     ]
    }
   ],
   "source": [
    "string = \"ababac\"\n",
    "\n",
    "import itertools\n",
    "\n",
    "# helper function to check if a string has only non-repeating characters\n",
    "def non_repeating_string(string):\n",
    "    \n",
    "    # initialize variable \n",
    "    non_repeating = True\n",
    "\n",
    "    # iterating over all characters in string to compare to previous character\n",
    "    for i in range(1, len(string)):\n",
    "        \n",
    "        # checking if characters are the same\n",
    "        if string[i-1] == string[i]:\n",
    "            \n",
    "            # chaning variable if needed\n",
    "            non_repeating = False\n",
    "    \n",
    "    return non_repeating\n",
    "\n",
    "# getting all permutations of string\n",
    "permutations = [''.join(i) for i in itertools.permutations(string, len(string))]\n",
    "\n",
    "# iterating over each permutation\n",
    "for j in permutations:\n",
    "    \n",
    "    # checking whether it is non-repeating\n",
    "    if non_repeating_string(j):\n",
    "        \n",
    "        # printing the first result and breaking the loop\n",
    "        print(j)\n",
    "        break\n",
    "        \n",
    "    # else condition\n",
    "    else: \n",
    "        print(None)\n",
    "        break"
   ]
  }
 ],
 "metadata": {
  "kernelspec": {
   "display_name": "Python 3",
   "language": "python",
   "name": "python3"
  },
  "language_info": {
   "codemirror_mode": {
    "name": "ipython",
    "version": 3
   },
   "file_extension": ".py",
   "mimetype": "text/x-python",
   "name": "python",
   "nbconvert_exporter": "python",
   "pygments_lexer": "ipython3",
   "version": "3.8.3"
  },
  "varInspector": {
   "cols": {
    "lenName": 16,
    "lenType": 16,
    "lenVar": 40
   },
   "kernels_config": {
    "python": {
     "delete_cmd_postfix": "",
     "delete_cmd_prefix": "del ",
     "library": "var_list.py",
     "varRefreshCmd": "print(var_dic_list())"
    },
    "r": {
     "delete_cmd_postfix": ") ",
     "delete_cmd_prefix": "rm(",
     "library": "var_list.r",
     "varRefreshCmd": "cat(var_dic_list()) "
    }
   },
   "types_to_exclude": [
    "module",
    "function",
    "builtin_function_or_method",
    "instance",
    "_Feature"
   ],
   "window_display": false
  }
 },
 "nbformat": 4,
 "nbformat_minor": 4
}
