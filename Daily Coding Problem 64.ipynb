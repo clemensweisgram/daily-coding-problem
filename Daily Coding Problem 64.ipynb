{
 "cells": [
  {
   "cell_type": "markdown",
   "metadata": {},
   "source": [
    "## Daily Coding Problem: Problem #178 [Hard]"
   ]
  },
  {
   "cell_type": "markdown",
   "metadata": {},
   "source": [
    "This problem was asked by Two Sigma.\n",
    "\n",
    "Alice wants to join her school's Probability Student Club. Membership dues are computed via one of two simple probabilistic games.\n",
    "\n",
    "The first game: roll a die repeatedly. Stop rolling once you get a five followed by a six. Your number of rolls is the amount you pay, in dollars.\n",
    "\n",
    "The second game: same, except that the stopping condition is a five followed by a five.\n",
    "\n",
    "Which of the two games should Alice elect to play? Does it even matter? Write a program to simulate the two games and calculate their expected value."
   ]
  },
  {
   "cell_type": "code",
   "execution_count": 1,
   "metadata": {},
   "outputs": [
    {
     "name": "stdout",
     "output_type": "stream",
     "text": [
      "Expected value game one: 36.08133\n",
      "Expected value game two: 42.06193\n"
     ]
    }
   ],
   "source": [
    "from random import seed\n",
    "from random import uniform\n",
    "import statistics\n",
    "#seed(1)\n",
    "\n",
    "# defining game one function\n",
    "def game_one():\n",
    "\n",
    "    # initializing counter, x (previous die), y (current die)\n",
    "    counter = 0\n",
    "    x = 0\n",
    "    y = 0\n",
    "\n",
    "    # iterating as long as the previous die is 5 and current die is 6\n",
    "    while x != 5 or y != 6:\n",
    "        \n",
    "        # setting previous die to current of previous iteration\n",
    "        x = y\n",
    "        \n",
    "        # getting random die result\n",
    "        y = int(uniform(1,7))\n",
    "        \n",
    "        # incrementing counter\n",
    "        counter += 1\n",
    "\n",
    "    return counter\n",
    "\n",
    "# defining game two function\n",
    "def game_two():\n",
    "\n",
    "    # initializing counter, x (previous die), y (current die)\n",
    "    counter = 0\n",
    "    x = 0\n",
    "    y = 0\n",
    "\n",
    "    # iterating as long as the previous die is 5 and current die is 5\n",
    "    while x != 5 or y != 5:\n",
    "\n",
    "        # setting previous die to current of previous iteration\n",
    "        x = y\n",
    "        \n",
    "        # getting random die result\n",
    "        y = int(uniform(1,7))\n",
    "        \n",
    "        # incrementing counter\n",
    "        counter += 1\n",
    "\n",
    "    return counter\n",
    "\n",
    "\n",
    "# calculating expected value of game one\n",
    "\n",
    "# initializing list to store iteration results\n",
    "game_one_results = []\n",
    "\n",
    "# iterating 100,000 times\n",
    "for _ in range(100000):\n",
    "    game_one_results.append(game_one())\n",
    "    \n",
    "# printing expected value (mean of iteration results)\n",
    "print(\"Expected value game one:\", statistics.mean(game_one_results))\n",
    "\n",
    "\n",
    "# calculating expected value of game two\n",
    "\n",
    "# initializing list to store iteration results\n",
    "game_two_results = []\n",
    "\n",
    "# iterating 100,000 times\n",
    "for _ in range(100000):\n",
    "    game_two_results.append(game_two())\n",
    "    \n",
    "# printing expected value (mean of iteration results)\n",
    "print(\"Expected value game two:\", statistics.mean(game_two_results))"
   ]
  }
 ],
 "metadata": {
  "kernelspec": {
   "display_name": "Python 3",
   "language": "python",
   "name": "python3"
  },
  "language_info": {
   "codemirror_mode": {
    "name": "ipython",
    "version": 3
   },
   "file_extension": ".py",
   "mimetype": "text/x-python",
   "name": "python",
   "nbconvert_exporter": "python",
   "pygments_lexer": "ipython3",
   "version": "3.8.3"
  },
  "varInspector": {
   "cols": {
    "lenName": 16,
    "lenType": 16,
    "lenVar": 40
   },
   "kernels_config": {
    "python": {
     "delete_cmd_postfix": "",
     "delete_cmd_prefix": "del ",
     "library": "var_list.py",
     "varRefreshCmd": "print(var_dic_list())"
    },
    "r": {
     "delete_cmd_postfix": ") ",
     "delete_cmd_prefix": "rm(",
     "library": "var_list.r",
     "varRefreshCmd": "cat(var_dic_list()) "
    }
   },
   "types_to_exclude": [
    "module",
    "function",
    "builtin_function_or_method",
    "instance",
    "_Feature"
   ],
   "window_display": false
  }
 },
 "nbformat": 4,
 "nbformat_minor": 4
}
