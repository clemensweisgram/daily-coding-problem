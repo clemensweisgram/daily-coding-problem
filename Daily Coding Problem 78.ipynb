{
 "cells": [
  {
   "cell_type": "markdown",
   "metadata": {},
   "source": [
    "## Daily Coding Problem: Problem #201 [Easy]"
   ]
  },
  {
   "cell_type": "markdown",
   "metadata": {},
   "source": [
    "This problem was asked by Google.\n",
    "\n",
    "You are given an array of arrays of integers, where each array corresponds to a row in a triangle of numbers. For example, [[1], [2, 3], [1, 5, 1]] represents the triangle:\n",
    "\n",
    "  1 <br>\n",
    " 2 3 <br>\n",
    "1 5 1 <br><br>\n",
    "We define a path in the triangle to start at the top and go down one row at a time to an adjacent value, eventually ending with an entry on the bottom row. For example, 1 -> 3 -> 5. The weight of the path is the sum of the entries.\n",
    "\n",
    "Write a program that returns the weight of the maximum weight path."
   ]
  },
  {
   "cell_type": "code",
   "execution_count": 3,
   "metadata": {},
   "outputs": [
    {
     "data": {
      "text/plain": [
       "9"
      ]
     },
     "execution_count": 3,
     "metadata": {},
     "output_type": "execute_result"
    }
   ],
   "source": [
    "my_array = [[1], [2, 3], [1, 5, 1]]\n",
    "\n",
    "import itertools\n",
    "\n",
    "# helper function \n",
    "def weight(indexes):\n",
    "    \n",
    "    # initializing array iterator (counter) and weight variable (sum) at zero\n",
    "    array_number = 0\n",
    "    weight = 0\n",
    "\n",
    "    # iterating over all indexes\n",
    "    for i in indexes:\n",
    "        \n",
    "        # adding the respective weight at that point to the weight sum\n",
    "        weight += array[array_number][i]\n",
    "        \n",
    "        # increasing array number to check next level of triangle in next iteration\n",
    "        array_number += 1\n",
    "\n",
    "    return weight\n",
    "\n",
    "\n",
    "def max_path_weight(array):\n",
    "    # finding all combination of indexes (even unfeasible ones that will be filtered in the next step)\n",
    "    all_combinations = list(itertools.combinations_with_replacement(range(len(array[-1])), len(array)))\n",
    "\n",
    "    # initializing empty list to store real (feasible) combinations\n",
    "    real_combinations = []\n",
    "\n",
    "    # iterating over all combinations\n",
    "    for i in all_combinations:\n",
    "\n",
    "        # setting a check variable to True for each iteration\n",
    "        check = True\n",
    "\n",
    "        # iterating over each index position to check if they are increasing by more than one (list of indexes along a path in this challenge cannot decrease or increase by more than one step at a time)\n",
    "        for j in range(len(i)):\n",
    "            try:\n",
    "                if i[j] > i[j-1] + 1:\n",
    "                    check = False\n",
    "            except:\n",
    "                continue\n",
    "\n",
    "        # checking if the condition of non-decreasing indexes and 0 as the first index position is met\n",
    "        if check == True and i[0] == 0:\n",
    "            real_combinations.append(i)\n",
    "\n",
    "    # setting variable for maximum weight to zero\n",
    "    max_weight = 0\n",
    "\n",
    "    # iterating over all real (feasible) index combinations and replacing maximum weight if new high watermark is reached\n",
    "    for i in range(len(real_combinations)):\n",
    "        if weight(real_combinations[i]) > max_weight:\n",
    "            max_weight = weight(real_combinations[i])\n",
    "\n",
    "    return max_weight\n",
    "\n",
    "max_path_weight(my_array)"
   ]
  }
 ],
 "metadata": {
  "kernelspec": {
   "display_name": "Python 3",
   "language": "python",
   "name": "python3"
  },
  "language_info": {
   "codemirror_mode": {
    "name": "ipython",
    "version": 3
   },
   "file_extension": ".py",
   "mimetype": "text/x-python",
   "name": "python",
   "nbconvert_exporter": "python",
   "pygments_lexer": "ipython3",
   "version": "3.8.3"
  },
  "varInspector": {
   "cols": {
    "lenName": 16,
    "lenType": 16,
    "lenVar": 40
   },
   "kernels_config": {
    "python": {
     "delete_cmd_postfix": "",
     "delete_cmd_prefix": "del ",
     "library": "var_list.py",
     "varRefreshCmd": "print(var_dic_list())"
    },
    "r": {
     "delete_cmd_postfix": ") ",
     "delete_cmd_prefix": "rm(",
     "library": "var_list.r",
     "varRefreshCmd": "cat(var_dic_list()) "
    }
   },
   "types_to_exclude": [
    "module",
    "function",
    "builtin_function_or_method",
    "instance",
    "_Feature"
   ],
   "window_display": false
  }
 },
 "nbformat": 4,
 "nbformat_minor": 4
}
