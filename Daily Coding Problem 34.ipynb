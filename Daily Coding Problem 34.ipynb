{
 "cells": [
  {
   "cell_type": "markdown",
   "metadata": {},
   "source": [
    "## Daily Coding Problem: Problem #137 [Medium]"
   ]
  },
  {
   "cell_type": "markdown",
   "metadata": {},
   "source": [
    "This problem was asked by Amazon.\n",
    "\n",
    "Implement a bit array.\n",
    "\n",
    "A bit array is a space efficient array that holds a value of 1 or 0 at each index.\n",
    "\n",
    "init(size): initialize the array with size <br>\n",
    "set(i, val): updates index at i with val where val is either 1 or 0. <br>\n",
    "get(i): gets the value at index i."
   ]
  },
  {
   "cell_type": "code",
   "execution_count": 1,
   "metadata": {},
   "outputs": [
    {
     "name": "stdout",
     "output_type": "stream",
     "text": [
      "1\n"
     ]
    }
   ],
   "source": [
    "class bit_array:\n",
    "    def __init__(self, size):\n",
    "        self.list = [None] * size\n",
    "        \n",
    "    def set(self, i, val):\n",
    "        if val == 1 or val == 0:\n",
    "            self.list[i] = val\n",
    "        else:\n",
    "            print(\"Error: val can only be 0 or 1\")\n",
    "            \n",
    "    def get(self, i):\n",
    "        print(self.list[i])\n",
    "        \n",
    "        \n",
    "test = bit_array(10)\n",
    "test.set(i = 0, val = 1)\n",
    "test.set(i = 1, val = 0)\n",
    "test.set(i = 2, val = 1)\n",
    "test.set(i = 3, val = 1)\n",
    "test.get(2)"
   ]
  }
 ],
 "metadata": {
  "kernelspec": {
   "display_name": "Python 3",
   "language": "python",
   "name": "python3"
  },
  "language_info": {
   "codemirror_mode": {
    "name": "ipython",
    "version": 3
   },
   "file_extension": ".py",
   "mimetype": "text/x-python",
   "name": "python",
   "nbconvert_exporter": "python",
   "pygments_lexer": "ipython3",
   "version": "3.8.3"
  },
  "varInspector": {
   "cols": {
    "lenName": 16,
    "lenType": 16,
    "lenVar": 40
   },
   "kernels_config": {
    "python": {
     "delete_cmd_postfix": "",
     "delete_cmd_prefix": "del ",
     "library": "var_list.py",
     "varRefreshCmd": "print(var_dic_list())"
    },
    "r": {
     "delete_cmd_postfix": ") ",
     "delete_cmd_prefix": "rm(",
     "library": "var_list.r",
     "varRefreshCmd": "cat(var_dic_list()) "
    }
   },
   "types_to_exclude": [
    "module",
    "function",
    "builtin_function_or_method",
    "instance",
    "_Feature"
   ],
   "window_display": false
  }
 },
 "nbformat": 4,
 "nbformat_minor": 4
}
