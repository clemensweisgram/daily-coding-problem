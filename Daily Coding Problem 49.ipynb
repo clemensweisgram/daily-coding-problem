{
 "cells": [
  {
   "cell_type": "markdown",
   "metadata": {},
   "source": [
    "## Daily Coding Problem: Problem #156 [Medium]"
   ]
  },
  {
   "cell_type": "markdown",
   "metadata": {},
   "source": [
    "This problem was asked by Facebook.\n",
    "\n",
    "Given a positive integer n, find the smallest number of squared integers which sum to n.\n",
    "\n",
    "For example, given n = 13, return 2 since 13 = $3^{2}$ + $2^{2}$ = 9 + 4.\n",
    "\n",
    "Given n = 27, return 3 since 27 = $3^{2}$ + $3^{2}$ + $3^{2}$ = 9 + 9 + 9."
   ]
  },
  {
   "cell_type": "code",
   "execution_count": 1,
   "metadata": {},
   "outputs": [
    {
     "data": {
      "text/plain": [
       "3"
      ]
     },
     "execution_count": 1,
     "metadata": {},
     "output_type": "execute_result"
    }
   ],
   "source": [
    "import math\n",
    "import itertools\n",
    "\n",
    "my_n = 27\n",
    "\n",
    "# helper function to check whether sum of squares of elements in a list is equal to an integer n\n",
    "def check(n, lst):\n",
    "    \n",
    "    # initializing value at 0\n",
    "    value = 0\n",
    "    \n",
    "    # iterating over each element in list and adding the square of the element to the value\n",
    "    for i in lst:\n",
    "        value += i ** 2\n",
    "    \n",
    "    # checking if value is equal to n\n",
    "    if value == n:\n",
    "        return True\n",
    "    else:\n",
    "        return False\n",
    "    \n",
    "def small_num_sqrt_int(n):\n",
    "    \n",
    "    # initliaizing empty list to store integers\n",
    "    lst = []\n",
    "    \n",
    "    # as the integers need to be squared the alternatives from choosing them are the squareroot of n. Adding them to a list\n",
    "    for j in range(int(round(math.sqrt(n),0)),0,-1):\n",
    "        lst.append(j)\n",
    "\n",
    "    # for the maximum number of possible integers, iterating over the previously created list\n",
    "    for k in range(1,len(lst)+1):\n",
    "        \n",
    "        # creating all possible combinations of integers\n",
    "        combinations = itertools.combinations_with_replacement(iterable = lst, r = k)\n",
    "        \n",
    "        # iterating over each possible combination to check whether sum of the squared integers is equal to n\n",
    "        for i in combinations:\n",
    "            if check(n, list(i)):\n",
    "                return len(i)\n",
    "\n",
    "small_num_sqrt_int(my_n)"
   ]
  }
 ],
 "metadata": {
  "kernelspec": {
   "display_name": "Python 3",
   "language": "python",
   "name": "python3"
  },
  "language_info": {
   "codemirror_mode": {
    "name": "ipython",
    "version": 3
   },
   "file_extension": ".py",
   "mimetype": "text/x-python",
   "name": "python",
   "nbconvert_exporter": "python",
   "pygments_lexer": "ipython3",
   "version": "3.8.3"
  },
  "varInspector": {
   "cols": {
    "lenName": 16,
    "lenType": 16,
    "lenVar": 40
   },
   "kernels_config": {
    "python": {
     "delete_cmd_postfix": "",
     "delete_cmd_prefix": "del ",
     "library": "var_list.py",
     "varRefreshCmd": "print(var_dic_list())"
    },
    "r": {
     "delete_cmd_postfix": ") ",
     "delete_cmd_prefix": "rm(",
     "library": "var_list.r",
     "varRefreshCmd": "cat(var_dic_list()) "
    }
   },
   "types_to_exclude": [
    "module",
    "function",
    "builtin_function_or_method",
    "instance",
    "_Feature"
   ],
   "window_display": false
  }
 },
 "nbformat": 4,
 "nbformat_minor": 4
}
