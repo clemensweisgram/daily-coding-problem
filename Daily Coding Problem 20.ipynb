{
 "cells": [
  {
   "cell_type": "markdown",
   "metadata": {},
   "source": [
    "## Daily Coding Problem: Problem #100 [Easy]"
   ]
  },
  {
   "cell_type": "markdown",
   "metadata": {},
   "source": [
    "This problem was asked by Google.\n",
    "\n",
    "You are in an infinite 2D grid where you can move in any of the 8 directions:\n",
    "\n",
    " (x,y) to\n",
    "    (x+1, y),\n",
    "    (x - 1, y),\n",
    "    (x, y+1),\n",
    "    (x, y-1),\n",
    "    (x-1, y-1),\n",
    "    (x+1,y+1),\n",
    "    (x-1,y+1),\n",
    "    (x+1,y-1)\n",
    "    \n",
    "You are given a sequence of points and the order in which you need to cover the points. Give the minimum number of steps in which you can achieve it. You start from the first point.\n",
    "\n",
    "Example:\n",
    "\n",
    "Input: [(0, 0), (1, 1), (1, 2)] <br>\n",
    "Output: 2 <br><br>\n",
    "It takes 1 step to move from (0, 0) to (1, 1). It takes one more step to move from (1, 1) to (1, 2).\n",
    "\n",
    "\n"
   ]
  },
  {
   "cell_type": "code",
   "execution_count": 1,
   "metadata": {},
   "outputs": [
    {
     "data": {
      "text/plain": [
       "2"
      ]
     },
     "execution_count": 1,
     "metadata": {},
     "output_type": "execute_result"
    }
   ],
   "source": [
    "inpt = [(0, 0), (1, 1), (1, 2)]\n",
    "\n",
    "# initializing count variable at zero\n",
    "count = 0\n",
    "\n",
    "# iterating over each element in input\n",
    "for i in range(1,len(inpt)):\n",
    "    \n",
    "    # adding maximum of x-axis or y-axis steps to the count (as 8-directional movement is allowed this is the easiest way to get Manhattan distance with discrete steps)\n",
    "    count += max(abs(inpt[i][0]-inpt[i-1][0]), abs(inpt[i][1]-inpt[i-1][1]))\n",
    "\n",
    "count"
   ]
  }
 ],
 "metadata": {
  "kernelspec": {
   "display_name": "Python 3",
   "language": "python",
   "name": "python3"
  },
  "language_info": {
   "codemirror_mode": {
    "name": "ipython",
    "version": 3
   },
   "file_extension": ".py",
   "mimetype": "text/x-python",
   "name": "python",
   "nbconvert_exporter": "python",
   "pygments_lexer": "ipython3",
   "version": "3.8.3"
  },
  "varInspector": {
   "cols": {
    "lenName": 16,
    "lenType": 16,
    "lenVar": 40
   },
   "kernels_config": {
    "python": {
     "delete_cmd_postfix": "",
     "delete_cmd_prefix": "del ",
     "library": "var_list.py",
     "varRefreshCmd": "print(var_dic_list())"
    },
    "r": {
     "delete_cmd_postfix": ") ",
     "delete_cmd_prefix": "rm(",
     "library": "var_list.r",
     "varRefreshCmd": "cat(var_dic_list()) "
    }
   },
   "types_to_exclude": [
    "module",
    "function",
    "builtin_function_or_method",
    "instance",
    "_Feature"
   ],
   "window_display": false
  }
 },
 "nbformat": 4,
 "nbformat_minor": 4
}
