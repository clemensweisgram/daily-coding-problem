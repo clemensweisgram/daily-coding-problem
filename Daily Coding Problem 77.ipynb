{
 "cells": [
  {
   "cell_type": "markdown",
   "metadata": {},
   "source": [
    "## Daily Coding Problem: Problem #200 [Hard]"
   ]
  },
  {
   "cell_type": "markdown",
   "metadata": {},
   "source": [
    "This problem was asked by Microsoft.\n",
    "\n",
    "Let X be a set of n intervals on the real line. We say that a set of points P \"stabs\" X if every interval in X contains at least one point in P. Compute the smallest set of points that stabs X.\n",
    "\n",
    "For example, given the intervals [(1, 4), (4, 5), (7, 9), (9, 12)], you should return [4, 9]."
   ]
  },
  {
   "cell_type": "code",
   "execution_count": 1,
   "metadata": {},
   "outputs": [
    {
     "data": {
      "text/plain": [
       "(4, 9)"
      ]
     },
     "execution_count": 1,
     "metadata": {},
     "output_type": "execute_result"
    }
   ],
   "source": [
    "my_X = [(1, 4), (4, 5), (7, 9), (9, 12)]\n",
    "\n",
    "import itertools\n",
    "\n",
    "# helper function to check whether P stabs X\n",
    "def check_X_and_P(X, P):\n",
    "    \n",
    "    # creating a copy of X (because items are removed in next step)\n",
    "    X_copy = X.copy()\n",
    "\n",
    "    # iterating over X\n",
    "    for i in X:\n",
    "        \n",
    "        # iterating over all values in P\n",
    "        for j in P:\n",
    "            \n",
    "            # checking if P stabs X\n",
    "            if i[0] <= j and i[1] >= j:\n",
    "                \n",
    "                # removing the respective element from the copy of X. Wrapped in try/except because for loop iterates over elements in X even though they might not be in the copy of X anymore which can lead to a remove command of an element that is not there anymore\n",
    "                try:\n",
    "                    X_copy.remove(i)\n",
    "                except: \n",
    "                    continue\n",
    "            \n",
    "    return X_copy\n",
    "\n",
    "\n",
    "def minimum_P_stabs_X(X):\n",
    "    \n",
    "    # setting the length of r to one for the first iteration\n",
    "    r = 1\n",
    "    \n",
    "    # setting result variable\n",
    "    result = False\n",
    "\n",
    "    # using result variable as a stopper for while loop\n",
    "    while result == False:\n",
    "        \n",
    "        # creating all possible combinations of numbers for P (with current value of r as length)\n",
    "        combinations = list(itertools.combinations(range(min(min(X)),max(max(X))), r))\n",
    "\n",
    "        # iterating over all combinations\n",
    "        for i in combinations:\n",
    "            \n",
    "            # if the condition of P stabbing X is met for the first time, change the result variable (to stop to while loop) and break out of for loop\n",
    "            if check_X_and_P(X, i) == []:\n",
    "                result = i\n",
    "                break\n",
    "\n",
    "        # increasing length of P by one for next iteration\n",
    "        r += 1\n",
    "    \n",
    "    return result\n",
    "\n",
    "minimum_P_stabs_X(my_X)"
   ]
  }
 ],
 "metadata": {
  "kernelspec": {
   "display_name": "Python 3",
   "language": "python",
   "name": "python3"
  },
  "language_info": {
   "codemirror_mode": {
    "name": "ipython",
    "version": 3
   },
   "file_extension": ".py",
   "mimetype": "text/x-python",
   "name": "python",
   "nbconvert_exporter": "python",
   "pygments_lexer": "ipython3",
   "version": "3.8.3"
  },
  "varInspector": {
   "cols": {
    "lenName": 16,
    "lenType": 16,
    "lenVar": 40
   },
   "kernels_config": {
    "python": {
     "delete_cmd_postfix": "",
     "delete_cmd_prefix": "del ",
     "library": "var_list.py",
     "varRefreshCmd": "print(var_dic_list())"
    },
    "r": {
     "delete_cmd_postfix": ") ",
     "delete_cmd_prefix": "rm(",
     "library": "var_list.r",
     "varRefreshCmd": "cat(var_dic_list()) "
    }
   },
   "types_to_exclude": [
    "module",
    "function",
    "builtin_function_or_method",
    "instance",
    "_Feature"
   ],
   "window_display": false
  }
 },
 "nbformat": 4,
 "nbformat_minor": 4
}
