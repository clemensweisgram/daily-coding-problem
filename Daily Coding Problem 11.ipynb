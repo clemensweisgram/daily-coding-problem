{
 "cells": [
  {
   "cell_type": "markdown",
   "metadata": {},
   "source": [
    "## Daily Coding Problem: Problem #55 [Easy]"
   ]
  },
  {
   "cell_type": "markdown",
   "metadata": {},
   "source": [
    "This problem was asked by Microsoft.\n",
    "\n",
    "Implement a URL shortener with the following methods:\n",
    "\n",
    "shorten(url), which shortens the url into a six-character alphanumeric string, such as zLg6wl. <br>\n",
    "restore(short), which expands the shortened string into the original url. If no such shortened string exists, return null. <br><br>\n",
    "Hint: What if we enter the same URL twice?"
   ]
  },
  {
   "cell_type": "code",
   "execution_count": 59,
   "metadata": {},
   "outputs": [],
   "source": [
    "import pandas as pd\n",
    "import random, string\n",
    "\n",
    "# intializing storage unit for links and shortened strings\n",
    "storage = pd.DataFrame(columns = [\"short\", \"link\"])\n",
    "\n",
    "# creating class\n",
    "class web(object):\n",
    "    \n",
    "    # defining .shorten() method\n",
    "    def shorten(self, url):\n",
    "        \n",
    "        # counting whether url is already shortened\n",
    "        url_count = storage['link'].str.contains(url).sum()\n",
    "        \n",
    "        # if url is not yet in storage\n",
    "        if url_count == 0:\n",
    "            \n",
    "            # setting a seed that is unique for each url by converting the letters to numbers\n",
    "            # converting letters to numbers\n",
    "            seed_list = [ord(char) for char in url]\n",
    "\n",
    "            # joining list elements to single string\n",
    "            my_seed = ''.join(map(str, seed_list))\n",
    "\n",
    "            # setting individual seed per url based on the letters used in url\n",
    "            random.seed(my_seed)\n",
    "\n",
    "            # creating pseudo-random six-character alphanumeric string\n",
    "            x = ''.join(random.choices(string.ascii_letters + string.digits, k=6))\n",
    "\n",
    "            # creating a row with shortened string and url \n",
    "            row = [x, url]\n",
    "            \n",
    "            # adding row to the end of storage \n",
    "            storage.loc[len(storage)] = row\n",
    "            \n",
    "        # if url is already in storage no action is needed\n",
    "        elif url_count > 0:\n",
    "            None        \n",
    "        \n",
    "        # precautious error message if url_count becomes negative\n",
    "        else:\n",
    "            print(\"Error\")\n",
    "    \n",
    "    # defining .restore() method\n",
    "    def restore(self, short):\n",
    "        \n",
    "        # after setting the shortened string as the index, try to find the input in the index values\n",
    "        try:\n",
    "            return storage.set_index('short').loc[short].link\n",
    "        except:\n",
    "            None"
   ]
  },
  {
   "cell_type": "code",
   "execution_count": 60,
   "metadata": {},
   "outputs": [
    {
     "data": {
      "text/html": [
       "<div>\n",
       "<style scoped>\n",
       "    .dataframe tbody tr th:only-of-type {\n",
       "        vertical-align: middle;\n",
       "    }\n",
       "\n",
       "    .dataframe tbody tr th {\n",
       "        vertical-align: top;\n",
       "    }\n",
       "\n",
       "    .dataframe thead th {\n",
       "        text-align: right;\n",
       "    }\n",
       "</style>\n",
       "<table border=\"1\" class=\"dataframe\">\n",
       "  <thead>\n",
       "    <tr style=\"text-align: right;\">\n",
       "      <th></th>\n",
       "      <th>short</th>\n",
       "      <th>link</th>\n",
       "    </tr>\n",
       "  </thead>\n",
       "  <tbody>\n",
       "    <tr>\n",
       "      <th>0</th>\n",
       "      <td>120UAN</td>\n",
       "      <td>www.google.com</td>\n",
       "    </tr>\n",
       "    <tr>\n",
       "      <th>1</th>\n",
       "      <td>L3mkmW</td>\n",
       "      <td>www.yahoo.com</td>\n",
       "    </tr>\n",
       "  </tbody>\n",
       "</table>\n",
       "</div>"
      ],
      "text/plain": [
       "    short            link\n",
       "0  120UAN  www.google.com\n",
       "1  L3mkmW   www.yahoo.com"
      ]
     },
     "execution_count": 60,
     "metadata": {},
     "output_type": "execute_result"
    }
   ],
   "source": [
    "# instantiating class\n",
    "URL = web()\n",
    "\n",
    "# calling .shorten() method\n",
    "URL.shorten(url = \"www.google.com\")\n",
    "URL.shorten(url = \"www.yahoo.com\")\n",
    "\n",
    "# printing storage to check \n",
    "storage"
   ]
  },
  {
   "cell_type": "code",
   "execution_count": 65,
   "metadata": {},
   "outputs": [
    {
     "data": {
      "text/plain": [
       "'www.google.com'"
      ]
     },
     "execution_count": 65,
     "metadata": {},
     "output_type": "execute_result"
    }
   ],
   "source": [
    "# calling .restore() method\n",
    "URL.restore(short = \"120UAN\")"
   ]
  }
 ],
 "metadata": {
  "kernelspec": {
   "display_name": "Python 3",
   "language": "python",
   "name": "python3"
  },
  "language_info": {
   "codemirror_mode": {
    "name": "ipython",
    "version": 3
   },
   "file_extension": ".py",
   "mimetype": "text/x-python",
   "name": "python",
   "nbconvert_exporter": "python",
   "pygments_lexer": "ipython3",
   "version": "3.8.3"
  },
  "varInspector": {
   "cols": {
    "lenName": 16,
    "lenType": 16,
    "lenVar": 40
   },
   "kernels_config": {
    "python": {
     "delete_cmd_postfix": "",
     "delete_cmd_prefix": "del ",
     "library": "var_list.py",
     "varRefreshCmd": "print(var_dic_list())"
    },
    "r": {
     "delete_cmd_postfix": ") ",
     "delete_cmd_prefix": "rm(",
     "library": "var_list.r",
     "varRefreshCmd": "cat(var_dic_list()) "
    }
   },
   "types_to_exclude": [
    "module",
    "function",
    "builtin_function_or_method",
    "instance",
    "_Feature"
   ],
   "window_display": false
  }
 },
 "nbformat": 4,
 "nbformat_minor": 4
}
