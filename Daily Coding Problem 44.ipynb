{
 "cells": [
  {
   "cell_type": "markdown",
   "metadata": {},
   "source": [
    "## Daily Coding Problem: Problem #150 [Hard]"
   ]
  },
  {
   "cell_type": "markdown",
   "metadata": {},
   "source": [
    "This problem was asked by LinkedIn.\n",
    "\n",
    "Given a list of points, a central point, and an integer k, find the nearest k points from the central point.\n",
    "\n",
    "For example, given the list of points [(0, 0), (5, 4), (3, 1)], the central point (1, 2), and k = 2, return [(0, 0), (3, 1)]."
   ]
  },
  {
   "cell_type": "code",
   "execution_count": 1,
   "metadata": {},
   "outputs": [
    {
     "data": {
      "text/plain": [
       "[(0, 0), (3, 1)]"
      ]
     },
     "execution_count": 1,
     "metadata": {},
     "output_type": "execute_result"
    }
   ],
   "source": [
    "my_points = [(0, 0), (5, 4), (3, 1)]\n",
    "my_central_point = (1, 2)\n",
    "my_k = 2\n",
    "\n",
    "# assumption which kind of distance: Chebyshev distance (chessboard distance)\n",
    "\n",
    "def nearest_points(points, central_point, k):\n",
    "    \n",
    "    # initializing empty dictionary to store points with their distance from central point\n",
    "    distances = {}\n",
    "\n",
    "    # iterating over each point\n",
    "    for i in points:\n",
    "        \n",
    "        # add dictionary entry for every point with distance\n",
    "        distances[i] = max(abs(i[0]-central_point[0]), abs(i[1]-central_point[1])) # distance is caluclated as the maximum of the horizontal or vertical difference of the two points (corresponds with Chebyshev distance)\n",
    "\n",
    "    # sort distances\n",
    "    sorted_dict = sorted(distances)\n",
    "    \n",
    "    # return lowest k distances as nearest points to central point\n",
    "    return sorted_dict[:k]\n",
    "\n",
    "\n",
    "nearest_points(my_points, my_central_point, my_k)"
   ]
  }
 ],
 "metadata": {
  "kernelspec": {
   "display_name": "Python 3",
   "language": "python",
   "name": "python3"
  },
  "language_info": {
   "codemirror_mode": {
    "name": "ipython",
    "version": 3
   },
   "file_extension": ".py",
   "mimetype": "text/x-python",
   "name": "python",
   "nbconvert_exporter": "python",
   "pygments_lexer": "ipython3",
   "version": "3.8.3"
  },
  "varInspector": {
   "cols": {
    "lenName": 16,
    "lenType": 16,
    "lenVar": 40
   },
   "kernels_config": {
    "python": {
     "delete_cmd_postfix": "",
     "delete_cmd_prefix": "del ",
     "library": "var_list.py",
     "varRefreshCmd": "print(var_dic_list())"
    },
    "r": {
     "delete_cmd_postfix": ") ",
     "delete_cmd_prefix": "rm(",
     "library": "var_list.r",
     "varRefreshCmd": "cat(var_dic_list()) "
    }
   },
   "types_to_exclude": [
    "module",
    "function",
    "builtin_function_or_method",
    "instance",
    "_Feature"
   ],
   "window_display": false
  }
 },
 "nbformat": 4,
 "nbformat_minor": 4
}
