{
 "cells": [
  {
   "cell_type": "markdown",
   "metadata": {},
   "source": [
    "## Daily Coding Problem: Problem #170 [Medium]"
   ]
  },
  {
   "cell_type": "markdown",
   "metadata": {},
   "source": [
    "Given a start word, an end word, and a dictionary of valid words, find the shortest transformation sequence from start to end such that only one letter is changed at each step of the sequence, and each transformed word exists in the dictionary. If there is no possible transformation, return null. Each word in the dictionary have the same length as start and end and is lowercase.\n",
    "\n",
    "For example, given start = \"dog\", end = \"cat\", and dictionary = {\"dot\", \"dop\", \"dat\", \"cat\"}, return [\"dog\", \"dot\", \"dat\", \"cat\"].\n",
    "\n",
    "Given start = \"dog\", end = \"cat\", and dictionary = {\"dot\", \"tod\", \"dat\", \"dar\"}, return null as there is no possible transformation from dog to cat."
   ]
  },
  {
   "cell_type": "code",
   "execution_count": 3,
   "metadata": {},
   "outputs": [
    {
     "data": {
      "text/plain": [
       "False"
      ]
     },
     "execution_count": 3,
     "metadata": {},
     "output_type": "execute_result"
    }
   ],
   "source": [
    "my_start = \"dog\"\n",
    "my_end = \"cat\"\n",
    "my_dictionary = {\"dot\", \"dop\", \"dat\", \"cat\"}\n",
    "\n",
    "# importing time and setting limit for calculation (used to break out of while loop)\n",
    "import time\n",
    "timeout = time.time() + 3   # 3 seconds from now\n",
    "\n",
    "# helper function to check how many characters are different in two strings\n",
    "def two_word_check(word1, word2):\n",
    "    \n",
    "    # initializing counter for different characters\n",
    "    dif_count = 0\n",
    "    \n",
    "    # iterating over each character in word (both words have same length)\n",
    "    for i in range(len(word1)):\n",
    "        \n",
    "        # continue if the character is in the other word\n",
    "        if word1[i] in word2:\n",
    "            continue\n",
    "        \n",
    "        # else increase the counter\n",
    "        else:\n",
    "            dif_count += 1\n",
    "\n",
    "    # if only one character is different, return True\n",
    "    if dif_count == 1:\n",
    "        return True\n",
    "    else:\n",
    "        return False\n",
    "    \n",
    "    \n",
    "def my_function(start, end, dictionary):\n",
    "    \n",
    "    # initializing empty list to store result\n",
    "    result = []\n",
    "\n",
    "    # appending start word to result list\n",
    "    result.append(start)\n",
    "\n",
    "    # iterating as long as the last element in result list is not equal to the end word or timeout has occured\n",
    "    while result[-1] != end:\n",
    "        if time.time() > timeout:\n",
    "            break\n",
    "        else:\n",
    "            \n",
    "            # iterating over dictionary to find words that have one character difference + appending it to results list + removing it from dictionary (to avoid using it again)\n",
    "            for i in dictionary:\n",
    "                if two_word_check(i, result[-1]):\n",
    "                    result.append(i)\n",
    "                    dictionary.remove(i)\n",
    "                    break\n",
    "\n",
    "    # if result list actually has end word as last element return result list, else return False\n",
    "    if result[-1] == end:\n",
    "        return result\n",
    "    else:\n",
    "        return False\n",
    "    \n",
    "my_function(my_start, my_end, my_dictionary)"
   ]
  }
 ],
 "metadata": {
  "kernelspec": {
   "display_name": "Python 3",
   "language": "python",
   "name": "python3"
  },
  "language_info": {
   "codemirror_mode": {
    "name": "ipython",
    "version": 3
   },
   "file_extension": ".py",
   "mimetype": "text/x-python",
   "name": "python",
   "nbconvert_exporter": "python",
   "pygments_lexer": "ipython3",
   "version": "3.8.3"
  },
  "varInspector": {
   "cols": {
    "lenName": 16,
    "lenType": 16,
    "lenVar": 40
   },
   "kernels_config": {
    "python": {
     "delete_cmd_postfix": "",
     "delete_cmd_prefix": "del ",
     "library": "var_list.py",
     "varRefreshCmd": "print(var_dic_list())"
    },
    "r": {
     "delete_cmd_postfix": ") ",
     "delete_cmd_prefix": "rm(",
     "library": "var_list.r",
     "varRefreshCmd": "cat(var_dic_list()) "
    }
   },
   "types_to_exclude": [
    "module",
    "function",
    "builtin_function_or_method",
    "instance",
    "_Feature"
   ],
   "window_display": false
  }
 },
 "nbformat": 4,
 "nbformat_minor": 4
}
